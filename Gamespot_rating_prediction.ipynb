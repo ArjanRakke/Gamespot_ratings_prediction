{
 "cells": [
  {
   "cell_type": "markdown",
   "id": "24860bce",
   "metadata": {},
   "source": [
    "# Introduction\n",
    "\n",
    "Many people play games. These games could be something like an adventure game, an action game or just a simple puzzle game. Everyone has their own taste in what games they like, but pretty much everyone agrees that the game that they want to play has to be good and fun to play. For this reason game reviews exist. Game reviews are a way for the consumer to read up about a certain game they want to play and see if the game will be worth their time or not. These reviews usually go together with a numerical rating from 1 to 10 to show how good the game is, with 1 being the worst rating and 10 being the best.\n",
    "\n",
    "But what influences this rating? What factors affect the kind of rating a game gets? In this Notebook I will predict the rating of games.\n",
    "\n",
    "In order to predict the rating I will use game, review and release data collected from the [Gamespot API](https://www.gamespot.com/api/documentation#toc-0-0). Gamespot is a game review website that makes reviews done by professional game reviewers."
   ]
  },
  {
   "cell_type": "markdown",
   "id": "e7b2f284",
   "metadata": {},
   "source": [
    "# Data collection\n",
    "\n",
    "Before we can do any form of analysis we have to collect our data first and install the necessary libraries. So let's do that first!"
   ]
  },
  {
   "cell_type": "markdown",
   "id": "6d54a250",
   "metadata": {},
   "source": [
    "These are the libraries that I will make use of in this Notebook."
   ]
  },
  {
   "cell_type": "code",
   "execution_count": 24,
   "id": "c3030d18",
   "metadata": {},
   "outputs": [],
   "source": [
    "import pandas as pd\n",
    "import requests\n",
    "import json\n",
    "from datetime import datetime as dt\n",
    "from functools import reduce\n",
    "import statistics as st\n",
    "import seaborn as sb\n",
    "import matplotlib.pyplot as plt\n",
    "import math\n",
    "from sklearn.model_selection import train_test_split\n",
    "from sklearn.linear_model import LinearRegression\n",
    "from sklearn.preprocessing import PolynomialFeatures\n",
    "from sklearn.metrics import mean_squared_error\n",
    "from sklearn.metrics import r2_score"
   ]
  },
  {
   "cell_type": "markdown",
   "id": "306c3458",
   "metadata": {},
   "source": [
    "To make use of the Gamespot API I have to define a personal User-Agent so that any request I make will not be blocked. I have chosen the name DataLearning, but it can be whatever name you want it to be. Furthermore I have to acquire an API token to be able to use the API. \n",
    "\n",
    "The API token has been purposefully omitted from view. You'll have to put in your own token if you want to make use of this notebook. You can request an API token here [Grab an API key](https://www.gamespot.com/api/)"
   ]
  },
  {
   "cell_type": "code",
   "execution_count": 2,
   "id": "78430931",
   "metadata": {},
   "outputs": [],
   "source": [
    "# Create a unique User-Agent so that the API-calls aren't blocked\n",
    "headers = {\"User-Agent\" : \"DataLearning\"}\n",
    "\n",
    "# The token that is required for the API\n",
    "api_key = \"OMITTED\" #The API key is not visible for security reasons."
   ]
  },
  {
   "cell_type": "markdown",
   "id": "52497f6f",
   "metadata": {},
   "source": [
    "In order to get the data that I want I have to set up three urls that will be used to make requests and collect data. These urls will be used to gather game data, review data and release data."
   ]
  },
  {
   "cell_type": "code",
   "execution_count": 3,
   "id": "38b9a811",
   "metadata": {},
   "outputs": [],
   "source": [
    "# Set up API call for games\n",
    "url_games = \"http://www.gamespot.com/api/games/\"\n",
    "# Set up API call for reviews\n",
    "url_reviews = \"http://www.gamespot.com/api/reviews/\"\n",
    "# Set up API call for releases\n",
    "url_releases = \"http://www.gamespot.com/api/releases/\""
   ]
  },
  {
   "cell_type": "markdown",
   "id": "5e687cf3",
   "metadata": {},
   "source": [
    "In order to get the data in the desired format I have to setup some parameters. The API allowed me to setup a field_list in which I could declare which fields I wanted to collect as to reduce the response time. I wanted to make use of this so that I would only have the fields that I found interesting. Sadly when setting up a field_list for the game data and release data it didn't work as intended so I had to select all the possible fields. The review data field_list worked perfectly fine however so I was able to select the fields I needed."
   ]
  },
  {
   "cell_type": "code",
   "execution_count": 4,
   "id": "158c7b0a",
   "metadata": {},
   "outputs": [],
   "source": [
    "# Set paremeters to give the API-calls\n",
    "parameters = {\n",
    "        \"api_key\" : api_key,\n",
    "        \"offset\" : 0,\n",
    "        \"limit\" : 100,\n",
    "        \"format\" : \"json\"\n",
    "    } \n",
    "\n",
    "# Set specific parameters for the reviews api\n",
    "parameters_reviews = {\n",
    "        \"api_key\" : api_key,\n",
    "        \"field_list\" : \"title,score\",\n",
    "        \"offset\" : 0,\n",
    "        \"limit\" : 100,\n",
    "        \"format\" : \"json\"\n",
    "    }"
   ]
  },
  {
   "cell_type": "markdown",
   "id": "217da011",
   "metadata": {},
   "source": [
    "Now that the urls and parameters have been setup I can collect the data I want. In order to collect more than 100 results I have created a loop that increases the offset by 100 each time after a request has been made. The reason I'm increasing the offset each time is because it allows me to get new data every time I do a request. If I do not increase the offset I would just get the same data each time I do a request, and that is not someting I want to happen.\n",
    "\n",
    "I'm collecting a lot of data by doing multiple requests on three different API's so running this loop can take quite some time."
   ]
  },
  {
   "cell_type": "code",
   "execution_count": 40,
   "id": "42f78d9f",
   "metadata": {},
   "outputs": [],
   "source": [
    "games = pd.DataFrame()\n",
    "releases = pd.DataFrame()\n",
    "reviews = pd.Dataframe()\n",
    "\n",
    "# Loop to increment the offset in order to get more than 100 results\n",
    "for i in range(1000):\n",
    "    response_games = requests.get(url_games, params=parameters, headers=headers)\n",
    "    response_releases = requests.get(url_releases, params=parameters, headers=headers)\n",
    "    response_reviews = requests.get(url_reviews, params=parameters_reviews, headers=headers)\n",
    "    \n",
    "    api_data_games = json.loads(response_games.content)\n",
    "    api_data_releases = json.loads(response_releases.content)\n",
    "    api_data_reviews = json.loads(response_reviews.content)\n",
    "\n",
    "    games = games.append(api_data_games[\"results\"])\n",
    "    releases = releases.append(api_data_releases[\"results\"])\n",
    "    reviews = reviews.append(api_data_reviews[\"results\"])\n",
    "    \n",
    "    parameters[\"offset\"] += 100\n",
    "    parameters_reviews[\"offset\"] += 100\n",
    "    \n",
    "# Resets the index to avoid duplicate indexes \n",
    "games = games.reset_index(drop=True)\n",
    "releases = releases.reset_index(drop=True)\n",
    "reviews = reviews.reset_index(drop=True)"
   ]
  },
  {
   "cell_type": "markdown",
   "id": "b6761a8c",
   "metadata": {},
   "source": [
    "Now that I have the data, Let's write it to a csv. I'm doing this because then I won't have to rely on the API anymore to get my data and won't have to run it again and wait long times for the data to be available. Also I find it better to store the collected data in a csv because if the API is unavailabe for some reason I would still have a dataset to work with."
   ]
  },
  {
   "cell_type": "code",
   "execution_count": 41,
   "id": "9fe13e6c",
   "metadata": {},
   "outputs": [],
   "source": [
    "# Write the data to csv\n",
    "games.to_csv(\"gamespot_games.csv\", index=False)\n",
    "releases.to_csv(\"gamespot_releases.csv\", index=False)\n",
    "reviews.to_csv(\"gamespot_reviews.csv\", index=False)"
   ]
  },
  {
   "cell_type": "markdown",
   "id": "728e4494",
   "metadata": {},
   "source": [
    "# Data merging and cleaning\n",
    "\n",
    "Now that we have collected the data, let's prepare it for analysis by merging, inspecting and cleaning the data.\n",
    "\n",
    "Let's see what data we have."
   ]
  },
  {
   "cell_type": "code",
   "execution_count": 3,
   "id": "62e2d4ab",
   "metadata": {},
   "outputs": [],
   "source": [
    "gamespot_games = pd.read_csv(\"gamespot_games.csv\")"
   ]
  },
  {
   "cell_type": "code",
   "execution_count": 4,
   "id": "5041696c",
   "metadata": {
    "scrolled": false
   },
   "outputs": [
    {
     "data": {
      "text/html": [
       "<div>\n",
       "<style scoped>\n",
       "    .dataframe tbody tr th:only-of-type {\n",
       "        vertical-align: middle;\n",
       "    }\n",
       "\n",
       "    .dataframe tbody tr th {\n",
       "        vertical-align: top;\n",
       "    }\n",
       "\n",
       "    .dataframe thead th {\n",
       "        text-align: right;\n",
       "    }\n",
       "</style>\n",
       "<table border=\"1\" class=\"dataframe\">\n",
       "  <thead>\n",
       "    <tr style=\"text-align: right;\">\n",
       "      <th></th>\n",
       "      <th>release_date</th>\n",
       "      <th>description</th>\n",
       "      <th>id</th>\n",
       "      <th>name</th>\n",
       "      <th>deck</th>\n",
       "      <th>image</th>\n",
       "      <th>genres</th>\n",
       "      <th>themes</th>\n",
       "      <th>franchises</th>\n",
       "      <th>images_api_url</th>\n",
       "      <th>reviews_api_url</th>\n",
       "      <th>articles_api_url</th>\n",
       "      <th>videos_api_url</th>\n",
       "      <th>releases_api_url</th>\n",
       "      <th>site_detail_url</th>\n",
       "    </tr>\n",
       "  </thead>\n",
       "  <tbody>\n",
       "    <tr>\n",
       "      <th>0</th>\n",
       "      <td>1995-09-26 12:00:00</td>\n",
       "      <td>Welcome to the New World Order. A gritty high ...</td>\n",
       "      <td>1</td>\n",
       "      <td>Command &amp; Conquer</td>\n",
       "      <td>Overall Command &amp; Conquer is a great strategy ...</td>\n",
       "      <td>{'square_tiny': 'https://www.gamespot.com/a/up...</td>\n",
       "      <td>[{'name': 'Real-Time'}, {'name': 'Strategy'}]</td>\n",
       "      <td>[{'name': 'Sci-Fi'}]</td>\n",
       "      <td>[{'name': 'Command &amp; Conquer'}]</td>\n",
       "      <td>https://www.gamespot.com/api/images/?filter=as...</td>\n",
       "      <td>https://www.gamespot.com/api/reviews/?filter=a...</td>\n",
       "      <td>https://www.gamespot.com/api/articles/?filter=...</td>\n",
       "      <td>https://www.gamespot.com/api/videos/?filter=as...</td>\n",
       "      <td>https://www.gamespot.com/api/releases/?filter=...</td>\n",
       "      <td>https://www.gamespot.com/command-and-conquer/</td>\n",
       "    </tr>\n",
       "    <tr>\n",
       "      <th>1</th>\n",
       "      <td>1996-03-31 12:00:00</td>\n",
       "      <td>NaN</td>\n",
       "      <td>2</td>\n",
       "      <td>Return of Arcade</td>\n",
       "      <td>For nostalgia buffs, these old games are worth...</td>\n",
       "      <td>{'square_tiny': 'https://www.gamespot.com/a/up...</td>\n",
       "      <td>[{'name': 'Compilation'}]</td>\n",
       "      <td>[]</td>\n",
       "      <td>[{'name': 'Microsoft Arcade'}]</td>\n",
       "      <td>https://www.gamespot.com/api/images/?filter=as...</td>\n",
       "      <td>https://www.gamespot.com/api/reviews/?filter=a...</td>\n",
       "      <td>https://www.gamespot.com/api/articles/?filter=...</td>\n",
       "      <td>https://www.gamespot.com/api/videos/?filter=as...</td>\n",
       "      <td>https://www.gamespot.com/api/releases/?filter=...</td>\n",
       "      <td>https://www.gamespot.com/return-of-arcade/</td>\n",
       "    </tr>\n",
       "    <tr>\n",
       "      <th>2</th>\n",
       "      <td>1995-11-30 12:00:00</td>\n",
       "      <td>From the combined talents of LucasArts and leg...</td>\n",
       "      <td>3</td>\n",
       "      <td>The Dig</td>\n",
       "      <td>In almost every sense, The Dig represents a le...</td>\n",
       "      <td>{'square_tiny': 'https://www.gamespot.com/a/up...</td>\n",
       "      <td>[{'name': 'Adventure'}]</td>\n",
       "      <td>[]</td>\n",
       "      <td>[]</td>\n",
       "      <td>https://www.gamespot.com/api/images/?filter=as...</td>\n",
       "      <td>https://www.gamespot.com/api/reviews/?filter=a...</td>\n",
       "      <td>https://www.gamespot.com/api/articles/?filter=...</td>\n",
       "      <td>https://www.gamespot.com/api/videos/?filter=as...</td>\n",
       "      <td>https://www.gamespot.com/api/releases/?filter=...</td>\n",
       "      <td>https://www.gamespot.com/the-dig/</td>\n",
       "    </tr>\n",
       "    <tr>\n",
       "      <th>3</th>\n",
       "      <td>1995-11-30 12:00:00</td>\n",
       "      <td>NaN</td>\n",
       "      <td>4</td>\n",
       "      <td>Mission Critical</td>\n",
       "      <td>Put simply, Mission Critical was one of the be...</td>\n",
       "      <td>{'square_tiny': 'https://www.gamespot.com/a/up...</td>\n",
       "      <td>[{'name': 'Adventure'}]</td>\n",
       "      <td>[]</td>\n",
       "      <td>[]</td>\n",
       "      <td>https://www.gamespot.com/api/images/?filter=as...</td>\n",
       "      <td>https://www.gamespot.com/api/reviews/?filter=a...</td>\n",
       "      <td>https://www.gamespot.com/api/articles/?filter=...</td>\n",
       "      <td>https://www.gamespot.com/api/videos/?filter=as...</td>\n",
       "      <td>https://www.gamespot.com/api/releases/?filter=...</td>\n",
       "      <td>https://www.gamespot.com/mission-critical/</td>\n",
       "    </tr>\n",
       "    <tr>\n",
       "      <th>4</th>\n",
       "      <td>1996-06-30 12:00:00</td>\n",
       "      <td>NaN</td>\n",
       "      <td>5</td>\n",
       "      <td>Links LS: Legends in Sports 1997 Edition</td>\n",
       "      <td>With this update, Links LS can rightfully recl...</td>\n",
       "      <td>{'original': 'https://www.gamespot.com/a/uploa...</td>\n",
       "      <td>[{'name': 'Golf'}, {'name': 'Simulation'}, {'n...</td>\n",
       "      <td>[]</td>\n",
       "      <td>[{'name': 'Links Golf'}]</td>\n",
       "      <td>https://www.gamespot.com/api/images/?filter=as...</td>\n",
       "      <td>https://www.gamespot.com/api/reviews/?filter=a...</td>\n",
       "      <td>https://www.gamespot.com/api/articles/?filter=...</td>\n",
       "      <td>https://www.gamespot.com/api/videos/?filter=as...</td>\n",
       "      <td>https://www.gamespot.com/api/releases/?filter=...</td>\n",
       "      <td>https://www.gamespot.com/links-ls-legends-in-s...</td>\n",
       "    </tr>\n",
       "  </tbody>\n",
       "</table>\n",
       "</div>"
      ],
      "text/plain": [
       "          release_date                                        description  id  \\\n",
       "0  1995-09-26 12:00:00  Welcome to the New World Order. A gritty high ...   1   \n",
       "1  1996-03-31 12:00:00                                                NaN   2   \n",
       "2  1995-11-30 12:00:00  From the combined talents of LucasArts and leg...   3   \n",
       "3  1995-11-30 12:00:00                                                NaN   4   \n",
       "4  1996-06-30 12:00:00                                                NaN   5   \n",
       "\n",
       "                                       name  \\\n",
       "0                         Command & Conquer   \n",
       "1                          Return of Arcade   \n",
       "2                                   The Dig   \n",
       "3                          Mission Critical   \n",
       "4  Links LS: Legends in Sports 1997 Edition   \n",
       "\n",
       "                                                deck  \\\n",
       "0  Overall Command & Conquer is a great strategy ...   \n",
       "1  For nostalgia buffs, these old games are worth...   \n",
       "2  In almost every sense, The Dig represents a le...   \n",
       "3  Put simply, Mission Critical was one of the be...   \n",
       "4  With this update, Links LS can rightfully recl...   \n",
       "\n",
       "                                               image  \\\n",
       "0  {'square_tiny': 'https://www.gamespot.com/a/up...   \n",
       "1  {'square_tiny': 'https://www.gamespot.com/a/up...   \n",
       "2  {'square_tiny': 'https://www.gamespot.com/a/up...   \n",
       "3  {'square_tiny': 'https://www.gamespot.com/a/up...   \n",
       "4  {'original': 'https://www.gamespot.com/a/uploa...   \n",
       "\n",
       "                                              genres                themes  \\\n",
       "0      [{'name': 'Real-Time'}, {'name': 'Strategy'}]  [{'name': 'Sci-Fi'}]   \n",
       "1                          [{'name': 'Compilation'}]                    []   \n",
       "2                            [{'name': 'Adventure'}]                    []   \n",
       "3                            [{'name': 'Adventure'}]                    []   \n",
       "4  [{'name': 'Golf'}, {'name': 'Simulation'}, {'n...                    []   \n",
       "\n",
       "                        franchises  \\\n",
       "0  [{'name': 'Command & Conquer'}]   \n",
       "1   [{'name': 'Microsoft Arcade'}]   \n",
       "2                               []   \n",
       "3                               []   \n",
       "4         [{'name': 'Links Golf'}]   \n",
       "\n",
       "                                      images_api_url  \\\n",
       "0  https://www.gamespot.com/api/images/?filter=as...   \n",
       "1  https://www.gamespot.com/api/images/?filter=as...   \n",
       "2  https://www.gamespot.com/api/images/?filter=as...   \n",
       "3  https://www.gamespot.com/api/images/?filter=as...   \n",
       "4  https://www.gamespot.com/api/images/?filter=as...   \n",
       "\n",
       "                                     reviews_api_url  \\\n",
       "0  https://www.gamespot.com/api/reviews/?filter=a...   \n",
       "1  https://www.gamespot.com/api/reviews/?filter=a...   \n",
       "2  https://www.gamespot.com/api/reviews/?filter=a...   \n",
       "3  https://www.gamespot.com/api/reviews/?filter=a...   \n",
       "4  https://www.gamespot.com/api/reviews/?filter=a...   \n",
       "\n",
       "                                    articles_api_url  \\\n",
       "0  https://www.gamespot.com/api/articles/?filter=...   \n",
       "1  https://www.gamespot.com/api/articles/?filter=...   \n",
       "2  https://www.gamespot.com/api/articles/?filter=...   \n",
       "3  https://www.gamespot.com/api/articles/?filter=...   \n",
       "4  https://www.gamespot.com/api/articles/?filter=...   \n",
       "\n",
       "                                      videos_api_url  \\\n",
       "0  https://www.gamespot.com/api/videos/?filter=as...   \n",
       "1  https://www.gamespot.com/api/videos/?filter=as...   \n",
       "2  https://www.gamespot.com/api/videos/?filter=as...   \n",
       "3  https://www.gamespot.com/api/videos/?filter=as...   \n",
       "4  https://www.gamespot.com/api/videos/?filter=as...   \n",
       "\n",
       "                                    releases_api_url  \\\n",
       "0  https://www.gamespot.com/api/releases/?filter=...   \n",
       "1  https://www.gamespot.com/api/releases/?filter=...   \n",
       "2  https://www.gamespot.com/api/releases/?filter=...   \n",
       "3  https://www.gamespot.com/api/releases/?filter=...   \n",
       "4  https://www.gamespot.com/api/releases/?filter=...   \n",
       "\n",
       "                                     site_detail_url  \n",
       "0      https://www.gamespot.com/command-and-conquer/  \n",
       "1         https://www.gamespot.com/return-of-arcade/  \n",
       "2                  https://www.gamespot.com/the-dig/  \n",
       "3         https://www.gamespot.com/mission-critical/  \n",
       "4  https://www.gamespot.com/links-ls-legends-in-s...  "
      ]
     },
     "execution_count": 4,
     "metadata": {},
     "output_type": "execute_result"
    }
   ],
   "source": [
    "gamespot_games.head()"
   ]
  },
  {
   "cell_type": "code",
   "execution_count": 5,
   "id": "7be80489",
   "metadata": {},
   "outputs": [
    {
     "name": "stdout",
     "output_type": "stream",
     "text": [
      "<class 'pandas.core.frame.DataFrame'>\n",
      "RangeIndex: 20000 entries, 0 to 19999\n",
      "Data columns (total 15 columns):\n",
      " #   Column            Non-Null Count  Dtype \n",
      "---  ------            --------------  ----- \n",
      " 0   release_date      20000 non-null  object\n",
      " 1   description       10986 non-null  object\n",
      " 2   id                20000 non-null  int64 \n",
      " 3   name              20000 non-null  object\n",
      " 4   deck              7371 non-null   object\n",
      " 5   image             20000 non-null  object\n",
      " 6   genres            20000 non-null  object\n",
      " 7   themes            20000 non-null  object\n",
      " 8   franchises        20000 non-null  object\n",
      " 9   images_api_url    20000 non-null  object\n",
      " 10  reviews_api_url   20000 non-null  object\n",
      " 11  articles_api_url  20000 non-null  object\n",
      " 12  videos_api_url    20000 non-null  object\n",
      " 13  releases_api_url  20000 non-null  object\n",
      " 14  site_detail_url   20000 non-null  object\n",
      "dtypes: int64(1), object(14)\n",
      "memory usage: 2.3+ MB\n"
     ]
    }
   ],
   "source": [
    "gamespot_games.info()"
   ]
  },
  {
   "cell_type": "code",
   "execution_count": 9,
   "id": "d6e3ffa1",
   "metadata": {},
   "outputs": [],
   "source": [
    "gamespot_releases = pd.read_csv(\"gamespot_releases.csv\")"
   ]
  },
  {
   "cell_type": "code",
   "execution_count": 10,
   "id": "e90422cc",
   "metadata": {
    "scrolled": true
   },
   "outputs": [
    {
     "data": {
      "text/html": [
       "<div>\n",
       "<style scoped>\n",
       "    .dataframe tbody tr th:only-of-type {\n",
       "        vertical-align: middle;\n",
       "    }\n",
       "\n",
       "    .dataframe tbody tr th {\n",
       "        vertical-align: top;\n",
       "    }\n",
       "\n",
       "    .dataframe thead th {\n",
       "        text-align: right;\n",
       "    }\n",
       "</style>\n",
       "<table border=\"1\" class=\"dataframe\">\n",
       "  <thead>\n",
       "    <tr style=\"text-align: right;\">\n",
       "      <th></th>\n",
       "      <th>upc</th>\n",
       "      <th>release_date</th>\n",
       "      <th>distribution_type</th>\n",
       "      <th>id</th>\n",
       "      <th>name</th>\n",
       "      <th>region</th>\n",
       "      <th>rating</th>\n",
       "      <th>platform</th>\n",
       "      <th>game_api_url</th>\n",
       "      <th>reviews_api_url</th>\n",
       "      <th>articles_api_url</th>\n",
       "      <th>videos_api_url</th>\n",
       "      <th>images_api_url</th>\n",
       "      <th>association</th>\n",
       "      <th>publishers</th>\n",
       "      <th>developers</th>\n",
       "    </tr>\n",
       "  </thead>\n",
       "  <tbody>\n",
       "    <tr>\n",
       "      <th>0</th>\n",
       "      <td>5028587080975.0</td>\n",
       "      <td>1996-12-31 12:00:00</td>\n",
       "      <td>Retail</td>\n",
       "      <td>1</td>\n",
       "      <td>Command &amp; Conquer</td>\n",
       "      <td>Europe</td>\n",
       "      <td>{'name': 'PEGI: 16+', 'descriptors': 'Violence'}</td>\n",
       "      <td>PlayStation</td>\n",
       "      <td>https://www.gamespot.com/api/games/?filter=id%3A1</td>\n",
       "      <td>https://www.gamespot.com/api/reviews/?filter=a...</td>\n",
       "      <td>https://www.gamespot.com/api/articles/?filter=...</td>\n",
       "      <td>https://www.gamespot.com/api/videos/?filter=as...</td>\n",
       "      <td>https://www.gamespot.com/api/images/?filter=as...</td>\n",
       "      <td>5000-1</td>\n",
       "      <td>[{'name': 'Westwood Studios'}, {'name': 'Ninte...</td>\n",
       "      <td>[{'name': 'Westwood Studios'}, {'name': 'Looki...</td>\n",
       "    </tr>\n",
       "    <tr>\n",
       "      <th>1</th>\n",
       "      <td>4992713021846.0</td>\n",
       "      <td>1998-04-16 12:00:00</td>\n",
       "      <td>Retail</td>\n",
       "      <td>2</td>\n",
       "      <td>Command &amp; Conquer Complete</td>\n",
       "      <td>Japan</td>\n",
       "      <td>NaN</td>\n",
       "      <td>PlayStation</td>\n",
       "      <td>https://www.gamespot.com/api/games/?filter=id%3A1</td>\n",
       "      <td>https://www.gamespot.com/api/reviews/?filter=a...</td>\n",
       "      <td>https://www.gamespot.com/api/articles/?filter=...</td>\n",
       "      <td>https://www.gamespot.com/api/videos/?filter=as...</td>\n",
       "      <td>https://www.gamespot.com/api/images/?filter=as...</td>\n",
       "      <td>5000-1</td>\n",
       "      <td>[{'name': 'Westwood Studios'}, {'name': 'Ninte...</td>\n",
       "      <td>[{'name': 'Westwood Studios'}, {'name': 'Looki...</td>\n",
       "    </tr>\n",
       "    <tr>\n",
       "      <th>2</th>\n",
       "      <td>52145880269.0</td>\n",
       "      <td>1997-02-28 12:00:00</td>\n",
       "      <td>Retail</td>\n",
       "      <td>3</td>\n",
       "      <td>Command &amp; Conquer</td>\n",
       "      <td>North America</td>\n",
       "      <td>{'name': 'ESRB: T', 'descriptors': 'Violence'}</td>\n",
       "      <td>PlayStation</td>\n",
       "      <td>https://www.gamespot.com/api/games/?filter=id%3A1</td>\n",
       "      <td>https://www.gamespot.com/api/reviews/?filter=a...</td>\n",
       "      <td>https://www.gamespot.com/api/articles/?filter=...</td>\n",
       "      <td>https://www.gamespot.com/api/videos/?filter=as...</td>\n",
       "      <td>https://www.gamespot.com/api/images/?filter=as...</td>\n",
       "      <td>5000-1</td>\n",
       "      <td>[{'name': 'Westwood Studios'}, {'name': 'Ninte...</td>\n",
       "      <td>[{'name': 'Westwood Studios'}, {'name': 'Looki...</td>\n",
       "    </tr>\n",
       "    <tr>\n",
       "      <th>3</th>\n",
       "      <td>5028587081392.0</td>\n",
       "      <td>1998-12-31 12:00:00</td>\n",
       "      <td>Retail</td>\n",
       "      <td>4</td>\n",
       "      <td>Command &amp; Conquer (Platinum)</td>\n",
       "      <td>Europe</td>\n",
       "      <td>{'name': 'PEGI: 16+', 'descriptors': 'Violence'}</td>\n",
       "      <td>PlayStation</td>\n",
       "      <td>https://www.gamespot.com/api/games/?filter=id%3A1</td>\n",
       "      <td>https://www.gamespot.com/api/reviews/?filter=a...</td>\n",
       "      <td>https://www.gamespot.com/api/articles/?filter=...</td>\n",
       "      <td>https://www.gamespot.com/api/videos/?filter=as...</td>\n",
       "      <td>https://www.gamespot.com/api/images/?filter=as...</td>\n",
       "      <td>5000-1</td>\n",
       "      <td>[{'name': 'Westwood Studios'}, {'name': 'Ninte...</td>\n",
       "      <td>[{'name': 'Westwood Studios'}, {'name': 'Looki...</td>\n",
       "    </tr>\n",
       "    <tr>\n",
       "      <th>4</th>\n",
       "      <td>NaN</td>\n",
       "      <td>2009-11-25 12:00:00</td>\n",
       "      <td>PSOne Classics</td>\n",
       "      <td>5</td>\n",
       "      <td>Command &amp; Conquer</td>\n",
       "      <td>North America</td>\n",
       "      <td>{'name': 'ESRB: T', 'descriptors': 'Violence'}</td>\n",
       "      <td>PlayStation</td>\n",
       "      <td>https://www.gamespot.com/api/games/?filter=id%3A1</td>\n",
       "      <td>https://www.gamespot.com/api/reviews/?filter=a...</td>\n",
       "      <td>https://www.gamespot.com/api/articles/?filter=...</td>\n",
       "      <td>https://www.gamespot.com/api/videos/?filter=as...</td>\n",
       "      <td>https://www.gamespot.com/api/images/?filter=as...</td>\n",
       "      <td>5000-1</td>\n",
       "      <td>[{'name': 'Westwood Studios'}, {'name': 'Ninte...</td>\n",
       "      <td>[{'name': 'Westwood Studios'}, {'name': 'Looki...</td>\n",
       "    </tr>\n",
       "  </tbody>\n",
       "</table>\n",
       "</div>"
      ],
      "text/plain": [
       "               upc         release_date distribution_type  id  \\\n",
       "0  5028587080975.0  1996-12-31 12:00:00            Retail   1   \n",
       "1  4992713021846.0  1998-04-16 12:00:00            Retail   2   \n",
       "2    52145880269.0  1997-02-28 12:00:00            Retail   3   \n",
       "3  5028587081392.0  1998-12-31 12:00:00            Retail   4   \n",
       "4              NaN  2009-11-25 12:00:00    PSOne Classics   5   \n",
       "\n",
       "                           name         region  \\\n",
       "0             Command & Conquer         Europe   \n",
       "1    Command & Conquer Complete          Japan   \n",
       "2             Command & Conquer  North America   \n",
       "3  Command & Conquer (Platinum)         Europe   \n",
       "4             Command & Conquer  North America   \n",
       "\n",
       "                                             rating     platform  \\\n",
       "0  {'name': 'PEGI: 16+', 'descriptors': 'Violence'}  PlayStation   \n",
       "1                                               NaN  PlayStation   \n",
       "2    {'name': 'ESRB: T', 'descriptors': 'Violence'}  PlayStation   \n",
       "3  {'name': 'PEGI: 16+', 'descriptors': 'Violence'}  PlayStation   \n",
       "4    {'name': 'ESRB: T', 'descriptors': 'Violence'}  PlayStation   \n",
       "\n",
       "                                        game_api_url  \\\n",
       "0  https://www.gamespot.com/api/games/?filter=id%3A1   \n",
       "1  https://www.gamespot.com/api/games/?filter=id%3A1   \n",
       "2  https://www.gamespot.com/api/games/?filter=id%3A1   \n",
       "3  https://www.gamespot.com/api/games/?filter=id%3A1   \n",
       "4  https://www.gamespot.com/api/games/?filter=id%3A1   \n",
       "\n",
       "                                     reviews_api_url  \\\n",
       "0  https://www.gamespot.com/api/reviews/?filter=a...   \n",
       "1  https://www.gamespot.com/api/reviews/?filter=a...   \n",
       "2  https://www.gamespot.com/api/reviews/?filter=a...   \n",
       "3  https://www.gamespot.com/api/reviews/?filter=a...   \n",
       "4  https://www.gamespot.com/api/reviews/?filter=a...   \n",
       "\n",
       "                                    articles_api_url  \\\n",
       "0  https://www.gamespot.com/api/articles/?filter=...   \n",
       "1  https://www.gamespot.com/api/articles/?filter=...   \n",
       "2  https://www.gamespot.com/api/articles/?filter=...   \n",
       "3  https://www.gamespot.com/api/articles/?filter=...   \n",
       "4  https://www.gamespot.com/api/articles/?filter=...   \n",
       "\n",
       "                                      videos_api_url  \\\n",
       "0  https://www.gamespot.com/api/videos/?filter=as...   \n",
       "1  https://www.gamespot.com/api/videos/?filter=as...   \n",
       "2  https://www.gamespot.com/api/videos/?filter=as...   \n",
       "3  https://www.gamespot.com/api/videos/?filter=as...   \n",
       "4  https://www.gamespot.com/api/videos/?filter=as...   \n",
       "\n",
       "                                      images_api_url association  \\\n",
       "0  https://www.gamespot.com/api/images/?filter=as...      5000-1   \n",
       "1  https://www.gamespot.com/api/images/?filter=as...      5000-1   \n",
       "2  https://www.gamespot.com/api/images/?filter=as...      5000-1   \n",
       "3  https://www.gamespot.com/api/images/?filter=as...      5000-1   \n",
       "4  https://www.gamespot.com/api/images/?filter=as...      5000-1   \n",
       "\n",
       "                                          publishers  \\\n",
       "0  [{'name': 'Westwood Studios'}, {'name': 'Ninte...   \n",
       "1  [{'name': 'Westwood Studios'}, {'name': 'Ninte...   \n",
       "2  [{'name': 'Westwood Studios'}, {'name': 'Ninte...   \n",
       "3  [{'name': 'Westwood Studios'}, {'name': 'Ninte...   \n",
       "4  [{'name': 'Westwood Studios'}, {'name': 'Ninte...   \n",
       "\n",
       "                                          developers  \n",
       "0  [{'name': 'Westwood Studios'}, {'name': 'Looki...  \n",
       "1  [{'name': 'Westwood Studios'}, {'name': 'Looki...  \n",
       "2  [{'name': 'Westwood Studios'}, {'name': 'Looki...  \n",
       "3  [{'name': 'Westwood Studios'}, {'name': 'Looki...  \n",
       "4  [{'name': 'Westwood Studios'}, {'name': 'Looki...  "
      ]
     },
     "execution_count": 10,
     "metadata": {},
     "output_type": "execute_result"
    }
   ],
   "source": [
    "gamespot_releases.head()"
   ]
  },
  {
   "cell_type": "code",
   "execution_count": 11,
   "id": "91d53802",
   "metadata": {},
   "outputs": [
    {
     "name": "stdout",
     "output_type": "stream",
     "text": [
      "<class 'pandas.core.frame.DataFrame'>\n",
      "RangeIndex: 100000 entries, 0 to 99999\n",
      "Data columns (total 16 columns):\n",
      " #   Column             Non-Null Count   Dtype \n",
      "---  ------             --------------   ----- \n",
      " 0   upc                36944 non-null   object\n",
      " 1   release_date       100000 non-null  object\n",
      " 2   distribution_type  100000 non-null  object\n",
      " 3   id                 100000 non-null  int64 \n",
      " 4   name               100000 non-null  object\n",
      " 5   region             100000 non-null  object\n",
      " 6   rating             42024 non-null   object\n",
      " 7   platform           100000 non-null  object\n",
      " 8   game_api_url       100000 non-null  object\n",
      " 9   reviews_api_url    100000 non-null  object\n",
      " 10  articles_api_url   100000 non-null  object\n",
      " 11  videos_api_url     100000 non-null  object\n",
      " 12  images_api_url     100000 non-null  object\n",
      " 13  association        100000 non-null  object\n",
      " 14  publishers         99495 non-null   object\n",
      " 15  developers         96131 non-null   object\n",
      "dtypes: int64(1), object(15)\n",
      "memory usage: 12.2+ MB\n"
     ]
    }
   ],
   "source": [
    "gamespot_releases.info()"
   ]
  },
  {
   "cell_type": "code",
   "execution_count": 12,
   "id": "ac94df16",
   "metadata": {},
   "outputs": [],
   "source": [
    "gamespot_reviews = pd.read_csv(\"gamespot_reviews.csv\")"
   ]
  },
  {
   "cell_type": "code",
   "execution_count": 13,
   "id": "db6a1f0c",
   "metadata": {
    "scrolled": true
   },
   "outputs": [
    {
     "data": {
      "text/html": [
       "<div>\n",
       "<style scoped>\n",
       "    .dataframe tbody tr th:only-of-type {\n",
       "        vertical-align: middle;\n",
       "    }\n",
       "\n",
       "    .dataframe tbody tr th {\n",
       "        vertical-align: top;\n",
       "    }\n",
       "\n",
       "    .dataframe thead th {\n",
       "        text-align: right;\n",
       "    }\n",
       "</style>\n",
       "<table border=\"1\" class=\"dataframe\">\n",
       "  <thead>\n",
       "    <tr style=\"text-align: right;\">\n",
       "      <th></th>\n",
       "      <th>title</th>\n",
       "      <th>score</th>\n",
       "    </tr>\n",
       "  </thead>\n",
       "  <tbody>\n",
       "    <tr>\n",
       "      <th>0</th>\n",
       "      <td>Under a Killing Moon</td>\n",
       "      <td>6.9</td>\n",
       "    </tr>\n",
       "    <tr>\n",
       "      <th>1</th>\n",
       "      <td>Warcraft II: Tides of Darkness</td>\n",
       "      <td>9.3</td>\n",
       "    </tr>\n",
       "    <tr>\n",
       "      <th>2</th>\n",
       "      <td>Warhammer: Shadow of the Horned Rat</td>\n",
       "      <td>6.8</td>\n",
       "    </tr>\n",
       "    <tr>\n",
       "      <th>3</th>\n",
       "      <td>Whiplash</td>\n",
       "      <td>6.1</td>\n",
       "    </tr>\n",
       "    <tr>\n",
       "      <th>4</th>\n",
       "      <td>Wing Commander IV: The Price of Freedom</td>\n",
       "      <td>8.5</td>\n",
       "    </tr>\n",
       "  </tbody>\n",
       "</table>\n",
       "</div>"
      ],
      "text/plain": [
       "                                     title  score\n",
       "0                     Under a Killing Moon    6.9\n",
       "1           Warcraft II: Tides of Darkness    9.3\n",
       "2      Warhammer: Shadow of the Horned Rat    6.8\n",
       "3                                 Whiplash    6.1\n",
       "4  Wing Commander IV: The Price of Freedom    8.5"
      ]
     },
     "execution_count": 13,
     "metadata": {},
     "output_type": "execute_result"
    }
   ],
   "source": [
    "gamespot_reviews.head()"
   ]
  },
  {
   "cell_type": "markdown",
   "id": "1655c15b",
   "metadata": {},
   "source": [
    "I can see that there is a lot of interesting data present that can be used in my analysis and prediction. However some of this data is presented in an unusual way and will have to be cleaned before it can be used. I'm also seeing values which could be interpreted as NaN values albeit shown in an unusual way. These would have to be cleaned as well. I also see columns that do not contain any useful information. I'll have to remove these columns.\n",
    "\n",
    "First let's make sure we only have the columns we want to use from each dataset. The dataset gamespot_reviews has the value score which I want to predict. Since it's the only column apart from the title column, I do not need to clean anything within that dataset. But for the datasets gamespot_games and gamespot_releases I'll have to create a subset that only contains the columns I potentially want to use as a predicting variable."
   ]
  },
  {
   "cell_type": "markdown",
   "id": "0be5cb68",
   "metadata": {},
   "source": [
    "For dataset gamespot_games these columns are: name, genres, themes, franchises and release_date."
   ]
  },
  {
   "cell_type": "code",
   "execution_count": 8,
   "id": "d87de9cd",
   "metadata": {},
   "outputs": [
    {
     "data": {
      "text/html": [
       "<div>\n",
       "<style scoped>\n",
       "    .dataframe tbody tr th:only-of-type {\n",
       "        vertical-align: middle;\n",
       "    }\n",
       "\n",
       "    .dataframe tbody tr th {\n",
       "        vertical-align: top;\n",
       "    }\n",
       "\n",
       "    .dataframe thead th {\n",
       "        text-align: right;\n",
       "    }\n",
       "</style>\n",
       "<table border=\"1\" class=\"dataframe\">\n",
       "  <thead>\n",
       "    <tr style=\"text-align: right;\">\n",
       "      <th></th>\n",
       "      <th>name</th>\n",
       "      <th>genres</th>\n",
       "      <th>themes</th>\n",
       "      <th>franchises</th>\n",
       "      <th>release_date</th>\n",
       "    </tr>\n",
       "  </thead>\n",
       "  <tbody>\n",
       "    <tr>\n",
       "      <th>0</th>\n",
       "      <td>Command &amp; Conquer</td>\n",
       "      <td>[{'name': 'Real-Time'}, {'name': 'Strategy'}]</td>\n",
       "      <td>[{'name': 'Sci-Fi'}]</td>\n",
       "      <td>[{'name': 'Command &amp; Conquer'}]</td>\n",
       "      <td>1995-09-26 12:00:00</td>\n",
       "    </tr>\n",
       "    <tr>\n",
       "      <th>1</th>\n",
       "      <td>Return of Arcade</td>\n",
       "      <td>[{'name': 'Compilation'}]</td>\n",
       "      <td>[]</td>\n",
       "      <td>[{'name': 'Microsoft Arcade'}]</td>\n",
       "      <td>1996-03-31 12:00:00</td>\n",
       "    </tr>\n",
       "    <tr>\n",
       "      <th>2</th>\n",
       "      <td>The Dig</td>\n",
       "      <td>[{'name': 'Adventure'}]</td>\n",
       "      <td>[]</td>\n",
       "      <td>[]</td>\n",
       "      <td>1995-11-30 12:00:00</td>\n",
       "    </tr>\n",
       "    <tr>\n",
       "      <th>3</th>\n",
       "      <td>Mission Critical</td>\n",
       "      <td>[{'name': 'Adventure'}]</td>\n",
       "      <td>[]</td>\n",
       "      <td>[]</td>\n",
       "      <td>1995-11-30 12:00:00</td>\n",
       "    </tr>\n",
       "    <tr>\n",
       "      <th>4</th>\n",
       "      <td>Links LS: Legends in Sports 1997 Edition</td>\n",
       "      <td>[{'name': 'Golf'}, {'name': 'Simulation'}, {'n...</td>\n",
       "      <td>[]</td>\n",
       "      <td>[{'name': 'Links Golf'}]</td>\n",
       "      <td>1996-06-30 12:00:00</td>\n",
       "    </tr>\n",
       "  </tbody>\n",
       "</table>\n",
       "</div>"
      ],
      "text/plain": [
       "                                       name  \\\n",
       "0                         Command & Conquer   \n",
       "1                          Return of Arcade   \n",
       "2                                   The Dig   \n",
       "3                          Mission Critical   \n",
       "4  Links LS: Legends in Sports 1997 Edition   \n",
       "\n",
       "                                              genres                themes  \\\n",
       "0      [{'name': 'Real-Time'}, {'name': 'Strategy'}]  [{'name': 'Sci-Fi'}]   \n",
       "1                          [{'name': 'Compilation'}]                    []   \n",
       "2                            [{'name': 'Adventure'}]                    []   \n",
       "3                            [{'name': 'Adventure'}]                    []   \n",
       "4  [{'name': 'Golf'}, {'name': 'Simulation'}, {'n...                    []   \n",
       "\n",
       "                        franchises         release_date  \n",
       "0  [{'name': 'Command & Conquer'}]  1995-09-26 12:00:00  \n",
       "1   [{'name': 'Microsoft Arcade'}]  1996-03-31 12:00:00  \n",
       "2                               []  1995-11-30 12:00:00  \n",
       "3                               []  1995-11-30 12:00:00  \n",
       "4         [{'name': 'Links Golf'}]  1996-06-30 12:00:00  "
      ]
     },
     "execution_count": 8,
     "metadata": {},
     "output_type": "execute_result"
    }
   ],
   "source": [
    "gamespot_games_sub = gamespot_games[[\"name\", \"genres\", \"themes\", \"franchises\", \"release_date\"]].copy()\n",
    "\n",
    "gamespot_games_sub.head()"
   ]
  },
  {
   "cell_type": "markdown",
   "id": "5063ccab",
   "metadata": {},
   "source": [
    "I decided on these columns because I think they could have the most impact on the rating a game receives. Take genres for example. A game with genre action might be rated higher than a game with genre adventure simply because people like games of the genre action more than games with genre adventure. The same could be said for themes. Maybe people rate games with a sci-fi theme higher than a game with another theme because they like sci-fi games more.\n",
    "\n",
    "For the franchises I think it can influence the rating due to how much people like a certain franchise. If a franchise is well liked people might rate their games higher because they like said franchise. The opposite could apply just as much. If a franchise is not well liked people might rate a game lower simply because they don't like the franchise.\n",
    "\n",
    "Regarding the release date I think there can be multiple reasons on why this can impact the rating of a game. Either people are more lenient or more critical during a certain release year, or the games are better/worse that year. It could very well be both."
   ]
  },
  {
   "cell_type": "markdown",
   "id": "fadc946d",
   "metadata": {},
   "source": [
    "For dataset gamespot_releases the columns I want to use are: name, region, platform, publishers and developers."
   ]
  },
  {
   "cell_type": "code",
   "execution_count": 9,
   "id": "b62cd432",
   "metadata": {},
   "outputs": [
    {
     "data": {
      "text/html": [
       "<div>\n",
       "<style scoped>\n",
       "    .dataframe tbody tr th:only-of-type {\n",
       "        vertical-align: middle;\n",
       "    }\n",
       "\n",
       "    .dataframe tbody tr th {\n",
       "        vertical-align: top;\n",
       "    }\n",
       "\n",
       "    .dataframe thead th {\n",
       "        text-align: right;\n",
       "    }\n",
       "</style>\n",
       "<table border=\"1\" class=\"dataframe\">\n",
       "  <thead>\n",
       "    <tr style=\"text-align: right;\">\n",
       "      <th></th>\n",
       "      <th>name</th>\n",
       "      <th>region</th>\n",
       "      <th>platform</th>\n",
       "      <th>publishers</th>\n",
       "      <th>developers</th>\n",
       "    </tr>\n",
       "  </thead>\n",
       "  <tbody>\n",
       "    <tr>\n",
       "      <th>0</th>\n",
       "      <td>Command &amp; Conquer</td>\n",
       "      <td>Europe</td>\n",
       "      <td>PlayStation</td>\n",
       "      <td>[{'name': 'Westwood Studios'}, {'name': 'Ninte...</td>\n",
       "      <td>[{'name': 'Westwood Studios'}, {'name': 'Looki...</td>\n",
       "    </tr>\n",
       "    <tr>\n",
       "      <th>1</th>\n",
       "      <td>Command &amp; Conquer Complete</td>\n",
       "      <td>Japan</td>\n",
       "      <td>PlayStation</td>\n",
       "      <td>[{'name': 'Westwood Studios'}, {'name': 'Ninte...</td>\n",
       "      <td>[{'name': 'Westwood Studios'}, {'name': 'Looki...</td>\n",
       "    </tr>\n",
       "    <tr>\n",
       "      <th>2</th>\n",
       "      <td>Command &amp; Conquer</td>\n",
       "      <td>North America</td>\n",
       "      <td>PlayStation</td>\n",
       "      <td>[{'name': 'Westwood Studios'}, {'name': 'Ninte...</td>\n",
       "      <td>[{'name': 'Westwood Studios'}, {'name': 'Looki...</td>\n",
       "    </tr>\n",
       "    <tr>\n",
       "      <th>3</th>\n",
       "      <td>Command &amp; Conquer (Platinum)</td>\n",
       "      <td>Europe</td>\n",
       "      <td>PlayStation</td>\n",
       "      <td>[{'name': 'Westwood Studios'}, {'name': 'Ninte...</td>\n",
       "      <td>[{'name': 'Westwood Studios'}, {'name': 'Looki...</td>\n",
       "    </tr>\n",
       "    <tr>\n",
       "      <th>4</th>\n",
       "      <td>Command &amp; Conquer</td>\n",
       "      <td>North America</td>\n",
       "      <td>PlayStation</td>\n",
       "      <td>[{'name': 'Westwood Studios'}, {'name': 'Ninte...</td>\n",
       "      <td>[{'name': 'Westwood Studios'}, {'name': 'Looki...</td>\n",
       "    </tr>\n",
       "  </tbody>\n",
       "</table>\n",
       "</div>"
      ],
      "text/plain": [
       "                           name         region     platform  \\\n",
       "0             Command & Conquer         Europe  PlayStation   \n",
       "1    Command & Conquer Complete          Japan  PlayStation   \n",
       "2             Command & Conquer  North America  PlayStation   \n",
       "3  Command & Conquer (Platinum)         Europe  PlayStation   \n",
       "4             Command & Conquer  North America  PlayStation   \n",
       "\n",
       "                                          publishers  \\\n",
       "0  [{'name': 'Westwood Studios'}, {'name': 'Ninte...   \n",
       "1  [{'name': 'Westwood Studios'}, {'name': 'Ninte...   \n",
       "2  [{'name': 'Westwood Studios'}, {'name': 'Ninte...   \n",
       "3  [{'name': 'Westwood Studios'}, {'name': 'Ninte...   \n",
       "4  [{'name': 'Westwood Studios'}, {'name': 'Ninte...   \n",
       "\n",
       "                                          developers  \n",
       "0  [{'name': 'Westwood Studios'}, {'name': 'Looki...  \n",
       "1  [{'name': 'Westwood Studios'}, {'name': 'Looki...  \n",
       "2  [{'name': 'Westwood Studios'}, {'name': 'Looki...  \n",
       "3  [{'name': 'Westwood Studios'}, {'name': 'Looki...  \n",
       "4  [{'name': 'Westwood Studios'}, {'name': 'Looki...  "
      ]
     },
     "execution_count": 9,
     "metadata": {},
     "output_type": "execute_result"
    }
   ],
   "source": [
    "gamespot_releases_sub = gamespot_releases[[\"name\", \"region\", \"platform\", \"publishers\", \"developers\"]].copy()\n",
    "\n",
    "gamespot_releases_sub.head()"
   ]
  },
  {
   "cell_type": "markdown",
   "id": "e082a4c4",
   "metadata": {},
   "source": [
    "I want to use region because I think that people in different regions might rate games differently. Maybe people in Europe rate games more leniently and thus higher compared to people in Japan, who might rate games more critically and are therfore lower in rating.\n",
    "\n",
    "Platform might also be an interesting factor in what impacts the rating. Maybe people prefer games on a certain platform and tend to rate those games higher. Or maybe it could be that a game released on PC is rated higher due to the game being better implemented on that platform compared to the game's release on a different platform like Playstation.\n",
    "\n",
    "For the publishers and developers I think it can impact the rating because of the reputation the publishers and developers have and whether they release good games or not. If a publisher/developer has a good reputation and releases good games, people will most likely rate those games higher than when a publisher or developer has a bad reputation and releases bad games."
   ]
  },
  {
   "cell_type": "markdown",
   "id": "4adc639f",
   "metadata": {},
   "source": [
    "Now that I've decided which columns to use, we can start merging the data into one dataset. I will merge the dataset on name. To do this I first have to change the column name of gamespot_reviews because otherwise I won't be able to merge it with the other datasets. Then I will convert all the names to lowercase characters to prevent loss of data due to a name having capitalization where a name in another dataset does not."
   ]
  },
  {
   "cell_type": "code",
   "execution_count": 10,
   "id": "2773e9f6",
   "metadata": {},
   "outputs": [],
   "source": [
    "gamespot_reviews = gamespot_reviews.rename(columns={\"title\": \"name\"})\n",
    "\n",
    "gamespot_games_sub[\"name\"] = gamespot_games[\"name\"].str.lower()\n",
    "gamespot_releases_sub[\"name\"] = gamespot_releases[\"name\"].str.lower()\n",
    "gamespot_reviews[\"name\"] = gamespot_reviews[\"name\"].str.lower()"
   ]
  },
  {
   "cell_type": "code",
   "execution_count": 11,
   "id": "46c9c3ab",
   "metadata": {},
   "outputs": [],
   "source": [
    "gamespot_dfs = [gamespot_games_sub, gamespot_releases_sub, gamespot_reviews]\n",
    "\n",
    "gamespot_merged = reduce(lambda  left,right: pd.merge(left,right,on=['name']), gamespot_dfs)"
   ]
  },
  {
   "cell_type": "markdown",
   "id": "c37f676b",
   "metadata": {},
   "source": [
    "Now that the data has been merged let's see how many rows we have."
   ]
  },
  {
   "cell_type": "code",
   "execution_count": 12,
   "id": "7a0fd109",
   "metadata": {
    "scrolled": true
   },
   "outputs": [
    {
     "data": {
      "text/html": [
       "<div>\n",
       "<style scoped>\n",
       "    .dataframe tbody tr th:only-of-type {\n",
       "        vertical-align: middle;\n",
       "    }\n",
       "\n",
       "    .dataframe tbody tr th {\n",
       "        vertical-align: top;\n",
       "    }\n",
       "\n",
       "    .dataframe thead th {\n",
       "        text-align: right;\n",
       "    }\n",
       "</style>\n",
       "<table border=\"1\" class=\"dataframe\">\n",
       "  <thead>\n",
       "    <tr style=\"text-align: right;\">\n",
       "      <th></th>\n",
       "      <th>name</th>\n",
       "      <th>genres</th>\n",
       "      <th>themes</th>\n",
       "      <th>franchises</th>\n",
       "      <th>release_date</th>\n",
       "      <th>region</th>\n",
       "      <th>platform</th>\n",
       "      <th>publishers</th>\n",
       "      <th>developers</th>\n",
       "      <th>score</th>\n",
       "    </tr>\n",
       "  </thead>\n",
       "  <tbody>\n",
       "    <tr>\n",
       "      <th>0</th>\n",
       "      <td>command &amp; conquer</td>\n",
       "      <td>[{'name': 'Real-Time'}, {'name': 'Strategy'}]</td>\n",
       "      <td>[{'name': 'Sci-Fi'}]</td>\n",
       "      <td>[{'name': 'Command &amp; Conquer'}]</td>\n",
       "      <td>1995-09-26 12:00:00</td>\n",
       "      <td>Europe</td>\n",
       "      <td>PlayStation</td>\n",
       "      <td>[{'name': 'Westwood Studios'}, {'name': 'Ninte...</td>\n",
       "      <td>[{'name': 'Westwood Studios'}, {'name': 'Looki...</td>\n",
       "      <td>9.3</td>\n",
       "    </tr>\n",
       "    <tr>\n",
       "      <th>1</th>\n",
       "      <td>command &amp; conquer</td>\n",
       "      <td>[{'name': 'Real-Time'}, {'name': 'Strategy'}]</td>\n",
       "      <td>[{'name': 'Sci-Fi'}]</td>\n",
       "      <td>[{'name': 'Command &amp; Conquer'}]</td>\n",
       "      <td>1995-09-26 12:00:00</td>\n",
       "      <td>Europe</td>\n",
       "      <td>PlayStation</td>\n",
       "      <td>[{'name': 'Westwood Studios'}, {'name': 'Ninte...</td>\n",
       "      <td>[{'name': 'Westwood Studios'}, {'name': 'Looki...</td>\n",
       "      <td>9.2</td>\n",
       "    </tr>\n",
       "    <tr>\n",
       "      <th>2</th>\n",
       "      <td>command &amp; conquer</td>\n",
       "      <td>[{'name': 'Real-Time'}, {'name': 'Strategy'}]</td>\n",
       "      <td>[{'name': 'Sci-Fi'}]</td>\n",
       "      <td>[{'name': 'Command &amp; Conquer'}]</td>\n",
       "      <td>1995-09-26 12:00:00</td>\n",
       "      <td>Europe</td>\n",
       "      <td>PlayStation</td>\n",
       "      <td>[{'name': 'Westwood Studios'}, {'name': 'Ninte...</td>\n",
       "      <td>[{'name': 'Westwood Studios'}, {'name': 'Looki...</td>\n",
       "      <td>8.2</td>\n",
       "    </tr>\n",
       "    <tr>\n",
       "      <th>3</th>\n",
       "      <td>command &amp; conquer</td>\n",
       "      <td>[{'name': 'Real-Time'}, {'name': 'Strategy'}]</td>\n",
       "      <td>[{'name': 'Sci-Fi'}]</td>\n",
       "      <td>[{'name': 'Command &amp; Conquer'}]</td>\n",
       "      <td>1995-09-26 12:00:00</td>\n",
       "      <td>Europe</td>\n",
       "      <td>PlayStation</td>\n",
       "      <td>[{'name': 'Westwood Studios'}, {'name': 'Ninte...</td>\n",
       "      <td>[{'name': 'Westwood Studios'}, {'name': 'Looki...</td>\n",
       "      <td>7.6</td>\n",
       "    </tr>\n",
       "    <tr>\n",
       "      <th>4</th>\n",
       "      <td>command &amp; conquer</td>\n",
       "      <td>[{'name': 'Real-Time'}, {'name': 'Strategy'}]</td>\n",
       "      <td>[{'name': 'Sci-Fi'}]</td>\n",
       "      <td>[{'name': 'Command &amp; Conquer'}]</td>\n",
       "      <td>1995-09-26 12:00:00</td>\n",
       "      <td>North America</td>\n",
       "      <td>PlayStation</td>\n",
       "      <td>[{'name': 'Westwood Studios'}, {'name': 'Ninte...</td>\n",
       "      <td>[{'name': 'Westwood Studios'}, {'name': 'Looki...</td>\n",
       "      <td>9.3</td>\n",
       "    </tr>\n",
       "    <tr>\n",
       "      <th>...</th>\n",
       "      <td>...</td>\n",
       "      <td>...</td>\n",
       "      <td>...</td>\n",
       "      <td>...</td>\n",
       "      <td>...</td>\n",
       "      <td>...</td>\n",
       "      <td>...</td>\n",
       "      <td>...</td>\n",
       "      <td>...</td>\n",
       "      <td>...</td>\n",
       "    </tr>\n",
       "    <tr>\n",
       "      <th>18011</th>\n",
       "      <td>soccer</td>\n",
       "      <td>[{'name': 'Arcade'}, {'name': 'Soccer'}, {'nam...</td>\n",
       "      <td>[]</td>\n",
       "      <td>[]</td>\n",
       "      <td>1982-12-31 12:00:00</td>\n",
       "      <td>Japan</td>\n",
       "      <td>NES</td>\n",
       "      <td>[{'name': 'Nintendo'}, {'name': 'Hamster'}]</td>\n",
       "      <td>[{'name': 'Nintendo'}, {'name': 'Hamster'}]</td>\n",
       "      <td>2.2</td>\n",
       "    </tr>\n",
       "    <tr>\n",
       "      <th>18012</th>\n",
       "      <td>soccer</td>\n",
       "      <td>[{'name': 'Arcade'}, {'name': 'Soccer'}, {'nam...</td>\n",
       "      <td>[]</td>\n",
       "      <td>[]</td>\n",
       "      <td>1982-12-31 12:00:00</td>\n",
       "      <td>Europe</td>\n",
       "      <td>Game Boy</td>\n",
       "      <td>[{'name': 'GameTek'}, {'name': 'Coconuts Japan...</td>\n",
       "      <td>[{'name': 'Denton Designs'}, {'name': 'Rage So...</td>\n",
       "      <td>2.2</td>\n",
       "    </tr>\n",
       "    <tr>\n",
       "      <th>18013</th>\n",
       "      <td>soccer</td>\n",
       "      <td>[{'name': 'Arcade'}, {'name': 'Soccer'}, {'nam...</td>\n",
       "      <td>[]</td>\n",
       "      <td>[]</td>\n",
       "      <td>1982-12-31 12:00:00</td>\n",
       "      <td>North America</td>\n",
       "      <td>Arcadia 2001</td>\n",
       "      <td>[{'name': 'Emerson Radio Corp.'}, {'name': 'Th...</td>\n",
       "      <td>[{'name': 'Emerson Radio Corp.'}, {'name': 'Th...</td>\n",
       "      <td>2.2</td>\n",
       "    </tr>\n",
       "    <tr>\n",
       "      <th>18014</th>\n",
       "      <td>soccer</td>\n",
       "      <td>[{'name': 'Arcade'}, {'name': 'Soccer'}, {'nam...</td>\n",
       "      <td>[]</td>\n",
       "      <td>[]</td>\n",
       "      <td>1982-12-31 12:00:00</td>\n",
       "      <td>Europe</td>\n",
       "      <td>Atari 8-bit</td>\n",
       "      <td>[{'name': 'Emerson Radio Corp.'}, {'name': 'Th...</td>\n",
       "      <td>[{'name': 'Emerson Radio Corp.'}, {'name': 'Th...</td>\n",
       "      <td>2.2</td>\n",
       "    </tr>\n",
       "    <tr>\n",
       "      <th>18015</th>\n",
       "      <td>soccer</td>\n",
       "      <td>[{'name': 'Arcade'}, {'name': 'Soccer'}, {'nam...</td>\n",
       "      <td>[]</td>\n",
       "      <td>[]</td>\n",
       "      <td>1982-12-31 12:00:00</td>\n",
       "      <td>Australia</td>\n",
       "      <td>CreatiVision</td>\n",
       "      <td>[{'name': 'VTech'}]</td>\n",
       "      <td>[{'name': 'VTech'}]</td>\n",
       "      <td>2.2</td>\n",
       "    </tr>\n",
       "  </tbody>\n",
       "</table>\n",
       "<p>18016 rows × 10 columns</p>\n",
       "</div>"
      ],
      "text/plain": [
       "                    name                                             genres  \\\n",
       "0      command & conquer      [{'name': 'Real-Time'}, {'name': 'Strategy'}]   \n",
       "1      command & conquer      [{'name': 'Real-Time'}, {'name': 'Strategy'}]   \n",
       "2      command & conquer      [{'name': 'Real-Time'}, {'name': 'Strategy'}]   \n",
       "3      command & conquer      [{'name': 'Real-Time'}, {'name': 'Strategy'}]   \n",
       "4      command & conquer      [{'name': 'Real-Time'}, {'name': 'Strategy'}]   \n",
       "...                  ...                                                ...   \n",
       "18011             soccer  [{'name': 'Arcade'}, {'name': 'Soccer'}, {'nam...   \n",
       "18012             soccer  [{'name': 'Arcade'}, {'name': 'Soccer'}, {'nam...   \n",
       "18013             soccer  [{'name': 'Arcade'}, {'name': 'Soccer'}, {'nam...   \n",
       "18014             soccer  [{'name': 'Arcade'}, {'name': 'Soccer'}, {'nam...   \n",
       "18015             soccer  [{'name': 'Arcade'}, {'name': 'Soccer'}, {'nam...   \n",
       "\n",
       "                     themes                       franchises  \\\n",
       "0      [{'name': 'Sci-Fi'}]  [{'name': 'Command & Conquer'}]   \n",
       "1      [{'name': 'Sci-Fi'}]  [{'name': 'Command & Conquer'}]   \n",
       "2      [{'name': 'Sci-Fi'}]  [{'name': 'Command & Conquer'}]   \n",
       "3      [{'name': 'Sci-Fi'}]  [{'name': 'Command & Conquer'}]   \n",
       "4      [{'name': 'Sci-Fi'}]  [{'name': 'Command & Conquer'}]   \n",
       "...                     ...                              ...   \n",
       "18011                    []                               []   \n",
       "18012                    []                               []   \n",
       "18013                    []                               []   \n",
       "18014                    []                               []   \n",
       "18015                    []                               []   \n",
       "\n",
       "              release_date         region      platform  \\\n",
       "0      1995-09-26 12:00:00         Europe   PlayStation   \n",
       "1      1995-09-26 12:00:00         Europe   PlayStation   \n",
       "2      1995-09-26 12:00:00         Europe   PlayStation   \n",
       "3      1995-09-26 12:00:00         Europe   PlayStation   \n",
       "4      1995-09-26 12:00:00  North America   PlayStation   \n",
       "...                    ...            ...           ...   \n",
       "18011  1982-12-31 12:00:00          Japan           NES   \n",
       "18012  1982-12-31 12:00:00         Europe      Game Boy   \n",
       "18013  1982-12-31 12:00:00  North America  Arcadia 2001   \n",
       "18014  1982-12-31 12:00:00         Europe   Atari 8-bit   \n",
       "18015  1982-12-31 12:00:00      Australia  CreatiVision   \n",
       "\n",
       "                                              publishers  \\\n",
       "0      [{'name': 'Westwood Studios'}, {'name': 'Ninte...   \n",
       "1      [{'name': 'Westwood Studios'}, {'name': 'Ninte...   \n",
       "2      [{'name': 'Westwood Studios'}, {'name': 'Ninte...   \n",
       "3      [{'name': 'Westwood Studios'}, {'name': 'Ninte...   \n",
       "4      [{'name': 'Westwood Studios'}, {'name': 'Ninte...   \n",
       "...                                                  ...   \n",
       "18011        [{'name': 'Nintendo'}, {'name': 'Hamster'}]   \n",
       "18012  [{'name': 'GameTek'}, {'name': 'Coconuts Japan...   \n",
       "18013  [{'name': 'Emerson Radio Corp.'}, {'name': 'Th...   \n",
       "18014  [{'name': 'Emerson Radio Corp.'}, {'name': 'Th...   \n",
       "18015                                [{'name': 'VTech'}]   \n",
       "\n",
       "                                              developers  score  \n",
       "0      [{'name': 'Westwood Studios'}, {'name': 'Looki...    9.3  \n",
       "1      [{'name': 'Westwood Studios'}, {'name': 'Looki...    9.2  \n",
       "2      [{'name': 'Westwood Studios'}, {'name': 'Looki...    8.2  \n",
       "3      [{'name': 'Westwood Studios'}, {'name': 'Looki...    7.6  \n",
       "4      [{'name': 'Westwood Studios'}, {'name': 'Looki...    9.3  \n",
       "...                                                  ...    ...  \n",
       "18011        [{'name': 'Nintendo'}, {'name': 'Hamster'}]    2.2  \n",
       "18012  [{'name': 'Denton Designs'}, {'name': 'Rage So...    2.2  \n",
       "18013  [{'name': 'Emerson Radio Corp.'}, {'name': 'Th...    2.2  \n",
       "18014  [{'name': 'Emerson Radio Corp.'}, {'name': 'Th...    2.2  \n",
       "18015                                [{'name': 'VTech'}]    2.2  \n",
       "\n",
       "[18016 rows x 10 columns]"
      ]
     },
     "execution_count": 12,
     "metadata": {},
     "output_type": "execute_result"
    }
   ],
   "source": [
    "gamespot_merged"
   ]
  },
  {
   "cell_type": "markdown",
   "id": "e057819f",
   "metadata": {},
   "source": [
    "After merging all the data we are left with 18016 rows of data. This sounds pretty good but at a glance I can already see that games are present multiple times in my dataset. This could be because a game can be released in multiple regions and on multiple platforms. I also see that there are slight differences in the rating each time a game reoccurs. Maybe a review gets updated after some time. To resolve this issue I would have to check for duplicate data and remove them from the dataset.\n",
    "\n",
    "But I can't just remove duplicates based on name. As I said a game could be released on multiple platforms and in multiple regions. Considering the differences in rating per reoccurence of a game, this difference could also very well be because of a game getting a separate review per platorm, per region instead of it only being an updated review. If I were to remove duplicate rows based on name it could potentially weaken the impact of these two factors in my predictive model.\n",
    "\n",
    "But what I also see is that a game is released on the same platform multiple times within a region. I find it very unlikely that the same game would be released multiple times on the same platform. Because of this I decided to drop rows based on name and if a game has multiple releases on the same platform in the same region."
   ]
  },
  {
   "cell_type": "code",
   "execution_count": 13,
   "id": "26901c44",
   "metadata": {},
   "outputs": [],
   "source": [
    "gamespot_merged = gamespot_merged.drop_duplicates(subset=[\"name\", \"region\", \"platform\"])\n",
    "gamespot_merged = gamespot_merged.reset_index(drop=True)"
   ]
  },
  {
   "cell_type": "markdown",
   "id": "3c7d8a30",
   "metadata": {},
   "source": [
    "Now that we removed duplicate rows let's see how much has remained."
   ]
  },
  {
   "cell_type": "code",
   "execution_count": 14,
   "id": "30fa260d",
   "metadata": {},
   "outputs": [
    {
     "data": {
      "text/html": [
       "<div>\n",
       "<style scoped>\n",
       "    .dataframe tbody tr th:only-of-type {\n",
       "        vertical-align: middle;\n",
       "    }\n",
       "\n",
       "    .dataframe tbody tr th {\n",
       "        vertical-align: top;\n",
       "    }\n",
       "\n",
       "    .dataframe thead th {\n",
       "        text-align: right;\n",
       "    }\n",
       "</style>\n",
       "<table border=\"1\" class=\"dataframe\">\n",
       "  <thead>\n",
       "    <tr style=\"text-align: right;\">\n",
       "      <th></th>\n",
       "      <th>name</th>\n",
       "      <th>genres</th>\n",
       "      <th>themes</th>\n",
       "      <th>franchises</th>\n",
       "      <th>release_date</th>\n",
       "      <th>region</th>\n",
       "      <th>platform</th>\n",
       "      <th>publishers</th>\n",
       "      <th>developers</th>\n",
       "      <th>score</th>\n",
       "    </tr>\n",
       "  </thead>\n",
       "  <tbody>\n",
       "    <tr>\n",
       "      <th>0</th>\n",
       "      <td>command &amp; conquer</td>\n",
       "      <td>[{'name': 'Real-Time'}, {'name': 'Strategy'}]</td>\n",
       "      <td>[{'name': 'Sci-Fi'}]</td>\n",
       "      <td>[{'name': 'Command &amp; Conquer'}]</td>\n",
       "      <td>1995-09-26 12:00:00</td>\n",
       "      <td>Europe</td>\n",
       "      <td>PlayStation</td>\n",
       "      <td>[{'name': 'Westwood Studios'}, {'name': 'Ninte...</td>\n",
       "      <td>[{'name': 'Westwood Studios'}, {'name': 'Looki...</td>\n",
       "      <td>9.3</td>\n",
       "    </tr>\n",
       "    <tr>\n",
       "      <th>1</th>\n",
       "      <td>command &amp; conquer</td>\n",
       "      <td>[{'name': 'Real-Time'}, {'name': 'Strategy'}]</td>\n",
       "      <td>[{'name': 'Sci-Fi'}]</td>\n",
       "      <td>[{'name': 'Command &amp; Conquer'}]</td>\n",
       "      <td>1995-09-26 12:00:00</td>\n",
       "      <td>North America</td>\n",
       "      <td>PlayStation</td>\n",
       "      <td>[{'name': 'Westwood Studios'}, {'name': 'Ninte...</td>\n",
       "      <td>[{'name': 'Westwood Studios'}, {'name': 'Looki...</td>\n",
       "      <td>9.3</td>\n",
       "    </tr>\n",
       "    <tr>\n",
       "      <th>2</th>\n",
       "      <td>command &amp; conquer</td>\n",
       "      <td>[{'name': 'Real-Time'}, {'name': 'Strategy'}]</td>\n",
       "      <td>[{'name': 'Sci-Fi'}]</td>\n",
       "      <td>[{'name': 'Command &amp; Conquer'}]</td>\n",
       "      <td>1995-09-26 12:00:00</td>\n",
       "      <td>North America</td>\n",
       "      <td>PC</td>\n",
       "      <td>[{'name': 'Westwood Studios'}, {'name': 'Ninte...</td>\n",
       "      <td>[{'name': 'Westwood Studios'}, {'name': 'Looki...</td>\n",
       "      <td>9.3</td>\n",
       "    </tr>\n",
       "    <tr>\n",
       "      <th>3</th>\n",
       "      <td>command &amp; conquer</td>\n",
       "      <td>[{'name': 'Real-Time'}, {'name': 'Strategy'}]</td>\n",
       "      <td>[{'name': 'Sci-Fi'}]</td>\n",
       "      <td>[{'name': 'Command &amp; Conquer'}]</td>\n",
       "      <td>1995-09-26 12:00:00</td>\n",
       "      <td>Europe</td>\n",
       "      <td>PC</td>\n",
       "      <td>[{'name': 'Westwood Studios'}, {'name': 'Ninte...</td>\n",
       "      <td>[{'name': 'Westwood Studios'}, {'name': 'Looki...</td>\n",
       "      <td>9.3</td>\n",
       "    </tr>\n",
       "    <tr>\n",
       "      <th>4</th>\n",
       "      <td>command &amp; conquer</td>\n",
       "      <td>[{'name': 'Real-Time'}, {'name': 'Strategy'}]</td>\n",
       "      <td>[{'name': 'Sci-Fi'}]</td>\n",
       "      <td>[{'name': 'Command &amp; Conquer'}]</td>\n",
       "      <td>1995-09-26 12:00:00</td>\n",
       "      <td>North America</td>\n",
       "      <td>Nintendo 64</td>\n",
       "      <td>[{'name': 'Westwood Studios'}, {'name': 'Ninte...</td>\n",
       "      <td>[{'name': 'Westwood Studios'}, {'name': 'Looki...</td>\n",
       "      <td>9.3</td>\n",
       "    </tr>\n",
       "    <tr>\n",
       "      <th>...</th>\n",
       "      <td>...</td>\n",
       "      <td>...</td>\n",
       "      <td>...</td>\n",
       "      <td>...</td>\n",
       "      <td>...</td>\n",
       "      <td>...</td>\n",
       "      <td>...</td>\n",
       "      <td>...</td>\n",
       "      <td>...</td>\n",
       "      <td>...</td>\n",
       "    </tr>\n",
       "    <tr>\n",
       "      <th>9088</th>\n",
       "      <td>soccer</td>\n",
       "      <td>[{'name': 'Arcade'}, {'name': 'Soccer'}, {'nam...</td>\n",
       "      <td>[]</td>\n",
       "      <td>[]</td>\n",
       "      <td>1982-12-31 12:00:00</td>\n",
       "      <td>Australia</td>\n",
       "      <td>NES</td>\n",
       "      <td>[{'name': 'Nintendo'}, {'name': 'Hamster'}]</td>\n",
       "      <td>[{'name': 'Nintendo'}, {'name': 'Hamster'}]</td>\n",
       "      <td>2.2</td>\n",
       "    </tr>\n",
       "    <tr>\n",
       "      <th>9089</th>\n",
       "      <td>soccer</td>\n",
       "      <td>[{'name': 'Arcade'}, {'name': 'Soccer'}, {'nam...</td>\n",
       "      <td>[]</td>\n",
       "      <td>[]</td>\n",
       "      <td>1982-12-31 12:00:00</td>\n",
       "      <td>Europe</td>\n",
       "      <td>Game Boy</td>\n",
       "      <td>[{'name': 'GameTek'}, {'name': 'Coconuts Japan...</td>\n",
       "      <td>[{'name': 'Denton Designs'}, {'name': 'Rage So...</td>\n",
       "      <td>2.2</td>\n",
       "    </tr>\n",
       "    <tr>\n",
       "      <th>9090</th>\n",
       "      <td>soccer</td>\n",
       "      <td>[{'name': 'Arcade'}, {'name': 'Soccer'}, {'nam...</td>\n",
       "      <td>[]</td>\n",
       "      <td>[]</td>\n",
       "      <td>1982-12-31 12:00:00</td>\n",
       "      <td>North America</td>\n",
       "      <td>Arcadia 2001</td>\n",
       "      <td>[{'name': 'Emerson Radio Corp.'}, {'name': 'Th...</td>\n",
       "      <td>[{'name': 'Emerson Radio Corp.'}, {'name': 'Th...</td>\n",
       "      <td>2.2</td>\n",
       "    </tr>\n",
       "    <tr>\n",
       "      <th>9091</th>\n",
       "      <td>soccer</td>\n",
       "      <td>[{'name': 'Arcade'}, {'name': 'Soccer'}, {'nam...</td>\n",
       "      <td>[]</td>\n",
       "      <td>[]</td>\n",
       "      <td>1982-12-31 12:00:00</td>\n",
       "      <td>Europe</td>\n",
       "      <td>Atari 8-bit</td>\n",
       "      <td>[{'name': 'Emerson Radio Corp.'}, {'name': 'Th...</td>\n",
       "      <td>[{'name': 'Emerson Radio Corp.'}, {'name': 'Th...</td>\n",
       "      <td>2.2</td>\n",
       "    </tr>\n",
       "    <tr>\n",
       "      <th>9092</th>\n",
       "      <td>soccer</td>\n",
       "      <td>[{'name': 'Arcade'}, {'name': 'Soccer'}, {'nam...</td>\n",
       "      <td>[]</td>\n",
       "      <td>[]</td>\n",
       "      <td>1982-12-31 12:00:00</td>\n",
       "      <td>Australia</td>\n",
       "      <td>CreatiVision</td>\n",
       "      <td>[{'name': 'VTech'}]</td>\n",
       "      <td>[{'name': 'VTech'}]</td>\n",
       "      <td>2.2</td>\n",
       "    </tr>\n",
       "  </tbody>\n",
       "</table>\n",
       "<p>9093 rows × 10 columns</p>\n",
       "</div>"
      ],
      "text/plain": [
       "                   name                                             genres  \\\n",
       "0     command & conquer      [{'name': 'Real-Time'}, {'name': 'Strategy'}]   \n",
       "1     command & conquer      [{'name': 'Real-Time'}, {'name': 'Strategy'}]   \n",
       "2     command & conquer      [{'name': 'Real-Time'}, {'name': 'Strategy'}]   \n",
       "3     command & conquer      [{'name': 'Real-Time'}, {'name': 'Strategy'}]   \n",
       "4     command & conquer      [{'name': 'Real-Time'}, {'name': 'Strategy'}]   \n",
       "...                 ...                                                ...   \n",
       "9088             soccer  [{'name': 'Arcade'}, {'name': 'Soccer'}, {'nam...   \n",
       "9089             soccer  [{'name': 'Arcade'}, {'name': 'Soccer'}, {'nam...   \n",
       "9090             soccer  [{'name': 'Arcade'}, {'name': 'Soccer'}, {'nam...   \n",
       "9091             soccer  [{'name': 'Arcade'}, {'name': 'Soccer'}, {'nam...   \n",
       "9092             soccer  [{'name': 'Arcade'}, {'name': 'Soccer'}, {'nam...   \n",
       "\n",
       "                    themes                       franchises  \\\n",
       "0     [{'name': 'Sci-Fi'}]  [{'name': 'Command & Conquer'}]   \n",
       "1     [{'name': 'Sci-Fi'}]  [{'name': 'Command & Conquer'}]   \n",
       "2     [{'name': 'Sci-Fi'}]  [{'name': 'Command & Conquer'}]   \n",
       "3     [{'name': 'Sci-Fi'}]  [{'name': 'Command & Conquer'}]   \n",
       "4     [{'name': 'Sci-Fi'}]  [{'name': 'Command & Conquer'}]   \n",
       "...                    ...                              ...   \n",
       "9088                    []                               []   \n",
       "9089                    []                               []   \n",
       "9090                    []                               []   \n",
       "9091                    []                               []   \n",
       "9092                    []                               []   \n",
       "\n",
       "             release_date         region      platform  \\\n",
       "0     1995-09-26 12:00:00         Europe   PlayStation   \n",
       "1     1995-09-26 12:00:00  North America   PlayStation   \n",
       "2     1995-09-26 12:00:00  North America            PC   \n",
       "3     1995-09-26 12:00:00         Europe            PC   \n",
       "4     1995-09-26 12:00:00  North America   Nintendo 64   \n",
       "...                   ...            ...           ...   \n",
       "9088  1982-12-31 12:00:00      Australia           NES   \n",
       "9089  1982-12-31 12:00:00         Europe      Game Boy   \n",
       "9090  1982-12-31 12:00:00  North America  Arcadia 2001   \n",
       "9091  1982-12-31 12:00:00         Europe   Atari 8-bit   \n",
       "9092  1982-12-31 12:00:00      Australia  CreatiVision   \n",
       "\n",
       "                                             publishers  \\\n",
       "0     [{'name': 'Westwood Studios'}, {'name': 'Ninte...   \n",
       "1     [{'name': 'Westwood Studios'}, {'name': 'Ninte...   \n",
       "2     [{'name': 'Westwood Studios'}, {'name': 'Ninte...   \n",
       "3     [{'name': 'Westwood Studios'}, {'name': 'Ninte...   \n",
       "4     [{'name': 'Westwood Studios'}, {'name': 'Ninte...   \n",
       "...                                                 ...   \n",
       "9088        [{'name': 'Nintendo'}, {'name': 'Hamster'}]   \n",
       "9089  [{'name': 'GameTek'}, {'name': 'Coconuts Japan...   \n",
       "9090  [{'name': 'Emerson Radio Corp.'}, {'name': 'Th...   \n",
       "9091  [{'name': 'Emerson Radio Corp.'}, {'name': 'Th...   \n",
       "9092                                [{'name': 'VTech'}]   \n",
       "\n",
       "                                             developers  score  \n",
       "0     [{'name': 'Westwood Studios'}, {'name': 'Looki...    9.3  \n",
       "1     [{'name': 'Westwood Studios'}, {'name': 'Looki...    9.3  \n",
       "2     [{'name': 'Westwood Studios'}, {'name': 'Looki...    9.3  \n",
       "3     [{'name': 'Westwood Studios'}, {'name': 'Looki...    9.3  \n",
       "4     [{'name': 'Westwood Studios'}, {'name': 'Looki...    9.3  \n",
       "...                                                 ...    ...  \n",
       "9088        [{'name': 'Nintendo'}, {'name': 'Hamster'}]    2.2  \n",
       "9089  [{'name': 'Denton Designs'}, {'name': 'Rage So...    2.2  \n",
       "9090  [{'name': 'Emerson Radio Corp.'}, {'name': 'Th...    2.2  \n",
       "9091  [{'name': 'Emerson Radio Corp.'}, {'name': 'Th...    2.2  \n",
       "9092                                [{'name': 'VTech'}]    2.2  \n",
       "\n",
       "[9093 rows x 10 columns]"
      ]
     },
     "execution_count": 14,
     "metadata": {},
     "output_type": "execute_result"
    }
   ],
   "source": [
    "gamespot_merged"
   ]
  },
  {
   "cell_type": "markdown",
   "id": "64ea282c",
   "metadata": {},
   "source": [
    "From the 18016 rows we had before removing the duplicate rows, only 9093 rows remain. Even though a lot of rows were removed we still have quite a lot to work with. However the data cleaning process is not done so I will probably lose some more. Let's take another look at the columns we have to gain some insight in how the data is presented."
   ]
  },
  {
   "cell_type": "markdown",
   "id": "940babfe",
   "metadata": {},
   "source": [
    "From what I can see the column values of genres, themes and franchises, publishers and developers look a bit unusual. Let's take a look at what kind of values the columns have, and how often they occur in the dataset. If a column contains values that pretty much occur only once, it might be better to leave them out of the predictive model. In order to get a good look at these values I'll have to adjust the maximum amount of rows shown."
   ]
  },
  {
   "cell_type": "code",
   "execution_count": 34,
   "id": "9cfca9f7",
   "metadata": {},
   "outputs": [],
   "source": [
    "pd.set_option(\"display.max_rows\", None)"
   ]
  },
  {
   "cell_type": "markdown",
   "id": "59289437",
   "metadata": {},
   "source": [
    "Now that we have set a maximum view of rows, let's take a look at the genres"
   ]
  },
  {
   "cell_type": "code",
   "execution_count": 72,
   "id": "28cf29e3",
   "metadata": {
    "scrolled": true
   },
   "outputs": [
    {
     "data": {
      "text/plain": [
       "[{'name': 'Action'}, {'name': 'Adventure'}]                                                                    631\n",
       "[{'name': 'Arcade'}, {'name': 'Driving/Racing'}]                                                               603\n",
       "[{'name': '3D'}, {'name': 'Action'}, {'name': 'First-Person'}, {'name': 'Shooter'}]                            456\n",
       "[{'name': 'Role-Playing'}]                                                                                     377\n",
       "[{'name': 'Simulation'}]                                                                                       334\n",
       "[{'name': 'Real-Time'}, {'name': 'Strategy'}]                                                                  326\n",
       "[{'name': '3D'}, {'name': 'Action'}, {'name': 'Platformer'}]                                                   323\n",
       "[{'name': '2D'}, {'name': 'Action'}, {'name': 'Platformer'}]                                                   309\n",
       "[{'name': 'Driving/Racing'}, {'name': 'Simulation'}]                                                           305\n",
       "[{'name': '3D'}, {'name': 'Action'}, {'name': 'Fighting'}]                                                     281\n",
       "[{'name': 'Adventure'}]                                                                                        271\n",
       "[{'name': 'Action'}]                                                                                           248\n",
       "[{'name': '3D'}, {'name': 'Action'}, {'name': 'Shooter'}, {'name': 'Third-Person'}]                            219\n",
       "[{'name': 'Action'}, {'name': 'Role-Playing'}]                                                                 203\n",
       "[{'name': 'Strategy'}, {'name': 'Turn-Based'}]                                                                 203\n",
       "[{'name': 'Flight'}, {'name': 'Simulation'}]                                                                   199\n",
       "[{'name': 'Strategy'}]                                                                                         193\n",
       "[{'name': '2D'}, {'name': 'Action'}, {'name': 'Fighting'}]                                                     180\n",
       "[{'name': '3D'}, {'name': 'Action'}, {'name': 'Adventure'}, {'name': 'Survival'}]                              171\n",
       "[{'name': '2D'}, {'name': 'Action'}, {'name': \"Shoot-'Em-Up\"}]                                                 157\n",
       "[{'name': 'Action'}, {'name': 'Arcade'}]                                                                       146\n",
       "[{'name': 'Trivia/Board Game'}]                                                                                136\n",
       "[{'name': 'Baseball'}, {'name': 'Simulation'}, {'name': 'Sports'}, {'name': 'Team-Based'}]                     122\n",
       "[{'name': '2D'}, {'name': 'Action'}, {'name': \"Beat-'Em-Up\"}]                                                  121\n",
       "[{'name': '2D'}, {'name': 'Action'}, {'name': 'Fixed-Screen'}, {'name': 'Shooter'}]                            118\n",
       "[{'name': 'Action'}, {'name': 'First-Person'}, {'name': 'Shooter'}, {'name': 'Tactical'}]                      116\n",
       "[{'name': 'Basketball'}, {'name': 'Simulation'}, {'name': 'Sports'}, {'name': 'Team-Based'}]                   111\n",
       "[{'name': 'Compilation'}]                                                                                      107\n",
       "[{'name': '3D'}, {'name': 'Action'}, {'name': \"Beat-'Em-Up\"}]                                                  106\n",
       "[{'name': 'Management'}, {'name': 'Strategy'}]                                                                 106\n",
       "[{'name': 'Action'}, {'name': 'Puzzle'}]                                                                       104\n",
       "[{'name': 'Football (American)'}, {'name': 'Simulation'}, {'name': 'Sports'}, {'name': 'Team-Based'}]          100\n",
       "[{'name': 'Simulation'}, {'name': 'Soccer'}, {'name': 'Sports'}, {'name': 'Team-Based'}]                        99\n",
       "[{'name': 'Matching/Stacking'}, {'name': 'Puzzle'}]                                                             93\n",
       "[{'name': 'Hockey'}, {'name': 'Simulation'}, {'name': 'Sports'}, {'name': 'Team-Based'}]                        92\n",
       "[{'name': 'Action'}, {'name': 'Fighting'}, {'name': 'Wrestling'}]                                               90\n",
       "[{'name': 'Sports'}]                                                                                            87\n",
       "[{'name': 'Puzzle'}]                                                                                            86\n",
       "[{'name': 'Golf'}, {'name': 'Simulation'}, {'name': 'Sports'}]                                                  73\n",
       "[{'name': 'Boxing'}, {'name': 'Sports'}]                                                                        69\n",
       "[{'name': 'Music/Rhythm'}]                                                                                      66\n",
       "[{'name': 'Arcade'}, {'name': 'Basketball'}, {'name': 'Sports'}, {'name': 'Team-Based'}]                        62\n",
       "[{'name': '3D'}, {'name': 'Adventure'}, {'name': 'First-Person'}]                                               62\n",
       "[{'name': 'Sports'}, {'name': 'Tennis'}]                                                                        61\n",
       "[{'name': 'Party/Minigame'}]                                                                                    58\n",
       "[{'name': 'Action'}, {'name': 'Light-Gun'}, {'name': 'Shooter'}]                                                53\n",
       "[{'name': 'Pinball'}]                                                                                           51\n",
       "[{'name': 'MMO'}, {'name': 'Role-Playing'}]                                                                     49\n",
       "[{'name': 'Skateboarding/Skating'}, {'name': 'Sports'}]                                                         47\n",
       "[{'name': 'Gambling'}]                                                                                          45\n",
       "[{'name': 'Hunting/Fishing'}, {'name': 'Sports'}]                                                               44\n",
       "[{'name': 'Arcade'}, {'name': 'Football (American)'}, {'name': 'Sports'}, {'name': 'Team-Based'}]               41\n",
       "[{'name': 'Snowboarding/Skiing'}, {'name': 'Sports'}]                                                           40\n",
       "[{'name': 'Bowling'}, {'name': 'Sports'}]                                                                       39\n",
       "[{'name': '3D'}, {'name': 'Action'}, {'name': 'On-Rails'}, {'name': 'Shooter'}]                                 35\n",
       "[{'name': 'Arcade'}, {'name': 'Golf'}, {'name': 'Sports'}]                                                      33\n",
       "[{'name': 'Billiards'}, {'name': 'Sports'}]                                                                     31\n",
       "[{'name': 'Action'}, {'name': 'Shooter'}, {'name': 'Tactical'}, {'name': 'Third-Person'}]                       27\n",
       "[{'name': '3D'}, {'name': 'Adventure'}, {'name': 'Third-Person'}]                                               25\n",
       "[{'name': 'Arcade'}, {'name': 'Soccer'}, {'name': 'Sports'}, {'name': 'Team-Based'}]                            23\n",
       "[{'name': 'Card Game'}]                                                                                         18\n",
       "[{'name': 'Sports'}, {'name': 'Team-Based'}]                                                                    17\n",
       "[{'name': 'Roguelike'}, {'name': 'Role-Playing'}]                                                               10\n",
       "[{'name': 'Miscellaneous'}]                                                                                     10\n",
       "[{'name': 'Arcade'}, {'name': 'Baseball'}, {'name': 'Sports'}, {'name': 'Team-Based'}]                           9\n",
       "[{'name': '2D'}, {'name': 'Action'}, {'name': 'Shooter'}]                                                        8\n",
       "[{'name': '3D'}, {'name': 'Action'}, {'name': 'Adventure'}, {'name': 'Open-World'}]                              7\n",
       "[{'name': 'Management'}, {'name': 'Role-Playing'}]                                                               6\n",
       "[{'name': '3D'}, {'name': 'Action'}, {'name': 'First-Person'}, {'name': 'Shooter'}, {'name': 'Team-Based'}]      6\n",
       "[{'name': 'Sports'}, {'name': 'Wakeboarding/Surfing'}]                                                           5\n",
       "[{'name': 'MMO'}, {'name': 'Role-Playing'}, {'name': 'VR'}]                                                      4\n",
       "[{'name': '3D'}, {'name': 'Adventure'}, {'name': 'First-Person'}, {'name': 'VR'}]                                4\n",
       "[{'name': '3D'}, {'name': 'Action'}, {'name': 'Shooter'}, {'name': 'Team-Based'}, {'name': 'Third-Person'}]      4\n",
       "[{'name': 'Edutainment'}]                                                                                        4\n",
       "[{'name': 'Adventure'}, {'name': 'Third-Person'}]                                                                3\n",
       "[{'name': 'Action'}, {'name': \"Beat-'Em-Up\"}]                                                                    3\n",
       "[{'name': 'Arcade'}, {'name': 'Hockey'}, {'name': 'Sports'}, {'name': 'Team-Based'}]                             3\n",
       "[{'name': '3D'}, {'name': 'Action'}, {'name': 'First-Person'}, {'name': 'Shooter'}, {'name': 'VR'}]              3\n",
       "[{'name': 'Management'}, {'name': 'Soccer'}, {'name': 'Sports'}, {'name': 'Team-Based'}]                         1\n",
       "[{'name': 'Baseball'}, {'name': 'Management'}, {'name': 'Sports'}, {'name': 'Team-Based'}]                       1\n",
       "[{'name': 'Simulation'}, {'name': 'Strategy'}]                                                                   1\n",
       "[{'name': 'Basketball'}, {'name': 'Management'}, {'name': 'Sports'}, {'name': 'Team-Based'}]                     1\n",
       "[{'name': 'MOBA'}, {'name': 'Strategy'}]                                                                         1\n",
       "[{'name': 'Hockey'}, {'name': 'Management'}, {'name': 'Sports'}, {'name': 'Team-Based'}]                         1\n",
       "Name: genres, dtype: int64"
      ]
     },
     "execution_count": 72,
     "metadata": {},
     "output_type": "execute_result"
    }
   ],
   "source": [
    "gamespot_merged[\"genres\"].value_counts()"
   ]
  },
  {
   "cell_type": "markdown",
   "id": "5807b20f",
   "metadata": {},
   "source": [
    "From what I can see is that there are a lot of genres that exist. Apparently according to this dataset it is possible for a game to have multiple genres associated to them. For my prediction however I will assume that a game only has one genre.\n",
    "\n",
    "This means I'll have to decide what kind of genres I find most interesting and useful to use in my analysis and prediction.\n",
    "\n",
    "The genres that I will use are:\n",
    "\n",
    "Music/Rhythm, Puzzle, Sports, Fighting, Platformer, Strategy, Simulaton, Role-Playing, Shooter, Arcade, Adventure, Action\n",
    "\n",
    "I've decided on these genres because they by far occur the most in the dataset. Besides that most genres that were there are way too specific of a genre meaning they were present only a couple of times. Luckily most of them can be merged with one of the genres I decided to use. For example a game with the genre \"Hockey\" can easily be merged with the genre \"Sports\"."
   ]
  },
  {
   "cell_type": "markdown",
   "id": "1f1e1b06",
   "metadata": {},
   "source": [
    "let's take  a look at themes"
   ]
  },
  {
   "cell_type": "code",
   "execution_count": 73,
   "id": "a2a53b84",
   "metadata": {},
   "outputs": [
    {
     "data": {
      "text/plain": [
       "[]                                              6606\n",
       "[{'name': 'Sci-Fi'}]                             773\n",
       "[{'name': 'Modern'}]                             603\n",
       "[{'name': 'Fantasy'}]                            458\n",
       "[{'name': 'Historic'}]                           228\n",
       "[{'name': 'Horror'}]                             171\n",
       "[{'name': 'Military'}, {'name': 'Modern'}]        72\n",
       "[{'name': 'Sci-Fi'}, {'name': 'Space'}]           67\n",
       "[{'name': 'Historic'}, {'name': 'Military'}]      51\n",
       "[{'name': 'Military'}]                            36\n",
       "[{'name': 'Game Show'}]                           17\n",
       "[{'name': 'VR'}]                                   7\n",
       "[{'name': 'Sci-Fi'}, {'name': 'VR'}]               4\n",
       "Name: themes, dtype: int64"
      ]
     },
     "execution_count": 73,
     "metadata": {},
     "output_type": "execute_result"
    }
   ],
   "source": [
    "gamespot_merged[\"themes\"].value_counts()"
   ]
  },
  {
   "cell_type": "markdown",
   "id": "61415a57",
   "metadata": {},
   "source": [
    "I can immediately see that most of the games we have do not have a theme associated to them. This means it might not be worthwhile to take themes into consideration when performing my prediction. If I am going to use themes in my prediction this would mean I'll lose a considerable amount of data and I'd rather not have that happen.\n",
    "\n",
    "However I can perform a prediction where one includes the themes, and one that does not include the themes. This way I won't have to worry about losing data. Sure the prediction that includes the themes will have less data to work with, but I still think it's better to do that than to decide to not use the themes at all.\n",
    "\n",
    "With that in mind I will use the following themes in my prediction:\n",
    "\n",
    "VR, Game Show, Military, Horror, Historic, Fantasy, Modern and Sci-Fi\n",
    "\n",
    "I decided not to include Space because I find it too specific of a theme and it does not occur a lot in the dataset. It's better to merge it with the theme Sci-Fi instead."
   ]
  },
  {
   "cell_type": "markdown",
   "id": "4f90875d",
   "metadata": {},
   "source": [
    "Let's take a look at franchises"
   ]
  },
  {
   "cell_type": "code",
   "execution_count": 44,
   "id": "cd8983c0",
   "metadata": {
    "scrolled": true
   },
   "outputs": [
    {
     "data": {
      "text/plain": [
       "[]                                                            2345\n",
       "[{'name': 'Final Fantasy'}]                                     94\n",
       "[{'name': 'Sonic the Hedgehog'}]                                79\n",
       "[{'name': 'NBA Live'}]                                          60\n",
       "[{'name': 'FIFA Soccer'}]                                       57\n",
       "[{'name': 'Star Trek'}]                                         52\n",
       "[{'name': 'Double Dragon'}, {'name': 'Arcade Archives'}]        52\n",
       "[{'name': 'Frogger'}]                                           48\n",
       "[{'name': 'Worms'}]                                             47\n",
       "[{'name': 'NHL Hockey'}]                                        46\n",
       "[{'name': 'Pac-Man'}, {'name': 'Arcade Game Series'}]           46\n",
       "[{'name': 'DOOM'}]                                              46\n",
       "[{'name': 'Madden Football'}]                                   43\n",
       "[{'name': 'WWE / WWF'}]                                         42\n",
       "[{'name': 'Tomb Raider'}]                                       39\n",
       "[{'name': 'Rayman'}]                                            37\n",
       "[{'name': 'PGA Tour Golf'}]                                     36\n",
       "[{'name': \"Tom Clancy's Rainbow Six\"}]                          35\n",
       "[{'name': 'Star Wars'}]                                         35\n",
       "[{'name': 'Arcade Archives'}]                                   35\n",
       "[{'name': 'Mortal Kombat'}]                                     34\n",
       "[{'name': 'Paperboy'}]                                          34\n",
       "[{'name': 'Virtua Fighter'}]                                    34\n",
       "[{'name': 'Nintendo Sports'}, {'name': 'Arcade Archives'}]      33\n",
       "[{'name': 'Earthworm Jim'}]                                     33\n",
       "Name: franchises, dtype: int64"
      ]
     },
     "execution_count": 44,
     "metadata": {},
     "output_type": "execute_result"
    }
   ],
   "source": [
    "gamespot_merged[\"franchises\"].value_counts().head(25)"
   ]
  },
  {
   "cell_type": "markdown",
   "id": "7be6fc6e",
   "metadata": {},
   "source": [
    "Not all games seem to have a franchise associated to them. Furthermore I see that besides a couple of franchises most franchises occur only a handful of times and there are a lot of franchises. This means that using franchises in my prediction would probably be not very useful. I expect it to not yield any significant results and will leave franchises out of my predictions.\n",
    "\n",
    "Disclaimer: For better readability I only show the first 25 results."
   ]
  },
  {
   "cell_type": "markdown",
   "id": "cf2c8e7a",
   "metadata": {},
   "source": [
    "Let's take a look at publishers"
   ]
  },
  {
   "cell_type": "code",
   "execution_count": 46,
   "id": "df228e0f",
   "metadata": {
    "scrolled": true
   },
   "outputs": [
    {
     "data": {
      "text/plain": [
       "[{'name': 'Konami'}]                                                                                                                                                                                                                                                                                                         203\n",
       "[{'name': 'Nintendo'}]                                                                                                                                                                                                                                                                                                       178\n",
       "[{'name': 'Sega'}]                                                                                                                                                                                                                                                                                                           140\n",
       "[{'name': 'Ubisoft'}]                                                                                                                                                                                                                                                                                                        119\n",
       "[{'name': 'Acclaim'}]                                                                                                                                                                                                                                                                                                        111\n",
       "[{'name': 'Midway'}]                                                                                                                                                                                                                                                                                                         102\n",
       "[{'name': 'THQ'}]                                                                                                                                                                                                                                                                                                             99\n",
       "[{'name': 'Electronic Arts'}]                                                                                                                                                                                                                                                                                                 92\n",
       "[{'name': 'EA Games'}, {'name': 'Electronic Arts'}]                                                                                                                                                                                                                                                                           76\n",
       "[{'name': 'Capcom'}]                                                                                                                                                                                                                                                                                                          73\n",
       "[{'name': 'EA Sports'}]                                                                                                                                                                                                                                                                                                       70\n",
       "[{'name': 'Sierra Entertainment'}]                                                                                                                                                                                                                                                                                            61\n",
       "[{'name': 'Acclaim'}, {'name': 'Acclaim Japan'}]                                                                                                                                                                                                                                                                              59\n",
       "[{'name': 'Sega'}, {'name': 'Tec Toy'}]                                                                                                                                                                                                                                                                                       58\n",
       "[{'name': 'Capcom'}, {'name': 'Virgin Interactive'}]                                                                                                                                                                                                                                                                          56\n",
       "[{'name': 'Psygnosis'}]                                                                                                                                                                                                                                                                                                       51\n",
       "[{'name': 'Interplay'}]                                                                                                                                                                                                                                                                                                       51\n",
       "[{'name': '3DO'}]                                                                                                                                                                                                                                                                                                             49\n",
       "[{'name': 'Activision'}]                                                                                                                                                                                                                                                                                                      49\n",
       "[{'name': 'EA Sports'}, {'name': 'Electronic Arts'}]                                                                                                                                                                                                                                                                          48\n",
       "[{'name': 'Eidos Interactive'}]                                                                                                                                                                                                                                                                                               40\n",
       "[{'name': 'Elite'}, {'name': 'Mindscape Inc.'}, {'name': 'Atari Games (Midway)'}, {'name': 'Namco'}, {'name': 'Dynacomp, Inc.'}, {'name': 'Midway'}, {'name': 'Tengen'}, {'name': 'Elite Systems Ltd.'}, {'name': 'Atari Corporation'}, {'name': 'Altron'}, {'name': 'U.S. Gold'}, {'name': 'Tec Toy'}, {'name': 'Sega'}]     34\n",
       "[{'name': 'Atari SA'}]                                                                                                                                                                                                                                                                                                        34\n",
       "[{'name': 'Namco'}, {'name': 'SCEE'}]                                                                                                                                                                                                                                                                                         33\n",
       "[{'name': 'Microsoft Game Studios'}]                                                                                                                                                                                                                                                                                          33\n",
       "Name: publishers, dtype: int64"
      ]
     },
     "execution_count": 46,
     "metadata": {},
     "output_type": "execute_result"
    }
   ],
   "source": [
    "gamespot_merged[\"publishers\"].value_counts().head(25)"
   ]
  },
  {
   "cell_type": "markdown",
   "id": "dd1ae44d",
   "metadata": {},
   "source": [
    "There are a lot of publishers present in this dataset and I mean a lot. So many in fact that it is very hard to see how many publishers there really are. If I were to make a list of what publishers to include in my prediction I will most certainly lose data. If I want to include every possible publisher it would take too much time to figure out what publishers there are.\n",
    "\n",
    "Therefore I decided to include only the most well known publishers. These publishers are:\n",
    "\n",
    "Konami, Nintendo, Sega, Ubisoft, Acclaim, Midway, THQ, Electronic Arts, Capcom, Activision, and Square Enix.\n",
    "\n",
    "I am bound to lose data like this but as with the themes I can just do another prediction that does not include the publishers.\n",
    "\n",
    "Disclaimer: For better readability I only show the first 25 results."
   ]
  },
  {
   "cell_type": "markdown",
   "id": "c7682080",
   "metadata": {},
   "source": [
    "Let's take a look at developers"
   ]
  },
  {
   "cell_type": "code",
   "execution_count": 48,
   "id": "bfe6d0c6",
   "metadata": {},
   "outputs": [
    {
     "data": {
      "text/plain": [
       "[{'name': 'Capcom'}]                                                                                                                                                                                                                                                                                                                                                                                                                                                                      129\n",
       "[{'name': 'Nintendo'}]                                                                                                                                                                                                                                                                                                                                                                                                                                                                     74\n",
       "[{'name': 'Namco'}]                                                                                                                                                                                                                                                                                                                                                                                                                                                                        70\n",
       "[{'name': 'Sega'}]                                                                                                                                                                                                                                                                                                                                                                                                                                                                         60\n",
       "[{'name': 'Square Enix'}, {'name': 'SquareSoft'}]                                                                                                                                                                                                                                                                                                                                                                                                                                          55\n",
       "[{'name': 'Konami'}]                                                                                                                                                                                                                                                                                                                                                                                                                                                                       48\n",
       "[{'name': 'Namco Networks America'}, {'name': 'Atari'}, {'name': 'Namco'}, {'name': 'Roklan'}, {'name': 'Bandai Namco Games'}, {'name': 'Designer Software'}, {'name': 'Namco Bandai Games'}, {'name': 'Dempa Shinbunsha'}, {'name': 'Hamster'}, {'name': 'SPS'}, {'name': 'DJL Software Ltd.'}, {'name': 'K- Byte'}]                                                                                                                                                                      46\n",
       "[{'name': 'Technos'}, {'name': 'Binary Design'}, {'name': 'G-Gee'}, {'name': 'Imagineering Inc'}, {'name': 'Tiger'}, {'name': 'Million'}, {'name': 'Virgin Interactive'}, {'name': 'Software Creations'}, {'name': 'Brizo Interactive Corporation'}, {'name': 'Telegames, Inc.'}, {'name': 'Bandai'}, {'name': 'Zemina Co'}, {'name': 'Hamster'}, {'name': 'Arcadia Systems'}, {'name': 'Arc System Works'}, {'name': 'Sega'}, {'name': 'Razorworks Studios'}, {'name': 'Zeebo Inc.'}]     46\n",
       "[{'name': 'EA Sports'}]                                                                                                                                                                                                                                                                                                                                                                                                                                                                    43\n",
       "[{'name': 'Radical Entertainment'}]                                                                                                                                                                                                                                                                                                                                                                                                                                                        43\n",
       "[{'name': 'Sierra Entertainment'}]                                                                                                                                                                                                                                                                                                                                                                                                                                                         41\n",
       "[{'name': 'EA Canada'}]                                                                                                                                                                                                                                                                                                                                                                                                                                                                    38\n",
       "[{'name': 'Sonic Team'}]                                                                                                                                                                                                                                                                                                                                                                                                                                                                   38\n",
       "[{'name': 'Rare Ltd.'}]                                                                                                                                                                                                                                                                                                                                                                                                                                                                    36\n",
       "[{'name': 'Elite'}, {'name': 'Atari Games (Midway)'}, {'name': 'Dynacomp, Inc.'}, {'name': 'Tengen'}, {'name': 'Digital Eclipse'}, {'name': 'Tiertex Design Studios'}, {'name': 'MotiveTime, Ltd.'}, {'name': 'Elite Systems Ltd.'}, {'name': 'Sega'}, {'name': 'Steve Lamb'}, {'name': 'Tony Mack'}]                                                                                                                                                                                      34\n",
       "[{'name': 'LucasArts'}]                                                                                                                                                                                                                                                                                                                                                                                                                                                                    32\n",
       "[{'name': 'Gameloft'}]                                                                                                                                                                                                                                                                                                                                                                                                                                                                     32\n",
       "[{'name': 'Core Design Ltd.'}]                                                                                                                                                                                                                                                                                                                                                                                                                                                             30\n",
       "[{'name': 'SquareSoft'}]                                                                                                                                                                                                                                                                                                                                                                                                                                                                   30\n",
       "[{'name': 'Eurocom Entertainment Software'}]                                                                                                                                                                                                                                                                                                                                                                                                                                               30\n",
       "[{'name': 'From Software'}]                                                                                                                                                                                                                                                                                                                                                                                                                                                                29\n",
       "[{'name': 'Sega AM2'}, {'name': 'Sega'}]                                                                                                                                                                                                                                                                                                                                                                                                                                                   28\n",
       "[{'name': 'Hudson'}]                                                                                                                                                                                                                                                                                                                                                                                                                                                                       28\n",
       "[{'name': 'Pacific Kougyou'}, {'name': 'Bally Midway'}, {'name': 'Atari'}, {'name': 'Taito Corporation'}, {'name': 'Bug-Byte'}, {'name': 'MSI Entertainment'}, {'name': 'Lavastorm'}, {'name': 'TOSE'}, {'name': 'Sega'}, {'name': 'SunSoft'}]                                                                                                                                                                                                                                             28\n",
       "[{'name': 'Konami'}, {'name': 'A&F Software'}, {'name': 'James Wickstead Design Associates'}, {'name': 'Sega'}, {'name': 'Hamster'}, {'name': 'Microbyte'}, {'name': 'Tomy Corporation'}, {'name': 'Digital Eclipse'}]                                                                                                                                                                                                                                                                     27\n",
       "Name: developers, dtype: int64"
      ]
     },
     "execution_count": 48,
     "metadata": {},
     "output_type": "execute_result"
    }
   ],
   "source": [
    "gamespot_merged[\"developers\"].value_counts().head(25)"
   ]
  },
  {
   "cell_type": "markdown",
   "id": "b5a0f758",
   "metadata": {},
   "source": [
    "Like with the publishers there are many developers present in this dataset. Of which many that are the same as the publishers. This would make predicting rating based on both of these values redundant since they are the same. From the developers that are not the same as the publisher they only occur a handful of times making me think that using the developers as a predictor might not be very useful. I will leave the developers out of my prediction.\n",
    "\n",
    "Disclaimer: For better readability I only show the first 25 results."
   ]
  },
  {
   "cell_type": "markdown",
   "id": "8de8a7d1",
   "metadata": {},
   "source": [
    "Now that i've looked at the genres, themes, franchises, publishers and developers it's time to clean that data and remove columns where necessary. But first let's set the maxmimum viewed rows back to the default value to ensure less clutter. Also to prevent data loss and potential data type conflicts I will convert all the columns that are not numerical to strings, and convert them to lowercase just to be safe. I'll also convert release_date to an actual datetime showing only the year of release since that's the only important part of the release_date column we need."
   ]
  },
  {
   "cell_type": "code",
   "execution_count": 40,
   "id": "28c259d8",
   "metadata": {},
   "outputs": [],
   "source": [
    "pd.reset_option(\"display.max_rows\")"
   ]
  },
  {
   "cell_type": "code",
   "execution_count": 15,
   "id": "0ca95280",
   "metadata": {},
   "outputs": [],
   "source": [
    "gamespot_merged[\"genres\"] = gamespot_merged[\"genres\"].str.lower()\n",
    "gamespot_merged[\"themes\"] = gamespot_merged[\"themes\"].str.lower()\n",
    "gamespot_merged[\"publishers\"] = gamespot_merged[\"publishers\"].str.lower()\n",
    "\n",
    "for i in gamespot_merged.index:\n",
    "    gamespot_merged.iloc[i, 4] = dt.strptime(gamespot_merged.iloc[i, 4], \"%Y-%m-%d %H:%M:%S\").year\n",
    "\n",
    "gamespot_merged[[\"genres\", \"themes\", \"region\", \"platform\", \"publishers\"]] = gamespot_merged[[\"genres\", \"themes\", \"region\", \"platform\", \"publishers\"]].astype(str)"
   ]
  },
  {
   "cell_type": "markdown",
   "id": "a2f69d15",
   "metadata": {},
   "source": [
    "With the column data types in order and having converted the string values to lowercase, I will create a dataframe where the cleaned data will be stored into."
   ]
  },
  {
   "cell_type": "code",
   "execution_count": 35,
   "id": "dbdb93d6",
   "metadata": {
    "scrolled": true
   },
   "outputs": [
    {
     "data": {
      "text/html": [
       "<div>\n",
       "<style scoped>\n",
       "    .dataframe tbody tr th:only-of-type {\n",
       "        vertical-align: middle;\n",
       "    }\n",
       "\n",
       "    .dataframe tbody tr th {\n",
       "        vertical-align: top;\n",
       "    }\n",
       "\n",
       "    .dataframe thead th {\n",
       "        text-align: right;\n",
       "    }\n",
       "</style>\n",
       "<table border=\"1\" class=\"dataframe\">\n",
       "  <thead>\n",
       "    <tr style=\"text-align: right;\">\n",
       "      <th></th>\n",
       "      <th>name</th>\n",
       "      <th>score</th>\n",
       "      <th>release_date</th>\n",
       "      <th>region</th>\n",
       "      <th>platform</th>\n",
       "      <th>genres</th>\n",
       "      <th>themes</th>\n",
       "      <th>publishers</th>\n",
       "    </tr>\n",
       "  </thead>\n",
       "  <tbody>\n",
       "    <tr>\n",
       "      <th>0</th>\n",
       "      <td>command &amp; conquer</td>\n",
       "      <td>9.3</td>\n",
       "      <td>1995</td>\n",
       "      <td>Europe</td>\n",
       "      <td>PlayStation</td>\n",
       "      <td></td>\n",
       "      <td></td>\n",
       "      <td></td>\n",
       "    </tr>\n",
       "    <tr>\n",
       "      <th>1</th>\n",
       "      <td>command &amp; conquer</td>\n",
       "      <td>9.3</td>\n",
       "      <td>1995</td>\n",
       "      <td>North America</td>\n",
       "      <td>PlayStation</td>\n",
       "      <td></td>\n",
       "      <td></td>\n",
       "      <td></td>\n",
       "    </tr>\n",
       "    <tr>\n",
       "      <th>2</th>\n",
       "      <td>command &amp; conquer</td>\n",
       "      <td>9.3</td>\n",
       "      <td>1995</td>\n",
       "      <td>North America</td>\n",
       "      <td>PC</td>\n",
       "      <td></td>\n",
       "      <td></td>\n",
       "      <td></td>\n",
       "    </tr>\n",
       "    <tr>\n",
       "      <th>3</th>\n",
       "      <td>command &amp; conquer</td>\n",
       "      <td>9.3</td>\n",
       "      <td>1995</td>\n",
       "      <td>Europe</td>\n",
       "      <td>PC</td>\n",
       "      <td></td>\n",
       "      <td></td>\n",
       "      <td></td>\n",
       "    </tr>\n",
       "    <tr>\n",
       "      <th>4</th>\n",
       "      <td>command &amp; conquer</td>\n",
       "      <td>9.3</td>\n",
       "      <td>1995</td>\n",
       "      <td>North America</td>\n",
       "      <td>Nintendo 64</td>\n",
       "      <td></td>\n",
       "      <td></td>\n",
       "      <td></td>\n",
       "    </tr>\n",
       "    <tr>\n",
       "      <th>...</th>\n",
       "      <td>...</td>\n",
       "      <td>...</td>\n",
       "      <td>...</td>\n",
       "      <td>...</td>\n",
       "      <td>...</td>\n",
       "      <td>...</td>\n",
       "      <td>...</td>\n",
       "      <td>...</td>\n",
       "    </tr>\n",
       "    <tr>\n",
       "      <th>9088</th>\n",
       "      <td>soccer</td>\n",
       "      <td>2.2</td>\n",
       "      <td>1982</td>\n",
       "      <td>Australia</td>\n",
       "      <td>NES</td>\n",
       "      <td></td>\n",
       "      <td></td>\n",
       "      <td></td>\n",
       "    </tr>\n",
       "    <tr>\n",
       "      <th>9089</th>\n",
       "      <td>soccer</td>\n",
       "      <td>2.2</td>\n",
       "      <td>1982</td>\n",
       "      <td>Europe</td>\n",
       "      <td>Game Boy</td>\n",
       "      <td></td>\n",
       "      <td></td>\n",
       "      <td></td>\n",
       "    </tr>\n",
       "    <tr>\n",
       "      <th>9090</th>\n",
       "      <td>soccer</td>\n",
       "      <td>2.2</td>\n",
       "      <td>1982</td>\n",
       "      <td>North America</td>\n",
       "      <td>Arcadia 2001</td>\n",
       "      <td></td>\n",
       "      <td></td>\n",
       "      <td></td>\n",
       "    </tr>\n",
       "    <tr>\n",
       "      <th>9091</th>\n",
       "      <td>soccer</td>\n",
       "      <td>2.2</td>\n",
       "      <td>1982</td>\n",
       "      <td>Europe</td>\n",
       "      <td>Atari 8-bit</td>\n",
       "      <td></td>\n",
       "      <td></td>\n",
       "      <td></td>\n",
       "    </tr>\n",
       "    <tr>\n",
       "      <th>9092</th>\n",
       "      <td>soccer</td>\n",
       "      <td>2.2</td>\n",
       "      <td>1982</td>\n",
       "      <td>Australia</td>\n",
       "      <td>CreatiVision</td>\n",
       "      <td></td>\n",
       "      <td></td>\n",
       "      <td></td>\n",
       "    </tr>\n",
       "  </tbody>\n",
       "</table>\n",
       "<p>9093 rows × 8 columns</p>\n",
       "</div>"
      ],
      "text/plain": [
       "                   name  score release_date         region      platform  \\\n",
       "0     command & conquer    9.3         1995         Europe   PlayStation   \n",
       "1     command & conquer    9.3         1995  North America   PlayStation   \n",
       "2     command & conquer    9.3         1995  North America            PC   \n",
       "3     command & conquer    9.3         1995         Europe            PC   \n",
       "4     command & conquer    9.3         1995  North America   Nintendo 64   \n",
       "...                 ...    ...          ...            ...           ...   \n",
       "9088             soccer    2.2         1982      Australia           NES   \n",
       "9089             soccer    2.2         1982         Europe      Game Boy   \n",
       "9090             soccer    2.2         1982  North America  Arcadia 2001   \n",
       "9091             soccer    2.2         1982         Europe   Atari 8-bit   \n",
       "9092             soccer    2.2         1982      Australia  CreatiVision   \n",
       "\n",
       "     genres themes publishers  \n",
       "0                              \n",
       "1                              \n",
       "2                              \n",
       "3                              \n",
       "4                              \n",
       "...     ...    ...        ...  \n",
       "9088                           \n",
       "9089                           \n",
       "9090                           \n",
       "9091                           \n",
       "9092                           \n",
       "\n",
       "[9093 rows x 8 columns]"
      ]
     },
     "execution_count": 35,
     "metadata": {},
     "output_type": "execute_result"
    }
   ],
   "source": [
    "gamespot_final = gamespot_merged[[\"name\", \"score\", \"release_date\", \"region\", \"platform\"]].copy()\n",
    "gamespot_final[[\"genres\", \"themes\", \"publishers\"]] = \"\"\n",
    "\n",
    "gamespot_final"
   ]
  },
  {
   "cell_type": "markdown",
   "id": "a0032ffe",
   "metadata": {},
   "source": [
    "In order to clean the data I will create a loop that extracts the data, cleans it and puts it into the new dataframe."
   ]
  },
  {
   "cell_type": "code",
   "execution_count": 36,
   "id": "0f4d527b",
   "metadata": {},
   "outputs": [],
   "source": [
    "name = \"\"\n",
    "\n",
    "for i in gamespot_final.index:\n",
    "    \n",
    "    # Check to see if a game has already been processed\n",
    "    if(gamespot_final.iloc[i, 0] != name):\n",
    "        name = gamespot_final.iloc[i, 0]\n",
    "        \n",
    "        # Extract the genre from the gamespot_merged dataset and assign it to the associated game\n",
    "        if(\"'music/rhythm'\" != None and \"'music/rhythm'\" in gamespot_merged.iloc[i, 1]):\n",
    "            gamespot_final.loc[gamespot_final[\"name\"] == gamespot_merged.iloc[i, 0], \"genres\"] = \"music/rhythm\"\n",
    "        elif(\"'puzzle'\" != None and \"'puzzle'\" in gamespot_merged.iloc[i, 1]):\n",
    "            gamespot_final.loc[gamespot_final[\"name\"] == gamespot_merged.iloc[i, 0], \"genres\"] = \"puzzle\"\n",
    "        elif(\"'sports'\" != None and \"'sports'\" in gamespot_merged.iloc[i, 1]):\n",
    "            gamespot_final.loc[gamespot_final[\"name\"] == gamespot_merged.iloc[i, 0], \"genres\"] = \"sports\"\n",
    "        elif(\"'fighting'\" != None and \"'fighting'\" in gamespot_merged.iloc[i, 1]):\n",
    "            gamespot_final.loc[gamespot_final[\"name\"] == gamespot_merged.iloc[i, 0], \"genres\"] = \"fighting\"\n",
    "        elif(\"'platformer'\" != None and \"'platformer'\" in gamespot_merged.iloc[i, 1]):\n",
    "            gamespot_final.loc[gamespot_final[\"name\"] == gamespot_merged.iloc[i, 0], \"genres\"] = \"platformer\"\n",
    "        elif(\"'strategy'\" != None and \"'strategy'\" in gamespot_merged.iloc[i, 1]):\n",
    "            gamespot_final.loc[gamespot_final[\"name\"] == gamespot_merged.iloc[i, 0], \"genres\"] = \"strategy\"\n",
    "        elif(\"'simulation'\" != None and \"'simulation'\" in gamespot_merged.iloc[i, 1]):\n",
    "            gamespot_final.loc[gamespot_final[\"name\"] == gamespot_merged.iloc[i, 0], \"genres\"] = \"simulation\"\n",
    "        elif(\"'role-playing'\" != None and \"'role-playing'\" in gamespot_merged.iloc[i, 1]):\n",
    "            gamespot_final.loc[gamespot_final[\"name\"] == gamespot_merged.iloc[i, 0], \"genres\"] = \"role-playing\"\n",
    "        elif(\"'shooter'\" != None and \"'shooter'\" in gamespot_merged.iloc[i, 1]):\n",
    "            gamespot_final.loc[gamespot_final[\"name\"] == gamespot_merged.iloc[i, 0], \"genres\"] = \"shooter\"\n",
    "        elif(\"'arcade'\" != None and \"'arcade'\" in gamespot_merged.iloc[i, 1]):\n",
    "            gamespot_final.loc[gamespot_final[\"name\"] == gamespot_merged.iloc[i, 0], \"genres\"] = \"arcade\"\n",
    "        elif(\"'adventure'\" != None and \"'adventure'\" in gamespot_merged.iloc[i, 1]):\n",
    "            gamespot_final.loc[gamespot_final[\"name\"] == gamespot_merged.iloc[i, 0], \"genres\"] = \"adventure\"\n",
    "        elif(\"'action'\" != None and \"'action'\" in gamespot_merged.iloc[i, 1]):\n",
    "            gamespot_final.loc[gamespot_final[\"name\"] == gamespot_merged.iloc[i, 0], \"genres\"] = \"action\"\n",
    "    \n",
    "        # Extract the theme from the gamespot_merged dataset and assign it to the associated game\n",
    "        if(\"'vr'\" != None and \"'vr'\" in gamespot_merged.iloc[i, 2]):\n",
    "            gamespot_final.loc[gamespot_final[\"name\"] == gamespot_merged.iloc[i, 0], \"themes\"] = \"vr\"\n",
    "        elif(\"'game show'\" != None and \"'game show'\" in gamespot_merged.iloc[i, 2]):\n",
    "            gamespot_final.loc[gamespot_final[\"name\"] == gamespot_merged.iloc[i, 0], \"themes\"] = \"game show\"\n",
    "        elif(\"'military'\" != None and \"'military'\" in gamespot_merged.iloc[i, 2]):\n",
    "            gamespot_final.loc[gamespot_final[\"name\"] == gamespot_merged.iloc[i, 0], \"themes\"] = \"military\"\n",
    "        elif(\"'horror'\" != None and \"'horror'\" in gamespot_merged.iloc[i, 2]):\n",
    "            gamespot_final.loc[gamespot_final[\"name\"] == gamespot_merged.iloc[i, 0], \"themes\"] = \"horror\"\n",
    "        elif(\"'historic'\" != None and \"'historic'\" in gamespot_merged.iloc[i, 2]):\n",
    "            gamespot_final.loc[gamespot_final[\"name\"] == gamespot_merged.iloc[i, 0], \"themes\"] = \"historic\"\n",
    "        elif(\"'fantasy'\" != None and \"'fantasy'\" in gamespot_merged.iloc[i, 2]):\n",
    "            gamespot_final.loc[gamespot_final[\"name\"] == gamespot_merged.iloc[i, 0], \"themes\"] = \"fantasy\"\n",
    "        elif(\"'modern'\" != None and \"'modern'\" in gamespot_merged.iloc[i, 2]):\n",
    "            gamespot_final.loc[gamespot_final[\"name\"] == gamespot_merged.iloc[i, 0], \"themes\"] = \"modern\"\n",
    "        elif(\"'sci-fi'\" != None and \"'sci-fi'\" in gamespot_merged.iloc[i, 2]):\n",
    "            gamespot_final.loc[gamespot_final[\"name\"] == gamespot_merged.iloc[i, 0], \"themes\"] = \"sci-fi\"\n",
    "            \n",
    "        # Extract the publisher from the gamespot_merged dataset and assign it to the associated game\n",
    "        if(\"'konami'\" != None and \"'konami'\" in gamespot_merged.iloc[i, 7]):\n",
    "            gamespot_final.loc[gamespot_final[\"name\"] == gamespot_merged.iloc[i, 0], \"publishers\"] = \"konami\"\n",
    "        elif(\"'nintendo'\" != None and \"'nintendo'\" in gamespot_merged.iloc[i, 7]):\n",
    "            gamespot_final.loc[gamespot_final[\"name\"] == gamespot_merged.iloc[i, 0], \"publishers\"] = \"nintendo\"\n",
    "        elif(\"'sega'\" != None and \"'sega'\" in gamespot_merged.iloc[i, 7]):\n",
    "            gamespot_final.loc[gamespot_final[\"name\"] == gamespot_merged.iloc[i, 0], \"publishers\"] = \"sega\"\n",
    "        elif(\"'ubisoft'\" != None and \"'ubisoft'\" in gamespot_merged.iloc[i, 7]):\n",
    "            gamespot_final.loc[gamespot_final[\"name\"] == gamespot_merged.iloc[i, 0], \"publishers\"] = \"ubisoft\"\n",
    "        elif(\"'acclaim'\" != None and \"'acclaim'\" in gamespot_merged.iloc[i, 7]):\n",
    "            gamespot_final.loc[gamespot_final[\"name\"] == gamespot_merged.iloc[i, 0], \"publishers\"] = \"acclaim\"\n",
    "        elif(\"'midway'\" != None and \"'midway'\" in gamespot_merged.iloc[i, 7]):\n",
    "            gamespot_final.loc[gamespot_final[\"name\"] == gamespot_merged.iloc[i, 0], \"publishers\"] = \"midway\"\n",
    "        elif(\"'thq'\" != None and \"'thq'\" in gamespot_merged.iloc[i, 7]):\n",
    "            gamespot_final.loc[gamespot_final[\"name\"] == gamespot_merged.iloc[i, 0], \"publishers\"] = \"thq\"\n",
    "        elif(\"'electronic arts'\" != None and \"'electronic arts'\" in gamespot_merged.iloc[i, 7]):\n",
    "            gamespot_final.loc[gamespot_final[\"name\"] == gamespot_merged.iloc[i, 0], \"publishers\"] = \"electronic arts\"\n",
    "        elif(\"'capcom'\" != None and \"'capcom'\" in gamespot_merged.iloc[i, 7]):\n",
    "            gamespot_final.loc[gamespot_final[\"name\"] == gamespot_merged.iloc[i, 0], \"publishers\"] = \"capcom\"\n",
    "        elif(\"'activision'\" != None and \"'activision'\" in gamespot_merged.iloc[i, 7]):\n",
    "            gamespot_final.loc[gamespot_final[\"name\"] == gamespot_merged.iloc[i, 0], \"publishers\"] = \"activision\"\n",
    "        elif(\"'square enix'\" != None and \"'square enix'\" in gamespot_merged.iloc[i, 7]):\n",
    "            gamespot_final.loc[gamespot_final[\"name\"] == gamespot_merged.iloc[i, 0], \"publishers\"] = \"square enix\""
   ]
  },
  {
   "cell_type": "markdown",
   "id": "2ef4b0c5",
   "metadata": {},
   "source": [
    "Let's check if the loop did it's job."
   ]
  },
  {
   "cell_type": "code",
   "execution_count": 37,
   "id": "e7c472ff",
   "metadata": {
    "scrolled": true
   },
   "outputs": [
    {
     "data": {
      "text/html": [
       "<div>\n",
       "<style scoped>\n",
       "    .dataframe tbody tr th:only-of-type {\n",
       "        vertical-align: middle;\n",
       "    }\n",
       "\n",
       "    .dataframe tbody tr th {\n",
       "        vertical-align: top;\n",
       "    }\n",
       "\n",
       "    .dataframe thead th {\n",
       "        text-align: right;\n",
       "    }\n",
       "</style>\n",
       "<table border=\"1\" class=\"dataframe\">\n",
       "  <thead>\n",
       "    <tr style=\"text-align: right;\">\n",
       "      <th></th>\n",
       "      <th>name</th>\n",
       "      <th>score</th>\n",
       "      <th>release_date</th>\n",
       "      <th>region</th>\n",
       "      <th>platform</th>\n",
       "      <th>genres</th>\n",
       "      <th>themes</th>\n",
       "      <th>publishers</th>\n",
       "    </tr>\n",
       "  </thead>\n",
       "  <tbody>\n",
       "    <tr>\n",
       "      <th>0</th>\n",
       "      <td>command &amp; conquer</td>\n",
       "      <td>9.3</td>\n",
       "      <td>1995</td>\n",
       "      <td>Europe</td>\n",
       "      <td>PlayStation</td>\n",
       "      <td>strategy</td>\n",
       "      <td>sci-fi</td>\n",
       "      <td>nintendo</td>\n",
       "    </tr>\n",
       "    <tr>\n",
       "      <th>1</th>\n",
       "      <td>command &amp; conquer</td>\n",
       "      <td>9.3</td>\n",
       "      <td>1995</td>\n",
       "      <td>North America</td>\n",
       "      <td>PlayStation</td>\n",
       "      <td>strategy</td>\n",
       "      <td>sci-fi</td>\n",
       "      <td>nintendo</td>\n",
       "    </tr>\n",
       "    <tr>\n",
       "      <th>2</th>\n",
       "      <td>command &amp; conquer</td>\n",
       "      <td>9.3</td>\n",
       "      <td>1995</td>\n",
       "      <td>North America</td>\n",
       "      <td>PC</td>\n",
       "      <td>strategy</td>\n",
       "      <td>sci-fi</td>\n",
       "      <td>nintendo</td>\n",
       "    </tr>\n",
       "    <tr>\n",
       "      <th>3</th>\n",
       "      <td>command &amp; conquer</td>\n",
       "      <td>9.3</td>\n",
       "      <td>1995</td>\n",
       "      <td>Europe</td>\n",
       "      <td>PC</td>\n",
       "      <td>strategy</td>\n",
       "      <td>sci-fi</td>\n",
       "      <td>nintendo</td>\n",
       "    </tr>\n",
       "    <tr>\n",
       "      <th>4</th>\n",
       "      <td>command &amp; conquer</td>\n",
       "      <td>9.3</td>\n",
       "      <td>1995</td>\n",
       "      <td>North America</td>\n",
       "      <td>Nintendo 64</td>\n",
       "      <td>strategy</td>\n",
       "      <td>sci-fi</td>\n",
       "      <td>nintendo</td>\n",
       "    </tr>\n",
       "    <tr>\n",
       "      <th>...</th>\n",
       "      <td>...</td>\n",
       "      <td>...</td>\n",
       "      <td>...</td>\n",
       "      <td>...</td>\n",
       "      <td>...</td>\n",
       "      <td>...</td>\n",
       "      <td>...</td>\n",
       "      <td>...</td>\n",
       "    </tr>\n",
       "    <tr>\n",
       "      <th>9088</th>\n",
       "      <td>soccer</td>\n",
       "      <td>2.2</td>\n",
       "      <td>1982</td>\n",
       "      <td>Australia</td>\n",
       "      <td>NES</td>\n",
       "      <td>sports</td>\n",
       "      <td></td>\n",
       "      <td></td>\n",
       "    </tr>\n",
       "    <tr>\n",
       "      <th>9089</th>\n",
       "      <td>soccer</td>\n",
       "      <td>2.2</td>\n",
       "      <td>1982</td>\n",
       "      <td>Europe</td>\n",
       "      <td>Game Boy</td>\n",
       "      <td>sports</td>\n",
       "      <td></td>\n",
       "      <td></td>\n",
       "    </tr>\n",
       "    <tr>\n",
       "      <th>9090</th>\n",
       "      <td>soccer</td>\n",
       "      <td>2.2</td>\n",
       "      <td>1982</td>\n",
       "      <td>North America</td>\n",
       "      <td>Arcadia 2001</td>\n",
       "      <td>sports</td>\n",
       "      <td></td>\n",
       "      <td></td>\n",
       "    </tr>\n",
       "    <tr>\n",
       "      <th>9091</th>\n",
       "      <td>soccer</td>\n",
       "      <td>2.2</td>\n",
       "      <td>1982</td>\n",
       "      <td>Europe</td>\n",
       "      <td>Atari 8-bit</td>\n",
       "      <td>sports</td>\n",
       "      <td></td>\n",
       "      <td></td>\n",
       "    </tr>\n",
       "    <tr>\n",
       "      <th>9092</th>\n",
       "      <td>soccer</td>\n",
       "      <td>2.2</td>\n",
       "      <td>1982</td>\n",
       "      <td>Australia</td>\n",
       "      <td>CreatiVision</td>\n",
       "      <td>sports</td>\n",
       "      <td></td>\n",
       "      <td></td>\n",
       "    </tr>\n",
       "  </tbody>\n",
       "</table>\n",
       "<p>9093 rows × 8 columns</p>\n",
       "</div>"
      ],
      "text/plain": [
       "                   name  score release_date         region      platform  \\\n",
       "0     command & conquer    9.3         1995         Europe   PlayStation   \n",
       "1     command & conquer    9.3         1995  North America   PlayStation   \n",
       "2     command & conquer    9.3         1995  North America            PC   \n",
       "3     command & conquer    9.3         1995         Europe            PC   \n",
       "4     command & conquer    9.3         1995  North America   Nintendo 64   \n",
       "...                 ...    ...          ...            ...           ...   \n",
       "9088             soccer    2.2         1982      Australia           NES   \n",
       "9089             soccer    2.2         1982         Europe      Game Boy   \n",
       "9090             soccer    2.2         1982  North America  Arcadia 2001   \n",
       "9091             soccer    2.2         1982         Europe   Atari 8-bit   \n",
       "9092             soccer    2.2         1982      Australia  CreatiVision   \n",
       "\n",
       "        genres  themes publishers  \n",
       "0     strategy  sci-fi   nintendo  \n",
       "1     strategy  sci-fi   nintendo  \n",
       "2     strategy  sci-fi   nintendo  \n",
       "3     strategy  sci-fi   nintendo  \n",
       "4     strategy  sci-fi   nintendo  \n",
       "...        ...     ...        ...  \n",
       "9088    sports                     \n",
       "9089    sports                     \n",
       "9090    sports                     \n",
       "9091    sports                     \n",
       "9092    sports                     \n",
       "\n",
       "[9093 rows x 8 columns]"
      ]
     },
     "execution_count": 37,
     "metadata": {},
     "output_type": "execute_result"
    }
   ],
   "source": [
    "gamespot_final"
   ]
  },
  {
   "cell_type": "markdown",
   "id": "3b7a2874",
   "metadata": {},
   "source": [
    "Looks like it did the job. Every game now has it's genre, theme and publisher presented in a clear way that can be used in the analysis and the prediction. I'll save it to a csv so that the data is save and we won't have to run that loop again."
   ]
  },
  {
   "cell_type": "code",
   "execution_count": 194,
   "id": "68eb2b40",
   "metadata": {},
   "outputs": [],
   "source": [
    "gamespot_final.to_csv(\"gamespot_final.csv\", index=False)"
   ]
  },
  {
   "cell_type": "code",
   "execution_count": 3,
   "id": "b51378f3",
   "metadata": {},
   "outputs": [
    {
     "data": {
      "text/html": [
       "<div>\n",
       "<style scoped>\n",
       "    .dataframe tbody tr th:only-of-type {\n",
       "        vertical-align: middle;\n",
       "    }\n",
       "\n",
       "    .dataframe tbody tr th {\n",
       "        vertical-align: top;\n",
       "    }\n",
       "\n",
       "    .dataframe thead th {\n",
       "        text-align: right;\n",
       "    }\n",
       "</style>\n",
       "<table border=\"1\" class=\"dataframe\">\n",
       "  <thead>\n",
       "    <tr style=\"text-align: right;\">\n",
       "      <th></th>\n",
       "      <th>name</th>\n",
       "      <th>score</th>\n",
       "      <th>release_date</th>\n",
       "      <th>region</th>\n",
       "      <th>platform</th>\n",
       "      <th>genres</th>\n",
       "      <th>themes</th>\n",
       "      <th>publishers</th>\n",
       "    </tr>\n",
       "  </thead>\n",
       "  <tbody>\n",
       "    <tr>\n",
       "      <th>0</th>\n",
       "      <td>command &amp; conquer</td>\n",
       "      <td>9.3</td>\n",
       "      <td>1995</td>\n",
       "      <td>Europe</td>\n",
       "      <td>PlayStation</td>\n",
       "      <td>strategy</td>\n",
       "      <td>sci-fi</td>\n",
       "      <td>nintendo</td>\n",
       "    </tr>\n",
       "    <tr>\n",
       "      <th>1</th>\n",
       "      <td>command &amp; conquer</td>\n",
       "      <td>9.3</td>\n",
       "      <td>1995</td>\n",
       "      <td>North America</td>\n",
       "      <td>PlayStation</td>\n",
       "      <td>strategy</td>\n",
       "      <td>sci-fi</td>\n",
       "      <td>nintendo</td>\n",
       "    </tr>\n",
       "    <tr>\n",
       "      <th>2</th>\n",
       "      <td>command &amp; conquer</td>\n",
       "      <td>9.3</td>\n",
       "      <td>1995</td>\n",
       "      <td>North America</td>\n",
       "      <td>PC</td>\n",
       "      <td>strategy</td>\n",
       "      <td>sci-fi</td>\n",
       "      <td>nintendo</td>\n",
       "    </tr>\n",
       "    <tr>\n",
       "      <th>3</th>\n",
       "      <td>command &amp; conquer</td>\n",
       "      <td>9.3</td>\n",
       "      <td>1995</td>\n",
       "      <td>Europe</td>\n",
       "      <td>PC</td>\n",
       "      <td>strategy</td>\n",
       "      <td>sci-fi</td>\n",
       "      <td>nintendo</td>\n",
       "    </tr>\n",
       "    <tr>\n",
       "      <th>4</th>\n",
       "      <td>command &amp; conquer</td>\n",
       "      <td>9.3</td>\n",
       "      <td>1995</td>\n",
       "      <td>North America</td>\n",
       "      <td>Nintendo 64</td>\n",
       "      <td>strategy</td>\n",
       "      <td>sci-fi</td>\n",
       "      <td>nintendo</td>\n",
       "    </tr>\n",
       "    <tr>\n",
       "      <th>...</th>\n",
       "      <td>...</td>\n",
       "      <td>...</td>\n",
       "      <td>...</td>\n",
       "      <td>...</td>\n",
       "      <td>...</td>\n",
       "      <td>...</td>\n",
       "      <td>...</td>\n",
       "      <td>...</td>\n",
       "    </tr>\n",
       "    <tr>\n",
       "      <th>9088</th>\n",
       "      <td>soccer</td>\n",
       "      <td>2.2</td>\n",
       "      <td>1982</td>\n",
       "      <td>Australia</td>\n",
       "      <td>NES</td>\n",
       "      <td>sports</td>\n",
       "      <td>NaN</td>\n",
       "      <td>NaN</td>\n",
       "    </tr>\n",
       "    <tr>\n",
       "      <th>9089</th>\n",
       "      <td>soccer</td>\n",
       "      <td>2.2</td>\n",
       "      <td>1982</td>\n",
       "      <td>Europe</td>\n",
       "      <td>Game Boy</td>\n",
       "      <td>sports</td>\n",
       "      <td>NaN</td>\n",
       "      <td>NaN</td>\n",
       "    </tr>\n",
       "    <tr>\n",
       "      <th>9090</th>\n",
       "      <td>soccer</td>\n",
       "      <td>2.2</td>\n",
       "      <td>1982</td>\n",
       "      <td>North America</td>\n",
       "      <td>Arcadia 2001</td>\n",
       "      <td>sports</td>\n",
       "      <td>NaN</td>\n",
       "      <td>NaN</td>\n",
       "    </tr>\n",
       "    <tr>\n",
       "      <th>9091</th>\n",
       "      <td>soccer</td>\n",
       "      <td>2.2</td>\n",
       "      <td>1982</td>\n",
       "      <td>Europe</td>\n",
       "      <td>Atari 8-bit</td>\n",
       "      <td>sports</td>\n",
       "      <td>NaN</td>\n",
       "      <td>NaN</td>\n",
       "    </tr>\n",
       "    <tr>\n",
       "      <th>9092</th>\n",
       "      <td>soccer</td>\n",
       "      <td>2.2</td>\n",
       "      <td>1982</td>\n",
       "      <td>Australia</td>\n",
       "      <td>CreatiVision</td>\n",
       "      <td>sports</td>\n",
       "      <td>NaN</td>\n",
       "      <td>NaN</td>\n",
       "    </tr>\n",
       "  </tbody>\n",
       "</table>\n",
       "<p>9093 rows × 8 columns</p>\n",
       "</div>"
      ],
      "text/plain": [
       "                   name  score  release_date         region      platform  \\\n",
       "0     command & conquer    9.3          1995         Europe   PlayStation   \n",
       "1     command & conquer    9.3          1995  North America   PlayStation   \n",
       "2     command & conquer    9.3          1995  North America            PC   \n",
       "3     command & conquer    9.3          1995         Europe            PC   \n",
       "4     command & conquer    9.3          1995  North America   Nintendo 64   \n",
       "...                 ...    ...           ...            ...           ...   \n",
       "9088             soccer    2.2          1982      Australia           NES   \n",
       "9089             soccer    2.2          1982         Europe      Game Boy   \n",
       "9090             soccer    2.2          1982  North America  Arcadia 2001   \n",
       "9091             soccer    2.2          1982         Europe   Atari 8-bit   \n",
       "9092             soccer    2.2          1982      Australia  CreatiVision   \n",
       "\n",
       "        genres  themes publishers  \n",
       "0     strategy  sci-fi   nintendo  \n",
       "1     strategy  sci-fi   nintendo  \n",
       "2     strategy  sci-fi   nintendo  \n",
       "3     strategy  sci-fi   nintendo  \n",
       "4     strategy  sci-fi   nintendo  \n",
       "...        ...     ...        ...  \n",
       "9088    sports     NaN        NaN  \n",
       "9089    sports     NaN        NaN  \n",
       "9090    sports     NaN        NaN  \n",
       "9091    sports     NaN        NaN  \n",
       "9092    sports     NaN        NaN  \n",
       "\n",
       "[9093 rows x 8 columns]"
      ]
     },
     "execution_count": 3,
     "metadata": {},
     "output_type": "execute_result"
    }
   ],
   "source": [
    "gamespot_final = pd.read_csv(\"gamespot_final.csv\")\n",
    "\n",
    "gamespot_final"
   ]
  },
  {
   "cell_type": "markdown",
   "id": "75b97a15",
   "metadata": {},
   "source": [
    "I think we are almost done with fully cleaning the data. The only thing that I have to do still is look at the values and remove any form of data that doesn't seem right to have in the dataset. Let's start with checking for NaN values."
   ]
  },
  {
   "cell_type": "code",
   "execution_count": 102,
   "id": "65491502",
   "metadata": {},
   "outputs": [
    {
     "name": "stdout",
     "output_type": "stream",
     "text": [
      "<class 'pandas.core.frame.DataFrame'>\n",
      "RangeIndex: 9093 entries, 0 to 9092\n",
      "Data columns (total 8 columns):\n",
      " #   Column        Non-Null Count  Dtype  \n",
      "---  ------        --------------  -----  \n",
      " 0   name          9093 non-null   object \n",
      " 1   score         9093 non-null   float64\n",
      " 2   release_date  9093 non-null   int64  \n",
      " 3   region        9093 non-null   object \n",
      " 4   platform      9093 non-null   object \n",
      " 5   genres        8664 non-null   object \n",
      " 6   themes        2487 non-null   object \n",
      " 7   publishers    4796 non-null   object \n",
      "dtypes: float64(1), int64(1), object(6)\n",
      "memory usage: 568.4+ KB\n"
     ]
    }
   ],
   "source": [
    "gamespot_final.info()"
   ]
  },
  {
   "cell_type": "markdown",
   "id": "24128e20",
   "metadata": {},
   "source": [
    "Looks like there are quite a few NaN values present in the columns genres, themes and publishers. These will have to be removed when I do a prediction containing all of these variables. But since I'm planning to do multiple predictions that might not use those columns I will not remove them just yet.\n",
    "\n",
    "Now that I checked for NaN values let's check the values in release_date."
   ]
  },
  {
   "cell_type": "code",
   "execution_count": 103,
   "id": "cdbb483f",
   "metadata": {
    "scrolled": true
   },
   "outputs": [
    {
     "data": {
      "text/plain": [
       "count    9093.000000\n",
       "mean     1999.558122\n",
       "std         6.660259\n",
       "min      1977.000000\n",
       "25%      1997.000000\n",
       "50%      1999.000000\n",
       "75%      2004.000000\n",
       "max      2099.000000\n",
       "Name: release_date, dtype: float64"
      ]
     },
     "execution_count": 103,
     "metadata": {},
     "output_type": "execute_result"
    }
   ],
   "source": [
    "gamespot_final[\"release_date\"].describe()"
   ]
  },
  {
   "cell_type": "markdown",
   "id": "767f5f57",
   "metadata": {},
   "source": [
    "From what I can see here everything seems to look fine except for the max value. Apparently there are games that have been released in 2099. Seeing as this is only the max value it could very well be that there are more games with a release date in the future. This is of course not possible since that year has not occured yet and these values should be removed from the dataset. I will make sure that only games with a release date of 2022 or lower are present in the dataset. "
   ]
  },
  {
   "cell_type": "code",
   "execution_count": 104,
   "id": "45ff19eb",
   "metadata": {},
   "outputs": [],
   "source": [
    "gamespot_final = gamespot_final[gamespot_final[\"release_date\"] <= 2022].copy()"
   ]
  },
  {
   "cell_type": "markdown",
   "id": "2038e88a",
   "metadata": {},
   "source": [
    "Let's check the release date values again."
   ]
  },
  {
   "cell_type": "code",
   "execution_count": 105,
   "id": "40f376a0",
   "metadata": {},
   "outputs": [
    {
     "data": {
      "text/plain": [
       "count    9078.000000\n",
       "mean     1999.395351\n",
       "std         5.326304\n",
       "min      1977.000000\n",
       "25%      1997.000000\n",
       "50%      1999.000000\n",
       "75%      2004.000000\n",
       "max      2019.000000\n",
       "Name: release_date, dtype: float64"
      ]
     },
     "execution_count": 105,
     "metadata": {},
     "output_type": "execute_result"
    }
   ],
   "source": [
    "gamespot_final[\"release_date\"].describe()"
   ]
  },
  {
   "cell_type": "markdown",
   "id": "87cc6304",
   "metadata": {},
   "source": [
    "That looks much better! Now the maximum is 2019 which is far more realistic. But where have the games from 2020 to 2022 go? The data I collected did not include anything past 2019 apart from these futuristic numbers."
   ]
  },
  {
   "cell_type": "code",
   "execution_count": 106,
   "id": "d2586273",
   "metadata": {},
   "outputs": [
    {
     "data": {
      "text/plain": [
       "count    9078.000000\n",
       "mean        6.924620\n",
       "std         1.653414\n",
       "min         0.000000\n",
       "25%         5.900000\n",
       "50%         7.200000\n",
       "75%         8.200000\n",
       "max        10.000000\n",
       "Name: score, dtype: float64"
      ]
     },
     "execution_count": 106,
     "metadata": {},
     "output_type": "execute_result"
    }
   ],
   "source": [
    "gamespot_final[\"score\"].describe()"
   ]
  },
  {
   "cell_type": "markdown",
   "id": "b06a9ff6",
   "metadata": {},
   "source": [
    "It looks like the minimum is a 0 but Gamespot the platform I got my data from reviews on a 1-10 scale as explained here [About GameSpot Reviews](https://www.gamespot.com/review-guidelines/#comments-block-30833071) This means that games with a rating of 0 should not be included in the dataset. They also say they don't do inceremental values but this does not reflect in the dataset I collected. Then again the article is 8 years old so things might have changed."
   ]
  },
  {
   "cell_type": "code",
   "execution_count": 4,
   "id": "f207c346",
   "metadata": {},
   "outputs": [],
   "source": [
    "gamespot_final = gamespot_final[(gamespot_final[\"release_date\"] <= 2022) & (gamespot_final[\"score\"] != 0)]"
   ]
  },
  {
   "cell_type": "code",
   "execution_count": 108,
   "id": "9093d40c",
   "metadata": {},
   "outputs": [
    {
     "data": {
      "text/plain": [
       "count    9077.000000\n",
       "mean        6.925383\n",
       "std         1.651906\n",
       "min         1.000000\n",
       "25%         5.900000\n",
       "50%         7.200000\n",
       "75%         8.200000\n",
       "max        10.000000\n",
       "Name: score, dtype: float64"
      ]
     },
     "execution_count": 108,
     "metadata": {},
     "output_type": "execute_result"
    }
   ],
   "source": [
    "gamespot_final[\"score\"].describe()"
   ]
  },
  {
   "cell_type": "markdown",
   "id": "4f067b98",
   "metadata": {},
   "source": [
    "# Exploratory Data Analysis"
   ]
  },
  {
   "cell_type": "markdown",
   "id": "405bb5c9",
   "metadata": {},
   "source": [
    "With the dataset fully cleaned let's do some exploratory data analysis!"
   ]
  },
  {
   "cell_type": "code",
   "execution_count": 6,
   "id": "65ec397f",
   "metadata": {
    "scrolled": true
   },
   "outputs": [
    {
     "data": {
      "text/html": [
       "<div>\n",
       "<style scoped>\n",
       "    .dataframe tbody tr th:only-of-type {\n",
       "        vertical-align: middle;\n",
       "    }\n",
       "\n",
       "    .dataframe tbody tr th {\n",
       "        vertical-align: top;\n",
       "    }\n",
       "\n",
       "    .dataframe thead th {\n",
       "        text-align: right;\n",
       "    }\n",
       "</style>\n",
       "<table border=\"1\" class=\"dataframe\">\n",
       "  <thead>\n",
       "    <tr style=\"text-align: right;\">\n",
       "      <th></th>\n",
       "      <th>name</th>\n",
       "      <th>score</th>\n",
       "      <th>release_date</th>\n",
       "      <th>region</th>\n",
       "      <th>platform</th>\n",
       "      <th>genres</th>\n",
       "      <th>themes</th>\n",
       "      <th>publishers</th>\n",
       "    </tr>\n",
       "  </thead>\n",
       "  <tbody>\n",
       "    <tr>\n",
       "      <th>0</th>\n",
       "      <td>command &amp; conquer</td>\n",
       "      <td>9.3</td>\n",
       "      <td>1995</td>\n",
       "      <td>Europe</td>\n",
       "      <td>PlayStation</td>\n",
       "      <td>strategy</td>\n",
       "      <td>sci-fi</td>\n",
       "      <td>nintendo</td>\n",
       "    </tr>\n",
       "    <tr>\n",
       "      <th>1</th>\n",
       "      <td>command &amp; conquer</td>\n",
       "      <td>9.3</td>\n",
       "      <td>1995</td>\n",
       "      <td>North America</td>\n",
       "      <td>PlayStation</td>\n",
       "      <td>strategy</td>\n",
       "      <td>sci-fi</td>\n",
       "      <td>nintendo</td>\n",
       "    </tr>\n",
       "    <tr>\n",
       "      <th>2</th>\n",
       "      <td>command &amp; conquer</td>\n",
       "      <td>9.3</td>\n",
       "      <td>1995</td>\n",
       "      <td>North America</td>\n",
       "      <td>PC</td>\n",
       "      <td>strategy</td>\n",
       "      <td>sci-fi</td>\n",
       "      <td>nintendo</td>\n",
       "    </tr>\n",
       "    <tr>\n",
       "      <th>3</th>\n",
       "      <td>command &amp; conquer</td>\n",
       "      <td>9.3</td>\n",
       "      <td>1995</td>\n",
       "      <td>Europe</td>\n",
       "      <td>PC</td>\n",
       "      <td>strategy</td>\n",
       "      <td>sci-fi</td>\n",
       "      <td>nintendo</td>\n",
       "    </tr>\n",
       "    <tr>\n",
       "      <th>4</th>\n",
       "      <td>command &amp; conquer</td>\n",
       "      <td>9.3</td>\n",
       "      <td>1995</td>\n",
       "      <td>North America</td>\n",
       "      <td>Nintendo 64</td>\n",
       "      <td>strategy</td>\n",
       "      <td>sci-fi</td>\n",
       "      <td>nintendo</td>\n",
       "    </tr>\n",
       "    <tr>\n",
       "      <th>...</th>\n",
       "      <td>...</td>\n",
       "      <td>...</td>\n",
       "      <td>...</td>\n",
       "      <td>...</td>\n",
       "      <td>...</td>\n",
       "      <td>...</td>\n",
       "      <td>...</td>\n",
       "      <td>...</td>\n",
       "    </tr>\n",
       "    <tr>\n",
       "      <th>9088</th>\n",
       "      <td>soccer</td>\n",
       "      <td>2.2</td>\n",
       "      <td>1982</td>\n",
       "      <td>Australia</td>\n",
       "      <td>NES</td>\n",
       "      <td>sports</td>\n",
       "      <td>NaN</td>\n",
       "      <td>NaN</td>\n",
       "    </tr>\n",
       "    <tr>\n",
       "      <th>9089</th>\n",
       "      <td>soccer</td>\n",
       "      <td>2.2</td>\n",
       "      <td>1982</td>\n",
       "      <td>Europe</td>\n",
       "      <td>Game Boy</td>\n",
       "      <td>sports</td>\n",
       "      <td>NaN</td>\n",
       "      <td>NaN</td>\n",
       "    </tr>\n",
       "    <tr>\n",
       "      <th>9090</th>\n",
       "      <td>soccer</td>\n",
       "      <td>2.2</td>\n",
       "      <td>1982</td>\n",
       "      <td>North America</td>\n",
       "      <td>Arcadia 2001</td>\n",
       "      <td>sports</td>\n",
       "      <td>NaN</td>\n",
       "      <td>NaN</td>\n",
       "    </tr>\n",
       "    <tr>\n",
       "      <th>9091</th>\n",
       "      <td>soccer</td>\n",
       "      <td>2.2</td>\n",
       "      <td>1982</td>\n",
       "      <td>Europe</td>\n",
       "      <td>Atari 8-bit</td>\n",
       "      <td>sports</td>\n",
       "      <td>NaN</td>\n",
       "      <td>NaN</td>\n",
       "    </tr>\n",
       "    <tr>\n",
       "      <th>9092</th>\n",
       "      <td>soccer</td>\n",
       "      <td>2.2</td>\n",
       "      <td>1982</td>\n",
       "      <td>Australia</td>\n",
       "      <td>CreatiVision</td>\n",
       "      <td>sports</td>\n",
       "      <td>NaN</td>\n",
       "      <td>NaN</td>\n",
       "    </tr>\n",
       "  </tbody>\n",
       "</table>\n",
       "<p>9077 rows × 8 columns</p>\n",
       "</div>"
      ],
      "text/plain": [
       "                   name  score  release_date         region      platform  \\\n",
       "0     command & conquer    9.3          1995         Europe   PlayStation   \n",
       "1     command & conquer    9.3          1995  North America   PlayStation   \n",
       "2     command & conquer    9.3          1995  North America            PC   \n",
       "3     command & conquer    9.3          1995         Europe            PC   \n",
       "4     command & conquer    9.3          1995  North America   Nintendo 64   \n",
       "...                 ...    ...           ...            ...           ...   \n",
       "9088             soccer    2.2          1982      Australia           NES   \n",
       "9089             soccer    2.2          1982         Europe      Game Boy   \n",
       "9090             soccer    2.2          1982  North America  Arcadia 2001   \n",
       "9091             soccer    2.2          1982         Europe   Atari 8-bit   \n",
       "9092             soccer    2.2          1982      Australia  CreatiVision   \n",
       "\n",
       "        genres  themes publishers  \n",
       "0     strategy  sci-fi   nintendo  \n",
       "1     strategy  sci-fi   nintendo  \n",
       "2     strategy  sci-fi   nintendo  \n",
       "3     strategy  sci-fi   nintendo  \n",
       "4     strategy  sci-fi   nintendo  \n",
       "...        ...     ...        ...  \n",
       "9088    sports     NaN        NaN  \n",
       "9089    sports     NaN        NaN  \n",
       "9090    sports     NaN        NaN  \n",
       "9091    sports     NaN        NaN  \n",
       "9092    sports     NaN        NaN  \n",
       "\n",
       "[9077 rows x 8 columns]"
      ]
     },
     "execution_count": 6,
     "metadata": {},
     "output_type": "execute_result"
    }
   ],
   "source": [
    "gamespot_final"
   ]
  },
  {
   "cell_type": "markdown",
   "id": "6d2ddaec",
   "metadata": {},
   "source": [
    "I would like to see what the distribution is of score and if there are any outliers in the dataset."
   ]
  },
  {
   "cell_type": "code",
   "execution_count": 179,
   "id": "a837d9f9",
   "metadata": {
    "scrolled": true
   },
   "outputs": [
    {
     "data": {
      "text/plain": [
       "(1.0, 10.0)"
      ]
     },
     "execution_count": 179,
     "metadata": {},
     "output_type": "execute_result"
    },
    {
     "data": {
      "image/png": "[encoded data removed]",
      "text/plain": [
       "<Figure size 432x288 with 1 Axes>"
      ]
     },
     "metadata": {
      "needs_background": "light"
     },
     "output_type": "display_data"
    }
   ],
   "source": [
    "box_score = sb.boxplot(x=\"score\", data=gamespot_final)\n",
    "box_score.set_xlim(1, 10)"
   ]
  },
  {
   "cell_type": "code",
   "execution_count": 26,
   "id": "1a20b74e",
   "metadata": {},
   "outputs": [
    {
     "data": {
      "text/plain": [
       "(1.0, 10.0)"
      ]
     },
     "execution_count": 26,
     "metadata": {},
     "output_type": "execute_result"
    },
    {
     "data": {
      "image/png": "[encoded data removed]",
      "text/plain": [
       "<Figure size 432x288 with 1 Axes>"
      ]
     },
     "metadata": {
      "needs_background": "light"
     },
     "output_type": "display_data"
    }
   ],
   "source": [
    "hist_score = sb.histplot(x=\"score\", kde=True, data=gamespot_final)\n",
    "hist_score.set_xlim(1, 10)"
   ]
  },
  {
   "cell_type": "markdown",
   "id": "b8457bd8",
   "metadata": {},
   "source": [
    "Most of the ratings lie between 6 and 8. Most of the ratings skew to the left. There also are a bunch of outliers present having a rating of 2 and below. I'll have to check that out."
   ]
  },
  {
   "cell_type": "code",
   "execution_count": 115,
   "id": "71e6f195",
   "metadata": {},
   "outputs": [
    {
     "data": {
      "text/html": [
       "<div>\n",
       "<style scoped>\n",
       "    .dataframe tbody tr th:only-of-type {\n",
       "        vertical-align: middle;\n",
       "    }\n",
       "\n",
       "    .dataframe tbody tr th {\n",
       "        vertical-align: top;\n",
       "    }\n",
       "\n",
       "    .dataframe thead th {\n",
       "        text-align: right;\n",
       "    }\n",
       "</style>\n",
       "<table border=\"1\" class=\"dataframe\">\n",
       "  <thead>\n",
       "    <tr style=\"text-align: right;\">\n",
       "      <th></th>\n",
       "      <th>name</th>\n",
       "      <th>score</th>\n",
       "      <th>release_date</th>\n",
       "      <th>region</th>\n",
       "      <th>platform</th>\n",
       "      <th>genres</th>\n",
       "      <th>themes</th>\n",
       "      <th>publishers</th>\n",
       "    </tr>\n",
       "  </thead>\n",
       "  <tbody>\n",
       "    <tr>\n",
       "      <th>380</th>\n",
       "      <td>slingo</td>\n",
       "      <td>1.5</td>\n",
       "      <td>1998</td>\n",
       "      <td>North America</td>\n",
       "      <td>PC</td>\n",
       "      <td>NaN</td>\n",
       "      <td>NaN</td>\n",
       "      <td>NaN</td>\n",
       "    </tr>\n",
       "    <tr>\n",
       "      <th>381</th>\n",
       "      <td>slingo</td>\n",
       "      <td>1.5</td>\n",
       "      <td>1998</td>\n",
       "      <td>North America</td>\n",
       "      <td>Dedicated Console</td>\n",
       "      <td>NaN</td>\n",
       "      <td>NaN</td>\n",
       "      <td>NaN</td>\n",
       "    </tr>\n",
       "    <tr>\n",
       "      <th>761</th>\n",
       "      <td>big rigs: over the road racing</td>\n",
       "      <td>1.0</td>\n",
       "      <td>2003</td>\n",
       "      <td>North America</td>\n",
       "      <td>PC</td>\n",
       "      <td>simulation</td>\n",
       "      <td>NaN</td>\n",
       "      <td>NaN</td>\n",
       "    </tr>\n",
       "    <tr>\n",
       "      <th>922</th>\n",
       "      <td>fbi hostage rescue</td>\n",
       "      <td>1.9</td>\n",
       "      <td>2004</td>\n",
       "      <td>North America</td>\n",
       "      <td>PC</td>\n",
       "      <td>shooter</td>\n",
       "      <td>modern</td>\n",
       "      <td>NaN</td>\n",
       "    </tr>\n",
       "    <tr>\n",
       "      <th>1176</th>\n",
       "      <td>armored moon: the next eden</td>\n",
       "      <td>2.2</td>\n",
       "      <td>1998</td>\n",
       "      <td>North America</td>\n",
       "      <td>PC</td>\n",
       "      <td>strategy</td>\n",
       "      <td>NaN</td>\n",
       "      <td>NaN</td>\n",
       "    </tr>\n",
       "    <tr>\n",
       "      <th>...</th>\n",
       "      <td>...</td>\n",
       "      <td>...</td>\n",
       "      <td>...</td>\n",
       "      <td>...</td>\n",
       "      <td>...</td>\n",
       "      <td>...</td>\n",
       "      <td>...</td>\n",
       "      <td>...</td>\n",
       "    </tr>\n",
       "    <tr>\n",
       "      <th>9088</th>\n",
       "      <td>soccer</td>\n",
       "      <td>2.2</td>\n",
       "      <td>1982</td>\n",
       "      <td>Australia</td>\n",
       "      <td>NES</td>\n",
       "      <td>sports</td>\n",
       "      <td>NaN</td>\n",
       "      <td>NaN</td>\n",
       "    </tr>\n",
       "    <tr>\n",
       "      <th>9089</th>\n",
       "      <td>soccer</td>\n",
       "      <td>2.2</td>\n",
       "      <td>1982</td>\n",
       "      <td>Europe</td>\n",
       "      <td>Game Boy</td>\n",
       "      <td>sports</td>\n",
       "      <td>NaN</td>\n",
       "      <td>NaN</td>\n",
       "    </tr>\n",
       "    <tr>\n",
       "      <th>9090</th>\n",
       "      <td>soccer</td>\n",
       "      <td>2.2</td>\n",
       "      <td>1982</td>\n",
       "      <td>North America</td>\n",
       "      <td>Arcadia 2001</td>\n",
       "      <td>sports</td>\n",
       "      <td>NaN</td>\n",
       "      <td>NaN</td>\n",
       "    </tr>\n",
       "    <tr>\n",
       "      <th>9091</th>\n",
       "      <td>soccer</td>\n",
       "      <td>2.2</td>\n",
       "      <td>1982</td>\n",
       "      <td>Europe</td>\n",
       "      <td>Atari 8-bit</td>\n",
       "      <td>sports</td>\n",
       "      <td>NaN</td>\n",
       "      <td>NaN</td>\n",
       "    </tr>\n",
       "    <tr>\n",
       "      <th>9092</th>\n",
       "      <td>soccer</td>\n",
       "      <td>2.2</td>\n",
       "      <td>1982</td>\n",
       "      <td>Australia</td>\n",
       "      <td>CreatiVision</td>\n",
       "      <td>sports</td>\n",
       "      <td>NaN</td>\n",
       "      <td>NaN</td>\n",
       "    </tr>\n",
       "  </tbody>\n",
       "</table>\n",
       "<p>100 rows × 8 columns</p>\n",
       "</div>"
      ],
      "text/plain": [
       "                                name  score  release_date         region  \\\n",
       "380                           slingo    1.5          1998  North America   \n",
       "381                           slingo    1.5          1998  North America   \n",
       "761   big rigs: over the road racing    1.0          2003  North America   \n",
       "922               fbi hostage rescue    1.9          2004  North America   \n",
       "1176     armored moon: the next eden    2.2          1998  North America   \n",
       "...                              ...    ...           ...            ...   \n",
       "9088                          soccer    2.2          1982      Australia   \n",
       "9089                          soccer    2.2          1982         Europe   \n",
       "9090                          soccer    2.2          1982  North America   \n",
       "9091                          soccer    2.2          1982         Europe   \n",
       "9092                          soccer    2.2          1982      Australia   \n",
       "\n",
       "               platform      genres  themes publishers  \n",
       "380                  PC         NaN     NaN        NaN  \n",
       "381   Dedicated Console         NaN     NaN        NaN  \n",
       "761                  PC  simulation     NaN        NaN  \n",
       "922                  PC     shooter  modern        NaN  \n",
       "1176                 PC    strategy     NaN        NaN  \n",
       "...                 ...         ...     ...        ...  \n",
       "9088                NES      sports     NaN        NaN  \n",
       "9089           Game Boy      sports     NaN        NaN  \n",
       "9090       Arcadia 2001      sports     NaN        NaN  \n",
       "9091        Atari 8-bit      sports     NaN        NaN  \n",
       "9092       CreatiVision      sports     NaN        NaN  \n",
       "\n",
       "[100 rows x 8 columns]"
      ]
     },
     "execution_count": 115,
     "metadata": {},
     "output_type": "execute_result"
    }
   ],
   "source": [
    "gamespot_final[gamespot_final[\"score\"] < 2.5]"
   ]
  },
  {
   "cell_type": "markdown",
   "id": "f2a0721e",
   "metadata": {},
   "source": [
    "There doesn't seem to be anything wrong with these ratings. From what I can see these are games that are bad and got a low rating because of that. They also aren't that far away from the non-outliers so the impact is probably negligible. I see no reason not to include them."
   ]
  },
  {
   "cell_type": "markdown",
   "id": "99da696f",
   "metadata": {},
   "source": [
    "I would like to check release_date for any potential outliers and to show the overall distribution."
   ]
  },
  {
   "cell_type": "code",
   "execution_count": 118,
   "id": "2c54287e",
   "metadata": {},
   "outputs": [
    {
     "data": {
      "text/plain": [
       "<AxesSubplot:xlabel='release_date'>"
      ]
     },
     "execution_count": 118,
     "metadata": {},
     "output_type": "execute_result"
    },
    {
     "data": {
      "image/png": "[encoded data removed]",
      "text/plain": [
       "<Figure size 432x288 with 1 Axes>"
      ]
     },
     "metadata": {
      "needs_background": "light"
     },
     "output_type": "display_data"
    }
   ],
   "source": [
    "sb.boxplot(x=\"release_date\", data=gamespot_final)"
   ]
  },
  {
   "cell_type": "code",
   "execution_count": 154,
   "id": "7506045d",
   "metadata": {},
   "outputs": [
    {
     "data": {
      "text/plain": [
       "<AxesSubplot:xlabel='release_date', ylabel='Count'>"
      ]
     },
     "execution_count": 154,
     "metadata": {},
     "output_type": "execute_result"
    },
    {
     "data": {
      "image/png": "[encoded data removed]",
      "text/plain": [
       "<Figure size 432x288 with 1 Axes>"
      ]
     },
     "metadata": {
      "needs_background": "light"
     },
     "output_type": "display_data"
    }
   ],
   "source": [
    "sb.histplot(x=\"release_date\", kde=True, data=gamespot_final)"
   ]
  },
  {
   "cell_type": "markdown",
   "id": "5f90a4bc",
   "metadata": {},
   "source": [
    "Most games are released around the year 2000 skewing mostly to the left. There are also a couple of outliers present with most of them before year 1990 and two after year 2010."
   ]
  },
  {
   "cell_type": "code",
   "execution_count": 168,
   "id": "e08d228b",
   "metadata": {},
   "outputs": [
    {
     "data": {
      "text/html": [
       "<div>\n",
       "<style scoped>\n",
       "    .dataframe tbody tr th:only-of-type {\n",
       "        vertical-align: middle;\n",
       "    }\n",
       "\n",
       "    .dataframe tbody tr th {\n",
       "        vertical-align: top;\n",
       "    }\n",
       "\n",
       "    .dataframe thead th {\n",
       "        text-align: right;\n",
       "    }\n",
       "</style>\n",
       "<table border=\"1\" class=\"dataframe\">\n",
       "  <thead>\n",
       "    <tr style=\"text-align: right;\">\n",
       "      <th></th>\n",
       "      <th>name</th>\n",
       "      <th>score</th>\n",
       "      <th>release_date</th>\n",
       "      <th>region</th>\n",
       "      <th>platform</th>\n",
       "      <th>genres</th>\n",
       "      <th>themes</th>\n",
       "      <th>publishers</th>\n",
       "    </tr>\n",
       "  </thead>\n",
       "  <tbody>\n",
       "    <tr>\n",
       "      <th>360</th>\n",
       "      <td>asteroids</td>\n",
       "      <td>7.0</td>\n",
       "      <td>1979</td>\n",
       "      <td>North America</td>\n",
       "      <td>Atari 5200</td>\n",
       "      <td>shooter</td>\n",
       "      <td>NaN</td>\n",
       "      <td>NaN</td>\n",
       "    </tr>\n",
       "    <tr>\n",
       "      <th>361</th>\n",
       "      <td>asteroids</td>\n",
       "      <td>7.0</td>\n",
       "      <td>1979</td>\n",
       "      <td>North America</td>\n",
       "      <td>Atari 2600</td>\n",
       "      <td>shooter</td>\n",
       "      <td>NaN</td>\n",
       "      <td>NaN</td>\n",
       "    </tr>\n",
       "    <tr>\n",
       "      <th>362</th>\n",
       "      <td>asteroids</td>\n",
       "      <td>7.0</td>\n",
       "      <td>1979</td>\n",
       "      <td>Japan</td>\n",
       "      <td>Atari 2600</td>\n",
       "      <td>shooter</td>\n",
       "      <td>NaN</td>\n",
       "      <td>NaN</td>\n",
       "    </tr>\n",
       "    <tr>\n",
       "      <th>363</th>\n",
       "      <td>asteroids</td>\n",
       "      <td>7.0</td>\n",
       "      <td>1979</td>\n",
       "      <td>Europe</td>\n",
       "      <td>Atari 2600</td>\n",
       "      <td>shooter</td>\n",
       "      <td>NaN</td>\n",
       "      <td>NaN</td>\n",
       "    </tr>\n",
       "    <tr>\n",
       "      <th>364</th>\n",
       "      <td>asteroids</td>\n",
       "      <td>7.0</td>\n",
       "      <td>1979</td>\n",
       "      <td>North America</td>\n",
       "      <td>Atari 7800</td>\n",
       "      <td>shooter</td>\n",
       "      <td>NaN</td>\n",
       "      <td>NaN</td>\n",
       "    </tr>\n",
       "    <tr>\n",
       "      <th>...</th>\n",
       "      <td>...</td>\n",
       "      <td>...</td>\n",
       "      <td>...</td>\n",
       "      <td>...</td>\n",
       "      <td>...</td>\n",
       "      <td>...</td>\n",
       "      <td>...</td>\n",
       "      <td>...</td>\n",
       "    </tr>\n",
       "    <tr>\n",
       "      <th>9088</th>\n",
       "      <td>soccer</td>\n",
       "      <td>2.2</td>\n",
       "      <td>1982</td>\n",
       "      <td>Australia</td>\n",
       "      <td>NES</td>\n",
       "      <td>sports</td>\n",
       "      <td>NaN</td>\n",
       "      <td>NaN</td>\n",
       "    </tr>\n",
       "    <tr>\n",
       "      <th>9089</th>\n",
       "      <td>soccer</td>\n",
       "      <td>2.2</td>\n",
       "      <td>1982</td>\n",
       "      <td>Europe</td>\n",
       "      <td>Game Boy</td>\n",
       "      <td>sports</td>\n",
       "      <td>NaN</td>\n",
       "      <td>NaN</td>\n",
       "    </tr>\n",
       "    <tr>\n",
       "      <th>9090</th>\n",
       "      <td>soccer</td>\n",
       "      <td>2.2</td>\n",
       "      <td>1982</td>\n",
       "      <td>North America</td>\n",
       "      <td>Arcadia 2001</td>\n",
       "      <td>sports</td>\n",
       "      <td>NaN</td>\n",
       "      <td>NaN</td>\n",
       "    </tr>\n",
       "    <tr>\n",
       "      <th>9091</th>\n",
       "      <td>soccer</td>\n",
       "      <td>2.2</td>\n",
       "      <td>1982</td>\n",
       "      <td>Europe</td>\n",
       "      <td>Atari 8-bit</td>\n",
       "      <td>sports</td>\n",
       "      <td>NaN</td>\n",
       "      <td>NaN</td>\n",
       "    </tr>\n",
       "    <tr>\n",
       "      <th>9092</th>\n",
       "      <td>soccer</td>\n",
       "      <td>2.2</td>\n",
       "      <td>1982</td>\n",
       "      <td>Australia</td>\n",
       "      <td>CreatiVision</td>\n",
       "      <td>sports</td>\n",
       "      <td>NaN</td>\n",
       "      <td>NaN</td>\n",
       "    </tr>\n",
       "  </tbody>\n",
       "</table>\n",
       "<p>341 rows × 8 columns</p>\n",
       "</div>"
      ],
      "text/plain": [
       "           name  score  release_date         region      platform   genres  \\\n",
       "360   asteroids    7.0          1979  North America    Atari 5200  shooter   \n",
       "361   asteroids    7.0          1979  North America    Atari 2600  shooter   \n",
       "362   asteroids    7.0          1979          Japan    Atari 2600  shooter   \n",
       "363   asteroids    7.0          1979         Europe    Atari 2600  shooter   \n",
       "364   asteroids    7.0          1979  North America    Atari 7800  shooter   \n",
       "...         ...    ...           ...            ...           ...      ...   \n",
       "9088     soccer    2.2          1982      Australia           NES   sports   \n",
       "9089     soccer    2.2          1982         Europe      Game Boy   sports   \n",
       "9090     soccer    2.2          1982  North America  Arcadia 2001   sports   \n",
       "9091     soccer    2.2          1982         Europe   Atari 8-bit   sports   \n",
       "9092     soccer    2.2          1982      Australia  CreatiVision   sports   \n",
       "\n",
       "     themes publishers  \n",
       "360     NaN        NaN  \n",
       "361     NaN        NaN  \n",
       "362     NaN        NaN  \n",
       "363     NaN        NaN  \n",
       "364     NaN        NaN  \n",
       "...     ...        ...  \n",
       "9088    NaN        NaN  \n",
       "9089    NaN        NaN  \n",
       "9090    NaN        NaN  \n",
       "9091    NaN        NaN  \n",
       "9092    NaN        NaN  \n",
       "\n",
       "[341 rows x 8 columns]"
      ]
     },
     "execution_count": 168,
     "metadata": {},
     "output_type": "execute_result"
    }
   ],
   "source": [
    "gamespot_final[gamespot_final[\"release_date\"] < 1987]"
   ]
  },
  {
   "cell_type": "code",
   "execution_count": 141,
   "id": "2881e481",
   "metadata": {},
   "outputs": [
    {
     "data": {
      "text/html": [
       "<div>\n",
       "<style scoped>\n",
       "    .dataframe tbody tr th:only-of-type {\n",
       "        vertical-align: middle;\n",
       "    }\n",
       "\n",
       "    .dataframe tbody tr th {\n",
       "        vertical-align: top;\n",
       "    }\n",
       "\n",
       "    .dataframe thead th {\n",
       "        text-align: right;\n",
       "    }\n",
       "</style>\n",
       "<table border=\"1\" class=\"dataframe\">\n",
       "  <thead>\n",
       "    <tr style=\"text-align: right;\">\n",
       "      <th></th>\n",
       "      <th>name</th>\n",
       "      <th>score</th>\n",
       "      <th>release_date</th>\n",
       "      <th>region</th>\n",
       "      <th>platform</th>\n",
       "      <th>genres</th>\n",
       "      <th>themes</th>\n",
       "      <th>publishers</th>\n",
       "    </tr>\n",
       "  </thead>\n",
       "  <tbody>\n",
       "    <tr>\n",
       "      <th>3541</th>\n",
       "      <td>the silver case</td>\n",
       "      <td>5.0</td>\n",
       "      <td>2016</td>\n",
       "      <td>North America</td>\n",
       "      <td>PC</td>\n",
       "      <td>adventure</td>\n",
       "      <td>NaN</td>\n",
       "      <td>NaN</td>\n",
       "    </tr>\n",
       "    <tr>\n",
       "      <th>3542</th>\n",
       "      <td>the silver case</td>\n",
       "      <td>5.0</td>\n",
       "      <td>2016</td>\n",
       "      <td>North America</td>\n",
       "      <td>PlayStation 4</td>\n",
       "      <td>adventure</td>\n",
       "      <td>NaN</td>\n",
       "      <td>NaN</td>\n",
       "    </tr>\n",
       "    <tr>\n",
       "      <th>3543</th>\n",
       "      <td>the silver case</td>\n",
       "      <td>5.0</td>\n",
       "      <td>2016</td>\n",
       "      <td>North America</td>\n",
       "      <td>Macintosh</td>\n",
       "      <td>adventure</td>\n",
       "      <td>NaN</td>\n",
       "      <td>NaN</td>\n",
       "    </tr>\n",
       "    <tr>\n",
       "      <th>3544</th>\n",
       "      <td>the silver case</td>\n",
       "      <td>5.0</td>\n",
       "      <td>2016</td>\n",
       "      <td>Europe</td>\n",
       "      <td>PlayStation 4</td>\n",
       "      <td>adventure</td>\n",
       "      <td>NaN</td>\n",
       "      <td>NaN</td>\n",
       "    </tr>\n",
       "    <tr>\n",
       "      <th>3545</th>\n",
       "      <td>the silver case</td>\n",
       "      <td>5.0</td>\n",
       "      <td>2016</td>\n",
       "      <td>Australia</td>\n",
       "      <td>PlayStation 4</td>\n",
       "      <td>adventure</td>\n",
       "      <td>NaN</td>\n",
       "      <td>NaN</td>\n",
       "    </tr>\n",
       "    <tr>\n",
       "      <th>3546</th>\n",
       "      <td>the silver case</td>\n",
       "      <td>5.0</td>\n",
       "      <td>2016</td>\n",
       "      <td>North America</td>\n",
       "      <td>Linux</td>\n",
       "      <td>adventure</td>\n",
       "      <td>NaN</td>\n",
       "      <td>NaN</td>\n",
       "    </tr>\n",
       "    <tr>\n",
       "      <th>3602</th>\n",
       "      <td>the witness</td>\n",
       "      <td>9.0</td>\n",
       "      <td>2016</td>\n",
       "      <td>Europe</td>\n",
       "      <td>Commodore 64</td>\n",
       "      <td>adventure</td>\n",
       "      <td>vr</td>\n",
       "      <td>NaN</td>\n",
       "    </tr>\n",
       "    <tr>\n",
       "      <th>3603</th>\n",
       "      <td>the witness</td>\n",
       "      <td>9.0</td>\n",
       "      <td>2016</td>\n",
       "      <td>North America</td>\n",
       "      <td>Apple II</td>\n",
       "      <td>adventure</td>\n",
       "      <td>vr</td>\n",
       "      <td>NaN</td>\n",
       "    </tr>\n",
       "    <tr>\n",
       "      <th>3604</th>\n",
       "      <td>the witness</td>\n",
       "      <td>9.0</td>\n",
       "      <td>2016</td>\n",
       "      <td>North America</td>\n",
       "      <td>PC</td>\n",
       "      <td>adventure</td>\n",
       "      <td>vr</td>\n",
       "      <td>NaN</td>\n",
       "    </tr>\n",
       "    <tr>\n",
       "      <th>3605</th>\n",
       "      <td>the witness</td>\n",
       "      <td>9.0</td>\n",
       "      <td>2016</td>\n",
       "      <td>North America</td>\n",
       "      <td>Tandy Color Computer</td>\n",
       "      <td>adventure</td>\n",
       "      <td>vr</td>\n",
       "      <td>NaN</td>\n",
       "    </tr>\n",
       "    <tr>\n",
       "      <th>8997</th>\n",
       "      <td>grand slam tennis</td>\n",
       "      <td>6.0</td>\n",
       "      <td>2019</td>\n",
       "      <td>North America</td>\n",
       "      <td>Mobile</td>\n",
       "      <td>sports</td>\n",
       "      <td>NaN</td>\n",
       "      <td>NaN</td>\n",
       "    </tr>\n",
       "    <tr>\n",
       "      <th>8998</th>\n",
       "      <td>grand slam tennis</td>\n",
       "      <td>6.0</td>\n",
       "      <td>2019</td>\n",
       "      <td>North America</td>\n",
       "      <td>Nintendo Switch</td>\n",
       "      <td>sports</td>\n",
       "      <td>NaN</td>\n",
       "      <td>NaN</td>\n",
       "    </tr>\n",
       "    <tr>\n",
       "      <th>8999</th>\n",
       "      <td>grand slam tennis</td>\n",
       "      <td>6.0</td>\n",
       "      <td>2019</td>\n",
       "      <td>Europe</td>\n",
       "      <td>Nintendo Switch</td>\n",
       "      <td>sports</td>\n",
       "      <td>NaN</td>\n",
       "      <td>NaN</td>\n",
       "    </tr>\n",
       "    <tr>\n",
       "      <th>9000</th>\n",
       "      <td>grand slam tennis</td>\n",
       "      <td>6.0</td>\n",
       "      <td>2019</td>\n",
       "      <td>Japan</td>\n",
       "      <td>Nintendo Switch</td>\n",
       "      <td>sports</td>\n",
       "      <td>NaN</td>\n",
       "      <td>NaN</td>\n",
       "    </tr>\n",
       "  </tbody>\n",
       "</table>\n",
       "</div>"
      ],
      "text/plain": [
       "                   name  score  release_date         region  \\\n",
       "3541    the silver case    5.0          2016  North America   \n",
       "3542    the silver case    5.0          2016  North America   \n",
       "3543    the silver case    5.0          2016  North America   \n",
       "3544    the silver case    5.0          2016         Europe   \n",
       "3545    the silver case    5.0          2016      Australia   \n",
       "3546    the silver case    5.0          2016  North America   \n",
       "3602        the witness    9.0          2016         Europe   \n",
       "3603        the witness    9.0          2016  North America   \n",
       "3604        the witness    9.0          2016  North America   \n",
       "3605        the witness    9.0          2016  North America   \n",
       "8997  grand slam tennis    6.0          2019  North America   \n",
       "8998  grand slam tennis    6.0          2019  North America   \n",
       "8999  grand slam tennis    6.0          2019         Europe   \n",
       "9000  grand slam tennis    6.0          2019          Japan   \n",
       "\n",
       "                  platform     genres themes publishers  \n",
       "3541                    PC  adventure    NaN        NaN  \n",
       "3542         PlayStation 4  adventure    NaN        NaN  \n",
       "3543             Macintosh  adventure    NaN        NaN  \n",
       "3544         PlayStation 4  adventure    NaN        NaN  \n",
       "3545         PlayStation 4  adventure    NaN        NaN  \n",
       "3546                 Linux  adventure    NaN        NaN  \n",
       "3602          Commodore 64  adventure     vr        NaN  \n",
       "3603              Apple II  adventure     vr        NaN  \n",
       "3604                    PC  adventure     vr        NaN  \n",
       "3605  Tandy Color Computer  adventure     vr        NaN  \n",
       "8997                Mobile     sports    NaN        NaN  \n",
       "8998       Nintendo Switch     sports    NaN        NaN  \n",
       "8999       Nintendo Switch     sports    NaN        NaN  \n",
       "9000       Nintendo Switch     sports    NaN        NaN  "
      ]
     },
     "execution_count": 141,
     "metadata": {},
     "output_type": "execute_result"
    }
   ],
   "source": [
    "gamespot_final[gamespot_final[\"release_date\"] > 2013]"
   ]
  },
  {
   "cell_type": "markdown",
   "id": "81826a7d",
   "metadata": {},
   "source": [
    "From what I can see is that there is only one game released within those outlier years. Albeit released in multiple regions and on different platforms. I don't think this will impact the prediction by a lot since they aren't too far away from the non-outliers, so I won't remove them."
   ]
  },
  {
   "cell_type": "markdown",
   "id": "42bb11fb",
   "metadata": {},
   "source": [
    "I would like to see the distribution between the ratings and the publisher to see if there is a potential bias."
   ]
  },
  {
   "cell_type": "code",
   "execution_count": 185,
   "id": "c96aade9",
   "metadata": {
    "scrolled": true
   },
   "outputs": [
    {
     "data": {
      "text/plain": [
       "(1.0, 10.0)"
      ]
     },
     "execution_count": 185,
     "metadata": {},
     "output_type": "execute_result"
    },
    {
     "data": {
      "image/png": "[encoded data removed]",
      "text/plain": [
       "<Figure size 432x288 with 1 Axes>"
      ]
     },
     "metadata": {
      "needs_background": "light"
     },
     "output_type": "display_data"
    }
   ],
   "source": [
    "box_score_publishers = sb.boxplot(x=\"score\", y=\"publishers\", data=gamespot_final)\n",
    "box_score_publishers.set_xlim(1, 10)"
   ]
  },
  {
   "cell_type": "markdown",
   "id": "b83a50ad",
   "metadata": {},
   "source": [
    "There does not seem to be a bias present since most publishers have a nice spread of ratings. Some publishers however, pretty much only have ratings from 7 and up except for a few outliers. Whether this is a bias or just a streak of good games cannot be determined. Based on this information I would guess that games associated with the publishers that only get high ratings, are more likely to get a higher rating. I do not see this as a big problem for my predictive model so I will include these publishers in my prediction. I will include the outliers as well since it does not seem unrealistic for publishers to release a bad game from time to time."
   ]
  },
  {
   "cell_type": "markdown",
   "id": "799e2cca",
   "metadata": {},
   "source": [
    "I am interested to see how varied the ratings are per region"
   ]
  },
  {
   "cell_type": "code",
   "execution_count": 22,
   "id": "9bdee220",
   "metadata": {},
   "outputs": [
    {
     "data": {
      "text/plain": [
       "(1.0, 10.0)"
      ]
     },
     "execution_count": 22,
     "metadata": {},
     "output_type": "execute_result"
    },
    {
     "data": {
      "image/png": "[encoded data removed]",
      "text/plain": [
       "<Figure size 432x288 with 1 Axes>"
      ]
     },
     "metadata": {
      "needs_background": "light"
     },
     "output_type": "display_data"
    }
   ],
   "source": [
    "box_score_region = sb.boxplot(x=\"score\", y=\"region\", data=gamespot_final)\n",
    "box_score_region.set_xlim(1, 10)"
   ]
  },
  {
   "cell_type": "markdown",
   "id": "dc6d1954",
   "metadata": {},
   "source": [
    "The ratings in the regions Europe, North America, Japan and South America are almost the same with slight differences. Most of the games in these regions are rated roughly between 6 and 8.\n",
    "\n",
    "When looking at the regions Australia, Korea and Asia there is more of a difference. Compared to the first four regions games in those regions are rated higher with Asia rating games the highest out of all regions. Games that are released worldwide are mostly rated between 7 and 8.\n",
    "\n",
    "There are also quite some outliers present with Australia and North America having most outliers. These are however not unrealistic and will not be excluded from the prediction because sometimes you just have a bad game and it'll be rated accordingly. Or people in that region just didn't like the game but I can't be sure on that."
   ]
  },
  {
   "cell_type": "markdown",
   "id": "01b620fa",
   "metadata": {},
   "source": [
    "# Prediction\n",
    "\n",
    "Time to predict the rating of a game!\n",
    "\n",
    "I will be using Multiple Regression for my prediction. I'm using multiple regression because I have more than one independent variables. Furthermore my predictor variable is score which is a continuous numerical variable and not a categorial variable meant to classify something. Using this variable in a Classification model would not be very useful. Multiple Regression is the correct model for this kind of prediction."
   ]
  },
  {
   "cell_type": "markdown",
   "id": "413294c8",
   "metadata": {},
   "source": [
    "For this prediction I'll make a subset removing any NaN values that are present in the dataset and then turn the columns into dummy variables.\n",
    "\n",
    "I'll be using all predictor variables in this prediction."
   ]
  },
  {
   "cell_type": "code",
   "execution_count": 7,
   "id": "f7b2efb2",
   "metadata": {
    "scrolled": true
   },
   "outputs": [
    {
     "data": {
      "text/html": [
       "<div>\n",
       "<style scoped>\n",
       "    .dataframe tbody tr th:only-of-type {\n",
       "        vertical-align: middle;\n",
       "    }\n",
       "\n",
       "    .dataframe tbody tr th {\n",
       "        vertical-align: top;\n",
       "    }\n",
       "\n",
       "    .dataframe thead th {\n",
       "        text-align: right;\n",
       "    }\n",
       "</style>\n",
       "<table border=\"1\" class=\"dataframe\">\n",
       "  <thead>\n",
       "    <tr style=\"text-align: right;\">\n",
       "      <th></th>\n",
       "      <th>name</th>\n",
       "      <th>score</th>\n",
       "      <th>release_date_1994</th>\n",
       "      <th>release_date_1995</th>\n",
       "      <th>release_date_1996</th>\n",
       "      <th>release_date_1997</th>\n",
       "      <th>release_date_1998</th>\n",
       "      <th>release_date_1999</th>\n",
       "      <th>release_date_2000</th>\n",
       "      <th>release_date_2001</th>\n",
       "      <th>...</th>\n",
       "      <th>publishers_activision</th>\n",
       "      <th>publishers_capcom</th>\n",
       "      <th>publishers_electronic arts</th>\n",
       "      <th>publishers_konami</th>\n",
       "      <th>publishers_midway</th>\n",
       "      <th>publishers_nintendo</th>\n",
       "      <th>publishers_sega</th>\n",
       "      <th>publishers_square enix</th>\n",
       "      <th>publishers_thq</th>\n",
       "      <th>publishers_ubisoft</th>\n",
       "    </tr>\n",
       "  </thead>\n",
       "  <tbody>\n",
       "    <tr>\n",
       "      <th>0</th>\n",
       "      <td>command &amp; conquer</td>\n",
       "      <td>9.3</td>\n",
       "      <td>0</td>\n",
       "      <td>1</td>\n",
       "      <td>0</td>\n",
       "      <td>0</td>\n",
       "      <td>0</td>\n",
       "      <td>0</td>\n",
       "      <td>0</td>\n",
       "      <td>0</td>\n",
       "      <td>...</td>\n",
       "      <td>0</td>\n",
       "      <td>0</td>\n",
       "      <td>0</td>\n",
       "      <td>0</td>\n",
       "      <td>0</td>\n",
       "      <td>1</td>\n",
       "      <td>0</td>\n",
       "      <td>0</td>\n",
       "      <td>0</td>\n",
       "      <td>0</td>\n",
       "    </tr>\n",
       "    <tr>\n",
       "      <th>1</th>\n",
       "      <td>command &amp; conquer</td>\n",
       "      <td>9.3</td>\n",
       "      <td>0</td>\n",
       "      <td>1</td>\n",
       "      <td>0</td>\n",
       "      <td>0</td>\n",
       "      <td>0</td>\n",
       "      <td>0</td>\n",
       "      <td>0</td>\n",
       "      <td>0</td>\n",
       "      <td>...</td>\n",
       "      <td>0</td>\n",
       "      <td>0</td>\n",
       "      <td>0</td>\n",
       "      <td>0</td>\n",
       "      <td>0</td>\n",
       "      <td>1</td>\n",
       "      <td>0</td>\n",
       "      <td>0</td>\n",
       "      <td>0</td>\n",
       "      <td>0</td>\n",
       "    </tr>\n",
       "    <tr>\n",
       "      <th>2</th>\n",
       "      <td>command &amp; conquer</td>\n",
       "      <td>9.3</td>\n",
       "      <td>0</td>\n",
       "      <td>1</td>\n",
       "      <td>0</td>\n",
       "      <td>0</td>\n",
       "      <td>0</td>\n",
       "      <td>0</td>\n",
       "      <td>0</td>\n",
       "      <td>0</td>\n",
       "      <td>...</td>\n",
       "      <td>0</td>\n",
       "      <td>0</td>\n",
       "      <td>0</td>\n",
       "      <td>0</td>\n",
       "      <td>0</td>\n",
       "      <td>1</td>\n",
       "      <td>0</td>\n",
       "      <td>0</td>\n",
       "      <td>0</td>\n",
       "      <td>0</td>\n",
       "    </tr>\n",
       "    <tr>\n",
       "      <th>3</th>\n",
       "      <td>command &amp; conquer</td>\n",
       "      <td>9.3</td>\n",
       "      <td>0</td>\n",
       "      <td>1</td>\n",
       "      <td>0</td>\n",
       "      <td>0</td>\n",
       "      <td>0</td>\n",
       "      <td>0</td>\n",
       "      <td>0</td>\n",
       "      <td>0</td>\n",
       "      <td>...</td>\n",
       "      <td>0</td>\n",
       "      <td>0</td>\n",
       "      <td>0</td>\n",
       "      <td>0</td>\n",
       "      <td>0</td>\n",
       "      <td>1</td>\n",
       "      <td>0</td>\n",
       "      <td>0</td>\n",
       "      <td>0</td>\n",
       "      <td>0</td>\n",
       "    </tr>\n",
       "    <tr>\n",
       "      <th>4</th>\n",
       "      <td>command &amp; conquer</td>\n",
       "      <td>9.3</td>\n",
       "      <td>0</td>\n",
       "      <td>1</td>\n",
       "      <td>0</td>\n",
       "      <td>0</td>\n",
       "      <td>0</td>\n",
       "      <td>0</td>\n",
       "      <td>0</td>\n",
       "      <td>0</td>\n",
       "      <td>...</td>\n",
       "      <td>0</td>\n",
       "      <td>0</td>\n",
       "      <td>0</td>\n",
       "      <td>0</td>\n",
       "      <td>0</td>\n",
       "      <td>1</td>\n",
       "      <td>0</td>\n",
       "      <td>0</td>\n",
       "      <td>0</td>\n",
       "      <td>0</td>\n",
       "    </tr>\n",
       "  </tbody>\n",
       "</table>\n",
       "<p>5 rows × 89 columns</p>\n",
       "</div>"
      ],
      "text/plain": [
       "                name  score  release_date_1994  release_date_1995  \\\n",
       "0  command & conquer    9.3                  0                  1   \n",
       "1  command & conquer    9.3                  0                  1   \n",
       "2  command & conquer    9.3                  0                  1   \n",
       "3  command & conquer    9.3                  0                  1   \n",
       "4  command & conquer    9.3                  0                  1   \n",
       "\n",
       "   release_date_1996  release_date_1997  release_date_1998  release_date_1999  \\\n",
       "0                  0                  0                  0                  0   \n",
       "1                  0                  0                  0                  0   \n",
       "2                  0                  0                  0                  0   \n",
       "3                  0                  0                  0                  0   \n",
       "4                  0                  0                  0                  0   \n",
       "\n",
       "   release_date_2000  release_date_2001  ...  publishers_activision  \\\n",
       "0                  0                  0  ...                      0   \n",
       "1                  0                  0  ...                      0   \n",
       "2                  0                  0  ...                      0   \n",
       "3                  0                  0  ...                      0   \n",
       "4                  0                  0  ...                      0   \n",
       "\n",
       "   publishers_capcom  publishers_electronic arts  publishers_konami  \\\n",
       "0                  0                           0                  0   \n",
       "1                  0                           0                  0   \n",
       "2                  0                           0                  0   \n",
       "3                  0                           0                  0   \n",
       "4                  0                           0                  0   \n",
       "\n",
       "   publishers_midway  publishers_nintendo  publishers_sega  \\\n",
       "0                  0                    1                0   \n",
       "1                  0                    1                0   \n",
       "2                  0                    1                0   \n",
       "3                  0                    1                0   \n",
       "4                  0                    1                0   \n",
       "\n",
       "   publishers_square enix  publishers_thq  publishers_ubisoft  \n",
       "0                       0               0                   0  \n",
       "1                       0               0                   0  \n",
       "2                       0               0                   0  \n",
       "3                       0               0                   0  \n",
       "4                       0               0                   0  \n",
       "\n",
       "[5 rows x 89 columns]"
      ]
     },
     "execution_count": 7,
     "metadata": {},
     "output_type": "execute_result"
    }
   ],
   "source": [
    "gamespot_final_01 = gamespot_final.dropna()\n",
    "\n",
    "gamespot_final_01_dummies = pd.get_dummies(gamespot_final_01, \n",
    "                                           columns=[\"release_date\", \"region\", \"platform\", \n",
    "                                                    \"genres\", \"themes\", \"publishers\"],\n",
    "                                           drop_first=True)\n",
    "gamespot_final_01_dummies.head()"
   ]
  },
  {
   "cell_type": "markdown",
   "id": "42a99916",
   "metadata": {},
   "source": [
    "I will now split the data 70/30 into a train (70) and test (30) set. I will also use a random state so that the results can be reproduced."
   ]
  },
  {
   "cell_type": "code",
   "execution_count": 70,
   "id": "6e80755e",
   "metadata": {},
   "outputs": [],
   "source": [
    "x_01 = gamespot_final_01_dummies.loc[:, ~gamespot_final_01_dummies.columns.isin([\"name\", \"score\"])]\n",
    "y_01 = gamespot_final_01_dummies[\"score\"]\n",
    "\n",
    "x_train, x_test, y_train, y_test = train_test_split(x_01, y_01, test_size = 0.3, random_state=1)"
   ]
  },
  {
   "cell_type": "markdown",
   "id": "2204940d",
   "metadata": {},
   "source": [
    "Now I will setup a LinearRegression model and fit it with the training data."
   ]
  },
  {
   "cell_type": "code",
   "execution_count": 71,
   "id": "08313a62",
   "metadata": {},
   "outputs": [],
   "source": [
    "lm_01 = LinearRegression()\n",
    "lm_01 = lm_01.fit(x_train, y_train)"
   ]
  },
  {
   "cell_type": "markdown",
   "id": "25a8c74d",
   "metadata": {},
   "source": [
    "Now to predict the score and then calculate the R^2 and the RMSE"
   ]
  },
  {
   "cell_type": "code",
   "execution_count": 72,
   "id": "1fabc059",
   "metadata": {},
   "outputs": [
    {
     "data": {
      "text/plain": [
       "-1.0098370226603202e+24"
      ]
     },
     "execution_count": 72,
     "metadata": {},
     "output_type": "execute_result"
    }
   ],
   "source": [
    "y_test_p_01 = lm_01.predict(x_test)\n",
    "\n",
    "r2_score(y_test, y_test_p_01)"
   ]
  },
  {
   "cell_type": "code",
   "execution_count": 73,
   "id": "453d91d3",
   "metadata": {
    "scrolled": true
   },
   "outputs": [
    {
     "data": {
      "text/plain": [
       "1460024440373.5183"
      ]
     },
     "execution_count": 73,
     "metadata": {},
     "output_type": "execute_result"
    }
   ],
   "source": [
    "math.sqrt(mean_squared_error(y_test, y_test_p_01))"
   ]
  },
  {
   "cell_type": "markdown",
   "id": "87a49959",
   "metadata": {},
   "source": [
    "I got an R^2 of negative value and an RMSE of 1.5. A negative R2 indicates that basically none of the ratings are impacted by any of the predictors, which is as bad as it can be. The RMSE is 1.5, the average error in predicting the rating. This means that every prediction is at least 1.5 points off. I consider this pretty high because ratings are based on a 1-10 scale and a difference in rating of 1.5 points means a lot."
   ]
  },
  {
   "cell_type": "markdown",
   "id": "7723a853",
   "metadata": {},
   "source": [
    "Let's see if we can try and improve the model by doing multiple predictions with varying parameters.\n",
    "\n",
    "I'll be using all variables except publishers in this prediction to see if this positively impacts the model. 70/30 train/test set and random state for reproduction"
   ]
  },
  {
   "cell_type": "code",
   "execution_count": 29,
   "id": "563ebbd1",
   "metadata": {},
   "outputs": [],
   "source": [
    "gamespot_final_02 = gamespot_final.loc[:, ~gamespot_final.columns.isin([\"publishers\"])]\n",
    "\n",
    "gamespot_final_02 = gamespot_final_02[gamespot_final_02[\"genres\"].notna() \n",
    "                                      & gamespot_final_02[\"themes\"].notna()]\n",
    "\n",
    "gamespot_final_02_dummies = pd.get_dummies(gamespot_final_02, \n",
    "                                           columns=[\"release_date\", \"region\", \"platform\", \n",
    "                                                    \"genres\", \"themes\"],\n",
    "                                           drop_first=True)"
   ]
  },
  {
   "cell_type": "code",
   "execution_count": 30,
   "id": "fd78d0e0",
   "metadata": {},
   "outputs": [],
   "source": [
    "x_02 = gamespot_final_02_dummies.loc[:, ~gamespot_final_02_dummies.columns.isin([\"name\", \"score\"])]\n",
    "y_02 = gamespot_final_02_dummies[\"score\"]\n",
    "\n",
    "x_train, x_test, y_train, y_test = train_test_split(x_02, y_02, test_size = 0.3, random_state=2)"
   ]
  },
  {
   "cell_type": "code",
   "execution_count": 31,
   "id": "a9ad4d49",
   "metadata": {},
   "outputs": [],
   "source": [
    "lm_02 = LinearRegression()\n",
    "lm_02 = lm_02.fit(x_train, y_train)"
   ]
  },
  {
   "cell_type": "code",
   "execution_count": 32,
   "id": "0e2b13b3",
   "metadata": {},
   "outputs": [
    {
     "data": {
      "text/plain": [
       "-2.7542777415539913e+23"
      ]
     },
     "execution_count": 32,
     "metadata": {},
     "output_type": "execute_result"
    }
   ],
   "source": [
    "y_test_p_02 = lm_02.predict(x_test)\n",
    "\n",
    "r2_score(y_test, y_test_p_02)"
   ]
  },
  {
   "cell_type": "code",
   "execution_count": 33,
   "id": "60bc69a5",
   "metadata": {},
   "outputs": [
    {
     "data": {
      "text/plain": [
       "814649251290.401"
      ]
     },
     "execution_count": 33,
     "metadata": {},
     "output_type": "execute_result"
    }
   ],
   "source": [
    "math.sqrt(mean_squared_error(y_test, y_test_p_02))"
   ]
  },
  {
   "cell_type": "markdown",
   "id": "b1e56634",
   "metadata": {},
   "source": [
    "This is much worse. Still none of the ratings are impacted by the predictors and the average error increased to 8.1 points. Looks like excluding the publishers was not the right way to go.\n",
    "\n",
    "In this prediction I'll be using all variables except themes. I'm doing this for the same reason I exlcuded the publishers in the last model, to see if it has a positive effect on the model. 70/30 train/test set and random state for reproduction."
   ]
  },
  {
   "cell_type": "code",
   "execution_count": 34,
   "id": "2a3a824f",
   "metadata": {},
   "outputs": [],
   "source": [
    "gamespot_final_03 = gamespot_final.loc[:, ~gamespot_final.columns.isin([\"themes\"])]\n",
    "\n",
    "gamespot_final_03 = gamespot_final_03[gamespot_final_03[\"genres\"].notna() \n",
    "                                      & gamespot_final_03[\"publishers\"].notna()]\n",
    "\n",
    "gamespot_final_03_dummies = pd.get_dummies(gamespot_final_03, \n",
    "                                           columns=[\"release_date\", \"region\", \"platform\", \n",
    "                                                    \"genres\", \"publishers\"],\n",
    "                                           drop_first=True)"
   ]
  },
  {
   "cell_type": "code",
   "execution_count": 35,
   "id": "65f2d455",
   "metadata": {},
   "outputs": [],
   "source": [
    "x_03 = gamespot_final_03_dummies.loc[:, ~gamespot_final_03_dummies.columns.isin([\"name\", \"score\"])]\n",
    "y_03 = gamespot_final_03_dummies[\"score\"]\n",
    "\n",
    "x_train, x_test, y_train, y_test = train_test_split(x_03, y_03, test_size = 0.3, random_state=3)"
   ]
  },
  {
   "cell_type": "code",
   "execution_count": 36,
   "id": "ee06e297",
   "metadata": {},
   "outputs": [],
   "source": [
    "lm_03 = LinearRegression()\n",
    "lm_03 = lm_03.fit(x_train, y_train)"
   ]
  },
  {
   "cell_type": "code",
   "execution_count": 37,
   "id": "35002a11",
   "metadata": {},
   "outputs": [
    {
     "data": {
      "text/plain": [
       "-5.0569257705004584e+23"
      ]
     },
     "execution_count": 37,
     "metadata": {},
     "output_type": "execute_result"
    }
   ],
   "source": [
    "y_test_p_03 = lm_03.predict(x_test)\n",
    "\n",
    "r2_score(y_test, y_test_p_03)"
   ]
  },
  {
   "cell_type": "code",
   "execution_count": 38,
   "id": "4b85cb4f",
   "metadata": {},
   "outputs": [
    {
     "data": {
      "text/plain": [
       "1195634420084.7378"
      ]
     },
     "execution_count": 38,
     "metadata": {},
     "output_type": "execute_result"
    }
   ],
   "source": [
    "math.sqrt(mean_squared_error(y_test, y_test_p_03))"
   ]
  },
  {
   "cell_type": "markdown",
   "id": "b4ecb770",
   "metadata": {},
   "source": [
    "Th R2 is even worse than the second model. None of the ratings are impacted by the predictors and the average error remains high. Excluding the themes was not an improvement either. Hopefully the next model will be better."
   ]
  },
  {
   "cell_type": "markdown",
   "id": "870057d6",
   "metadata": {},
   "source": [
    "I'll exlcude both publishers and themes this time. Hopefully it has a positive effect this time. 70/30 train/test set and random state for reproduction."
   ]
  },
  {
   "cell_type": "code",
   "execution_count": 39,
   "id": "0af791cd",
   "metadata": {},
   "outputs": [],
   "source": [
    "gamespot_final_04 = gamespot_final.loc[:, ~gamespot_final.columns.isin([\"themes\", \"publishers\"])]\n",
    "\n",
    "gamespot_final_04 = gamespot_final_04[gamespot_final_04[\"genres\"].notna()]\n",
    "\n",
    "gamespot_final_04_dummies = pd.get_dummies(gamespot_final_04, \n",
    "                                           columns=[\"release_date\", \"region\", \"platform\", \n",
    "                                                    \"genres\"],\n",
    "                                           drop_first=True)"
   ]
  },
  {
   "cell_type": "code",
   "execution_count": 40,
   "id": "36530cd9",
   "metadata": {},
   "outputs": [],
   "source": [
    "x_04 = gamespot_final_04_dummies.loc[:, ~gamespot_final_04_dummies.columns.isin([\"name\", \"score\"])]\n",
    "y_04 = gamespot_final_04_dummies[\"score\"]\n",
    "\n",
    "x_train, x_test, y_train, y_test = train_test_split(x_04, y_04, test_size = 0.3, random_state=4)"
   ]
  },
  {
   "cell_type": "code",
   "execution_count": 41,
   "id": "c2f8741a",
   "metadata": {},
   "outputs": [],
   "source": [
    "lm_04 = LinearRegression()\n",
    "lm_04 = lm_04.fit(x_train, y_train)"
   ]
  },
  {
   "cell_type": "code",
   "execution_count": 42,
   "id": "a9a1c0b9",
   "metadata": {},
   "outputs": [
    {
     "data": {
      "text/plain": [
       "-8.297981646259461e+22"
      ]
     },
     "execution_count": 42,
     "metadata": {},
     "output_type": "execute_result"
    }
   ],
   "source": [
    "y_test_p_04 = lm_04.predict(x_test)\n",
    "\n",
    "r2_score(y_test, y_test_p_04)"
   ]
  },
  {
   "cell_type": "code",
   "execution_count": 43,
   "id": "0a4a8050",
   "metadata": {},
   "outputs": [
    {
     "data": {
      "text/plain": [
       "468622775155.19885"
      ]
     },
     "execution_count": 43,
     "metadata": {},
     "output_type": "execute_result"
    }
   ],
   "source": [
    "math.sqrt(mean_squared_error(y_test, y_test_p_04))"
   ]
  },
  {
   "cell_type": "markdown",
   "id": "b0572ebd",
   "metadata": {},
   "source": [
    "Too bad. It did not improve on the previous models at all. removing both publishers and themes had no positive effect whatsoever. But I'm not done yet there are still a few parameters I wish to try out."
   ]
  },
  {
   "cell_type": "markdown",
   "id": "2a342ce5",
   "metadata": {},
   "source": [
    "I will exclude release_date in the following prediction. 70/30 train/test set and random state for reproduction."
   ]
  },
  {
   "cell_type": "code",
   "execution_count": 49,
   "id": "9c0ed22b",
   "metadata": {
    "scrolled": true
   },
   "outputs": [],
   "source": [
    "gamespot_final_05 = gamespot_final.loc[:, ~gamespot_final.columns.isin([\"release_date\"])].dropna()\n",
    "\n",
    "gamespot_final_05_dummies = pd.get_dummies(gamespot_final_05, \n",
    "                                           columns=[\"region\", \"platform\", \n",
    "                                                    \"genres\", \"themes\", \"publishers\"],\n",
    "                                           drop_first=True)"
   ]
  },
  {
   "cell_type": "code",
   "execution_count": 50,
   "id": "f2c789e6",
   "metadata": {},
   "outputs": [],
   "source": [
    "x_05 = gamespot_final_05_dummies.loc[:, ~gamespot_final_05_dummies.columns.isin([\"name\", \"score\"])]\n",
    "y_05 = gamespot_final_05_dummies[\"score\"]\n",
    "\n",
    "x_train, x_test, y_train, y_test = train_test_split(x_05, y_05, test_size = 0.3, random_state=1)"
   ]
  },
  {
   "cell_type": "code",
   "execution_count": 51,
   "id": "2dbd049d",
   "metadata": {},
   "outputs": [],
   "source": [
    "lm_05 = LinearRegression()\n",
    "lm_05 = lm_05.fit(x_train, y_train)"
   ]
  },
  {
   "cell_type": "code",
   "execution_count": 52,
   "id": "0bf30b64",
   "metadata": {},
   "outputs": [
    {
     "data": {
      "text/plain": [
       "-1.8980163304457812e+24"
      ]
     },
     "execution_count": 52,
     "metadata": {},
     "output_type": "execute_result"
    }
   ],
   "source": [
    "y_test_p_05 = lm_05.predict(x_test)\n",
    "\n",
    "r2_score(y_test, y_test_p_05)"
   ]
  },
  {
   "cell_type": "code",
   "execution_count": 53,
   "id": "5d788157",
   "metadata": {
    "scrolled": true
   },
   "outputs": [
    {
     "data": {
      "text/plain": [
       "2001633006367.9402"
      ]
     },
     "execution_count": 53,
     "metadata": {},
     "output_type": "execute_result"
    }
   ],
   "source": [
    "math.sqrt(mean_squared_error(y_test, y_test_p_05))"
   ]
  },
  {
   "cell_type": "markdown",
   "id": "321296e2",
   "metadata": {},
   "source": [
    "It's still bad but at least it's less bad than the previous models, being more closer to the first model. But the R2 is still lower and the average error is much higher. I will try to predict one more time with this type of model but I don't expect it to change much, but who knows."
   ]
  },
  {
   "cell_type": "markdown",
   "id": "a8edc3c8",
   "metadata": {},
   "source": [
    "In this prediction I will exclude platform. 70/30 train/test set and random state for reproduction."
   ]
  },
  {
   "cell_type": "code",
   "execution_count": 88,
   "id": "8196cf31",
   "metadata": {
    "scrolled": true
   },
   "outputs": [],
   "source": [
    "gamespot_final_06 = gamespot_final.loc[:, ~gamespot_final.columns.isin([\"platform\"])].dropna()\n",
    "\n",
    "gamespot_final_06_dummies = pd.get_dummies(gamespot_final_06, \n",
    "                                           columns=[\"release_date\", \"region\", \n",
    "                                                    \"genres\", \"themes\", \"publishers\"],\n",
    "                                           drop_first=True)"
   ]
  },
  {
   "cell_type": "code",
   "execution_count": 89,
   "id": "ae1e2bf7",
   "metadata": {},
   "outputs": [],
   "source": [
    "x_06 = gamespot_final_06_dummies.loc[:, ~gamespot_final_06_dummies.columns.isin([\"name\", \"score\"])]\n",
    "y_06 = gamespot_final_06_dummies[\"score\"]\n",
    "\n",
    "x_train, x_test, y_train, y_test = train_test_split(x_06, y_06, test_size = 0.3, random_state=6)"
   ]
  },
  {
   "cell_type": "code",
   "execution_count": 90,
   "id": "a1943e9b",
   "metadata": {},
   "outputs": [],
   "source": [
    "lm_06 = LinearRegression()\n",
    "lm_06 = lm_06.fit(x_train, y_train)"
   ]
  },
  {
   "cell_type": "code",
   "execution_count": 91,
   "id": "0137b467",
   "metadata": {},
   "outputs": [
    {
     "data": {
      "text/plain": [
       "0.2370740526197863"
      ]
     },
     "execution_count": 91,
     "metadata": {},
     "output_type": "execute_result"
    }
   ],
   "source": [
    "y_test_p_06 = lm_06.predict(x_test)\n",
    "\n",
    "r2_score(y_test, y_test_p_06)"
   ]
  },
  {
   "cell_type": "code",
   "execution_count": 92,
   "id": "56b2c38c",
   "metadata": {
    "scrolled": true
   },
   "outputs": [
    {
     "data": {
      "text/plain": [
       "1.244977608569643"
      ]
     },
     "execution_count": 92,
     "metadata": {},
     "output_type": "execute_result"
    }
   ],
   "source": [
    "math.sqrt(mean_squared_error(y_test, y_test_p_06))"
   ]
  },
  {
   "cell_type": "markdown",
   "id": "14bc0f84",
   "metadata": {},
   "source": [
    "This is certainly an unexpected result! The R2 now says that 23% of  the ratings is impacted by the predictors. Which is very low, but significantly higher than any of the previous models! The RMSE is 1.2 which is one of the lowest average errors compared to the previous models. But it's still too high when you consider the 1-10 scale rating system Gamespot works with."
   ]
  },
  {
   "cell_type": "markdown",
   "id": "865026b8",
   "metadata": {},
   "source": [
    "Let's try one more time with a different model. I will be using Polynomial Regression for this one. The reason I want to try Polynomial is because the data could be in a curved shape. That would mean the data is not linear and applying Linear Regression would not be the right option, instead Polynomial would be the right model to use for such a case.\n",
    "\n",
    "I will only be using genres and a train/test set of 70/30 and will use a random state for reproduction."
   ]
  },
  {
   "cell_type": "code",
   "execution_count": 25,
   "id": "24149a4b",
   "metadata": {},
   "outputs": [],
   "source": [
    "gamespot_final_07 = gamespot_final.loc[:, ~gamespot_final.columns.isin([\"release_date\", \"region\", \n",
    "                                                    \"themes\", \"publishers\", \"platform\"])].dropna()\n",
    "\n",
    "gamespot_final_07_dummies = pd.get_dummies(gamespot_final_07, \n",
    "                                           columns=[\"genres\"], drop_first=True)"
   ]
  },
  {
   "cell_type": "code",
   "execution_count": 26,
   "id": "2fa44019",
   "metadata": {},
   "outputs": [],
   "source": [
    "x_07 = gamespot_final_07_dummies.loc[:, ~gamespot_final_07_dummies.columns.isin([\"name\", \"score\"])]\n",
    "y_07 = gamespot_final_07_dummies[\"score\"]\n",
    "\n",
    "x_train, x_test, y_train, y_test = train_test_split(x_07, y_07, test_size = 0.3, random_state=7)"
   ]
  },
  {
   "cell_type": "code",
   "execution_count": 27,
   "id": "8e11df47",
   "metadata": {},
   "outputs": [
    {
     "data": {
      "text/plain": [
       "LinearRegression()"
      ]
     },
     "execution_count": 27,
     "metadata": {},
     "output_type": "execute_result"
    }
   ],
   "source": [
    "poly = PolynomialFeatures(degree=2)\n",
    "x_poly = poly.fit_transform(x_test)\n",
    "\n",
    "poly.fit(x_poly, y_test)\n",
    "\n",
    "lm_07 = LinearRegression()\n",
    "lm_07.fit(x_poly, y_test)"
   ]
  },
  {
   "cell_type": "code",
   "execution_count": 28,
   "id": "e67494c0",
   "metadata": {},
   "outputs": [
    {
     "data": {
      "text/plain": [
       "0.04616143785196958"
      ]
     },
     "execution_count": 28,
     "metadata": {},
     "output_type": "execute_result"
    }
   ],
   "source": [
    "y_test_p_07 = lm_07.predict(poly.fit_transform(x_test))\n",
    "\n",
    "r2_score(y_test, y_test_p_07)"
   ]
  },
  {
   "cell_type": "code",
   "execution_count": 29,
   "id": "40dd3365",
   "metadata": {},
   "outputs": [
    {
     "data": {
      "text/plain": [
       "1.6070333258356437"
      ]
     },
     "execution_count": 29,
     "metadata": {},
     "output_type": "execute_result"
    }
   ],
   "source": [
    "math.sqrt(mean_squared_error(y_test, y_test_p_07))"
   ]
  },
  {
   "cell_type": "markdown",
   "id": "e910ed11",
   "metadata": {},
   "source": [
    "The R2 says that 4% of the ratings is impacted by the predictors. This is very low. The average error is 1.6 which I consider quite high. This is a bad model and using Polynomial instead of Linear Regression does not seem to make a big difference."
   ]
  },
  {
   "cell_type": "markdown",
   "id": "9521ad65",
   "metadata": {},
   "source": [
    "# Conclusion\n",
    "\n",
    "After numerous predictions with differing parameters using Linear and Polynomial Regression, it is clear that these variables are unuseful when trying to predict the rating of a game. I would not recommend these models to be applied on a professional level.\n",
    "\n",
    "This project however could be done again with a different/additional dataset where the sentiment of reviews can also be measured. I think that might yield more fruitful results than only checking on the genre of a game and who made the game."
   ]
  }
 ],
 "metadata": {
  "kernelspec": {
   "display_name": "Python 3",
   "language": "python",
   "name": "python3"
  },
  "language_info": {
   "codemirror_mode": {
    "name": "ipython",
    "version": 3
   },
   "file_extension": ".py",
   "mimetype": "text/x-python",
   "name": "python",
   "nbconvert_exporter": "python",
   "pygments_lexer": "ipython3",
   "version": "3.8.8"
  }
 },
 "nbformat": 4,
 "nbformat_minor": 5
}
